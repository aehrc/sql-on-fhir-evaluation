{
 "cells": [
  {
   "metadata": {},
   "cell_type": "markdown",
   "source": "# Compare mimiciv-derrived and mimic-fhir\n",
   "id": "ed4f8794936744b"
  },
  {
   "metadata": {
    "ExecuteTime": {
     "end_time": "2024-09-11T09:55:57.550926Z",
     "start_time": "2024-09-11T09:55:57.388192Z"
    }
   },
   "cell_type": "code",
   "source": [
    "import os\n",
    "\n",
    "from pathling import PathlingContext\n",
    "\n",
    "from sof import ViewCtx\n",
    "from sof.ptl import PtlSqlCtx\n",
    "from sof.duckdb import DuckDBSqlCtx\n",
    "\n",
    "BASE_DIR = os.path.abspath('..')\n",
    "VIEW_SRC_DIR = os.path.join(BASE_DIR, 'src')\n",
    "SPARK_CONF_DIR = os.path.join(BASE_DIR, 'env/spark-conf')\n",
    "MIMIC_FHIR_PATH = \"/Users/szu004/datasets/work/mimic-iv/mimic4-ptl\"\n",
    "print(f\"BASE_DIR: {BASE_DIR}\")"
   ],
   "id": "382b2d8e6ce4d7a3",
   "outputs": [
    {
     "name": "stdout",
     "output_type": "stream",
     "text": [
      "BASE_DIR: /Users/szu004/dev/sof-mimic\n"
     ]
    }
   ],
   "execution_count": 1
  },
  {
   "metadata": {},
   "cell_type": "markdown",
   "source": "",
   "id": "94dbb6243bf20b3"
  },
  {
   "metadata": {
    "ExecuteTime": {
     "end_time": "2024-09-11T09:56:03.478824Z",
     "start_time": "2024-09-11T09:55:57.556431Z"
    }
   },
   "cell_type": "code",
   "source": [
    "def create_ptl_sql_ctx():\n",
    "    os.environ['SPARK_CONF_DIR'] = SPARK_CONF_DIR\n",
    "    pc = PathlingContext.create()\n",
    "    spark = pc.spark\n",
    "    return PtlSqlCtx(spark=spark, ds=pc.read.parquet(MIMIC_FHIR_PATH))\n",
    "\n",
    "ptl_sql_ctx = create_ptl_sql_ctx()\n",
    "ptl_view_ctx = (ViewCtx.Builder(sql_ctx=ptl_sql_ctx)\n",
    "            .load_sof(os.path.join(VIEW_SRC_DIR, 'sof/*.json'))\n",
    "            .load_sql(os.path.join(VIEW_SRC_DIR, 'mimic-fhir/*.sql'))\n",
    "            .load_sql(os.path.join(VIEW_SRC_DIR, 'study/*.sql'))\n",
    "            .build())"
   ],
   "id": "e02965c000275746",
   "outputs": [
    {
     "name": "stdout",
     "output_type": "stream",
     "text": [
      ":: loading settings :: url = jar:file:/Users/szu004/miniconda3/envs/sof_mimic/lib/python3.11/site-packages/pyspark/jars/ivy-2.5.1.jar!/org/apache/ivy/core/settings/ivysettings.xml\n"
     ]
    },
    {
     "name": "stderr",
     "output_type": "stream",
     "text": [
      "Ivy Default Cache set to: /Users/szu004/.ivy2/cache\n",
      "The jars for the packages stored in: /Users/szu004/.ivy2/jars\n",
      "au.csiro.pathling#library-runtime added as a dependency\n",
      "io.delta#delta-spark_2.12 added as a dependency\n",
      "org.apache.hadoop#hadoop-aws added as a dependency\n",
      ":: resolving dependencies :: org.apache.spark#spark-submit-parent-d31d667f-f4b4-4057-a057-842a971ed122;1.0\n",
      "\tconfs: [default]\n",
      "\tfound au.csiro.pathling#library-runtime;7.1.0-SNAPSHOT in local-m2-cache\n",
      "\tfound io.delta#delta-spark_2.12;3.2.0 in local-m2-cache\n",
      "\tfound io.delta#delta-storage;3.2.0 in local-m2-cache\n",
      "\tfound org.antlr#antlr4-runtime;4.9.3 in local-m2-cache\n",
      "\tfound org.apache.hadoop#hadoop-aws;3.3.4 in local-m2-cache\n",
      "\tfound com.amazonaws#aws-java-sdk-bundle;1.12.262 in local-m2-cache\n",
      "\tfound org.wildfly.openssl#wildfly-openssl;1.0.7.Final in local-m2-cache\n",
      ":: resolution report :: resolve 125ms :: artifacts dl 6ms\n",
      "\t:: modules in use:\n",
      "\tau.csiro.pathling#library-runtime;7.1.0-SNAPSHOT from local-m2-cache in [default]\n",
      "\tcom.amazonaws#aws-java-sdk-bundle;1.12.262 from local-m2-cache in [default]\n",
      "\tio.delta#delta-spark_2.12;3.2.0 from local-m2-cache in [default]\n",
      "\tio.delta#delta-storage;3.2.0 from local-m2-cache in [default]\n",
      "\torg.antlr#antlr4-runtime;4.9.3 from local-m2-cache in [default]\n",
      "\torg.apache.hadoop#hadoop-aws;3.3.4 from local-m2-cache in [default]\n",
      "\torg.wildfly.openssl#wildfly-openssl;1.0.7.Final from local-m2-cache in [default]\n",
      "\t---------------------------------------------------------------------\n",
      "\t|                  |            modules            ||   artifacts   |\n",
      "\t|       conf       | number| search|dwnlded|evicted|| number|dwnlded|\n",
      "\t---------------------------------------------------------------------\n",
      "\t|      default     |   7   |   0   |   0   |   0   ||   7   |   0   |\n",
      "\t---------------------------------------------------------------------\n",
      ":: retrieving :: org.apache.spark#spark-submit-parent-d31d667f-f4b4-4057-a057-842a971ed122\n",
      "\tconfs: [default]\n",
      "\t0 artifacts copied, 7 already retrieved (0kB/3ms)\n"
     ]
    },
    {
     "name": "stdout",
     "output_type": "stream",
     "text": [
      "2024-09-11 19:55:58 WARN  NativeCodeLoader:60 - Unable to load native-hadoop library for your platform... using builtin-java classes where applicable\n",
      "2024-09-11 19:56:00 WARN  SimpleFunctionRegistry:72 - The function date_diff replaced a previously registered function.\n"
     ]
    },
    {
     "name": "stderr",
     "output_type": "stream",
     "text": [
      "                                                                                \r"
     ]
    }
   ],
   "execution_count": 2
  },
  {
   "metadata": {
    "ExecuteTime": {
     "end_time": "2024-09-11T09:56:03.654990Z",
     "start_time": "2024-09-11T09:56:03.570748Z"
    }
   },
   "cell_type": "code",
   "source": [
    "import duckdb\n",
    "def create_duck_sql_ctx():\n",
    "    duckdb.sql(\"ATTACH 'dbname=mimic4 user=szu004' AS db (TYPE POSTGRES, READ_ONLY)\")\n",
    "    duckdb.sql(\"USE db\")\n",
    "    return DuckDBSqlCtx()\n",
    "\n",
    "duck_sql_ctx = create_duck_sql_ctx()\n",
    "duck_view_ctx = (ViewCtx.Builder(sql_ctx=duck_sql_ctx)\n",
    "            .load_sql(os.path.join(VIEW_SRC_DIR, 'mimic-2.2/*.sql'))\n",
    "            .load_sql(os.path.join(VIEW_SRC_DIR, 'study/*.sql'))\n",
    "            .build())"
   ],
   "id": "4ef527f03ad2505a",
   "outputs": [],
   "execution_count": 3
  },
  {
   "metadata": {
    "ExecuteTime": {
     "end_time": "2024-09-11T09:56:03.661257Z",
     "start_time": "2024-09-11T09:56:03.659212Z"
    }
   },
   "cell_type": "code",
   "source": [
    "def compare(*views):\n",
    "    def do(query):\n",
    "        for view in views:\n",
    "            duck_view_ctx.get_view(view)\n",
    "            ptl_view_ctx.get_view(view)\n",
    "        print(\"DuckDB:\")       \n",
    "        print(duck_sql_ctx.select(query).to_df())\n",
    "        print(\"Ptl:\")\n",
    "        print(ptl_sql_ctx.select(query).toPandas())\n",
    "    return  do"
   ],
   "id": "d5a3fc71c686727d",
   "outputs": [],
   "execution_count": 4
  },
  {
   "metadata": {
    "ExecuteTime": {
     "end_time": "2024-09-11T09:56:10.246140Z",
     "start_time": "2024-09-11T09:56:03.665331Z"
    }
   },
   "cell_type": "code",
   "source": [
    "compare('md_icustay_detail')(\n",
    "\"\"\"\n",
    "SELECT COUNT(*) AS count_stays FROM md_icustay_detail\n",
    "\"\"\"\n",
    ")"
   ],
   "id": "a489357e8fc72069",
   "outputs": [
    {
     "name": "stdout",
     "output_type": "stream",
     "text": [
      "Creating SQL view md_icustay_detail, depends on: None\n",
      "Creating SOF view rv_icu_encounter\n",
      "2024-09-11 19:56:04 WARN  SparkStringUtils:72 - Truncated the string representation of a plan since it was too large. This behavior can be adjusted by setting 'spark.sql.debug.maxToStringFields'.\n",
      "Creating SQL view dv_icu_encounter, depends on: ['rv_icu_encounter']\n",
      "Creating SOF view rv_patient\n",
      "Creating SQL view dv_patient, depends on: ['rv_patient']\n",
      "Creating SQL view md_icustay_detail, depends on: ['dv_icu_encounter', 'dv_patient']\n",
      "2024-09-11 19:56:04 WARN  HiveConf:4122 - HiveConf of name hive.stats.jdbc.timeout does not exist\n",
      "2024-09-11 19:56:04 WARN  HiveConf:4122 - HiveConf of name hive.stats.retries.wait does not exist\n",
      "2024-09-11 19:56:05 WARN  ObjectStore:7812 - Version information not found in metastore. hive.metastore.schema.verification is not enabled so recording the schema version 2.3.0\n",
      "2024-09-11 19:56:05 WARN  ObjectStore:7900 - setMetaStoreSchemaVersion called but recording version is disabled: version = 2.3.0, comment = Set by MetaStore szu004@192.168.1.100\n",
      "2024-09-11 19:56:05 WARN  ObjectStore:723 - Failed to get database global_temp, returning NoSuchObjectException\n"
     ]
    },
    {
     "name": "stderr",
     "output_type": "stream",
     "text": [
      "                                                                                \r"
     ]
    },
    {
     "name": "stdout",
     "output_type": "stream",
     "text": [
      "2024-09-11 19:56:09 WARN  SessionState:907 - METASTORE_FILTER_HOOK will be ignored, since hive.security.authorization.manager is set to instance of HiveAuthorizerFactory.\n",
      "2024-09-11 19:56:09 WARN  HiveConf:4122 - HiveConf of name hive.internal.ss.authz.settings.applied.marker does not exist\n",
      "2024-09-11 19:56:09 WARN  HiveConf:4122 - HiveConf of name hive.stats.jdbc.timeout does not exist\n",
      "2024-09-11 19:56:09 WARN  HiveConf:4122 - HiveConf of name hive.stats.retries.wait does not exist\n",
      "DuckDB:\n",
      "   count_stays\n",
      "0        73181\n",
      "Ptl:\n",
      "   count_stays\n",
      "0        73181\n"
     ]
    }
   ],
   "execution_count": 5
  },
  {
   "metadata": {
    "ExecuteTime": {
     "end_time": "2024-09-11T09:56:10.427250Z",
     "start_time": "2024-09-11T09:56:10.253088Z"
    }
   },
   "cell_type": "code",
   "source": [
    "compare('md_icustay_detail')(\n",
    "\"\"\"\n",
    "SELECT COUNT(*) AS count_stays FROM md_icustay_detail WHERE (dischtime - admittime) < INTERVAL  '12 hours'\n",
    "\"\"\"\n",
    ")"
   ],
   "id": "2edb105f483431f7",
   "outputs": [
    {
     "name": "stdout",
     "output_type": "stream",
     "text": [
      "DuckDB:\n",
      "   count_stays\n",
      "0         3058\n",
      "Ptl:\n",
      "   count_stays\n",
      "0         3058\n"
     ]
    }
   ],
   "execution_count": 6
  },
  {
   "metadata": {
    "ExecuteTime": {
     "end_time": "2024-09-11T09:56:10.631243Z",
     "start_time": "2024-09-11T09:56:10.439580Z"
    }
   },
   "cell_type": "code",
   "source": [
    "compare('md_icustay_detail')(\n",
    "    \"\"\"\n",
    "    SELECT stay_id, admittime, dischtime, dischtime-admittime AS duration FROM md_icustay_detail ORDER BY admittime, dischtime LIMIT 10\n",
    "    \"\"\"\n",
    ")"
   ],
   "id": "c571a7c881783958",
   "outputs": [
    {
     "name": "stdout",
     "output_type": "stream",
     "text": [
      "DuckDB:\n",
      "    stay_id           admittime           dischtime        duration\n",
      "0  30588857 2110-01-11 10:16:06 2110-01-12 17:17:47 1 days 07:01:41\n",
      "1  38319097 2110-01-12 00:54:00 2110-01-14 22:07:39 2 days 21:13:39\n",
      "2  36817845 2110-01-13 09:09:40 2110-01-15 21:45:33 2 days 12:35:53\n",
      "3  39753527 2110-01-14 07:22:00 2110-01-15 13:08:36 1 days 05:46:36\n",
      "4  32140208 2110-01-17 00:28:00 2110-01-18 01:21:22 1 days 00:53:22\n",
      "5  38339174 2110-01-17 22:49:13 2110-01-18 17:18:51 0 days 18:29:38\n",
      "6  39953418 2110-01-18 14:46:27 2110-01-25 12:42:11 6 days 21:55:44\n",
      "7  34901199 2110-01-18 17:47:47 2110-01-20 22:25:09 2 days 04:37:22\n",
      "8  37546608 2110-01-20 14:01:00 2110-01-21 17:21:26 1 days 03:20:26\n",
      "9  37310703 2110-01-20 21:06:30 2110-01-22 16:08:24 1 days 19:01:54\n",
      "Ptl:\n",
      "                                          stay_id           admittime  \\\n",
      "0  Encounter/a70be676-f4ba-57f9-ab78-237ae71f66a1 2110-01-12 01:16:06   \n",
      "1  Encounter/0bad8340-3ac7-57f2-8cd6-c4347d1a077e 2110-01-12 15:54:00   \n",
      "2  Encounter/2d1167d1-a01c-50d7-9a9d-84dfa1e36c89 2110-01-14 00:09:40   \n",
      "3  Encounter/07ffee6d-1083-5798-82ca-a15eadb6a330 2110-01-14 22:22:00   \n",
      "4  Encounter/7093589b-807e-5ae8-8a82-e176ab5ab11f 2110-01-17 15:28:00   \n",
      "5  Encounter/b59f3b63-6af5-51f6-8315-396feb20bd09 2110-01-18 13:49:13   \n",
      "6  Encounter/02ef05db-de7c-58ee-9924-6aee9bf969b3 2110-01-19 05:46:27   \n",
      "7  Encounter/e6d8df7b-7e39-5b32-9cc0-e2834ad5ecb2 2110-01-19 08:47:47   \n",
      "8  Encounter/1e8887ca-5cd8-5233-a5db-7146850a96ed 2110-01-21 05:01:00   \n",
      "9  Encounter/21d7a1c4-9a8d-5aba-a3b8-06f8f5da506b 2110-01-21 12:06:30   \n",
      "\n",
      "            dischtime        duration  \n",
      "0 2110-01-13 08:17:47 1 days 07:01:41  \n",
      "1 2110-01-15 13:07:39 2 days 21:13:39  \n",
      "2 2110-01-16 12:45:33 2 days 12:35:53  \n",
      "3 2110-01-16 04:08:36 1 days 05:46:36  \n",
      "4 2110-01-18 16:21:22 1 days 00:53:22  \n",
      "5 2110-01-19 08:18:51 0 days 18:29:38  \n",
      "6 2110-01-26 03:42:11 6 days 21:55:44  \n",
      "7 2110-01-21 13:25:09 2 days 04:37:22  \n",
      "8 2110-01-22 08:21:26 1 days 03:20:26  \n",
      "9 2110-01-23 07:08:24 1 days 19:01:54  \n"
     ]
    }
   ],
   "execution_count": 7
  },
  {
   "metadata": {
    "ExecuteTime": {
     "end_time": "2024-09-11T09:56:10.893604Z",
     "start_time": "2024-09-11T09:56:10.640216Z"
    }
   },
   "cell_type": "code",
   "source": [
    "compare('md_icustay_detail')(\n",
    "    \"\"\"\n",
    "    SELECT race,COUNT(*) AS subject_count FROM md_icustay_detail WHERE race IS NOT NULL\n",
    "    GROUP BY race\n",
    "    ORDER BY subject_count DESC\n",
    "    \"\"\"\n",
    ")"
   ],
   "id": "53ccbc760c58b417",
   "outputs": [
    {
     "name": "stdout",
     "output_type": "stream",
     "text": [
      "DuckDB:\n",
      "       race  subject_count\n",
      "0     WHITE          49569\n",
      "1     BLACK           7960\n",
      "2  HISPANIC           2741\n",
      "3     ASIAN           2155\n",
      "Ptl:\n",
      "       race  subject_count\n",
      "0     WHITE          50512\n",
      "1     BLACK           7999\n",
      "2  HISPANIC           2842\n",
      "3     ASIAN           2188\n"
     ]
    }
   ],
   "execution_count": 8
  },
  {
   "metadata": {
    "ExecuteTime": {
     "end_time": "2024-09-11T09:56:11.073307Z",
     "start_time": "2024-09-11T09:56:10.900384Z"
    }
   },
   "cell_type": "code",
   "source": [
    "compare('md_icustay_detail')(\n",
    "    \"\"\"\n",
    "    SELECT race,COUNT(*) AS subject_count FROM md_icustay_detail WHERE race IS NOT NULL AND first_icu_stay AND first_hosp_stay\n",
    "    GROUP BY race\n",
    "    ORDER BY subject_count DESC\n",
    "    \"\"\"\n",
    ")"
   ],
   "id": "77827c21631e792d",
   "outputs": [
    {
     "name": "stdout",
     "output_type": "stream",
     "text": [
      "DuckDB:\n",
      "       race  subject_count\n",
      "0     WHITE          34204\n",
      "1     BLACK           4640\n",
      "2  HISPANIC           1735\n",
      "3     ASIAN           1496\n",
      "Ptl:\n",
      "       race  subject_count\n",
      "0     WHITE          34856\n",
      "1     BLACK           4677\n",
      "2  HISPANIC           1800\n",
      "3     ASIAN           1525\n"
     ]
    }
   ],
   "execution_count": 9
  },
  {
   "metadata": {
    "ExecuteTime": {
     "end_time": "2024-09-11T09:56:11.187378Z",
     "start_time": "2024-09-11T09:56:11.079039Z"
    }
   },
   "cell_type": "code",
   "source": [
    "compare('md_icustay_detail')(\n",
    "    \"\"\"\n",
    "    SELECT COUNT(*) AS count_stays FROM md_icustay_detail WHERE first_icu_stay AND first_hosp_stay\n",
    "    \"\"\"\n",
    ")"
   ],
   "id": "9f7cc886fa3a1428",
   "outputs": [
    {
     "name": "stdout",
     "output_type": "stream",
     "text": [
      "DuckDB:\n",
      "   count_stays\n",
      "0        50920\n",
      "Ptl:\n",
      "   count_stays\n",
      "0        50920\n"
     ]
    }
   ],
   "execution_count": 10
  },
  {
   "metadata": {
    "ExecuteTime": {
     "end_time": "2024-09-11T09:57:25.652936Z",
     "start_time": "2024-09-11T09:56:11.193792Z"
    }
   },
   "cell_type": "code",
   "source": [
    "compare('st_subject')(\n",
    "\"\"\"\n",
    "SELECT race_category,COUNT(*) AS subject_count FROM st_subject\n",
    "GROUP BY race_category\n",
    "ORDER BY subject_count DESC\n",
    "\"\"\"    \n",
    ")"
   ],
   "id": "dcfc69ab2fdf8979",
   "outputs": [
    {
     "name": "stdout",
     "output_type": "stream",
     "text": [
      "Creating SQL view md_oxygen_delivery, depends on: None\n",
      "Creating SQL view st_subject, depends on: ['md_icustay_detail', 'md_oxygen_delivery']\n",
      "Creating SOF view rv_obs_o2_flow\n",
      "Creating SQL view dv_obs_o2_flow, depends on: ['rv_obs_o2_flow']\n",
      "Creating SOF view rv_o2_delivery_device\n",
      "Creating SQL view dv_o2_delivery_device, depends on: ['rv_o2_delivery_device']\n",
      "Creating SQL view md_oxygen_delivery, depends on: ['dv_obs_o2_flow', 'dv_o2_delivery_device']\n"
     ]
    },
    {
     "name": "stderr",
     "output_type": "stream",
     "text": [
      "[Stage 45:>             (23 + 11) / 670][Stage 46:>               (0 + 0) / 670]\r"
     ]
    },
    {
     "name": "stdout",
     "output_type": "stream",
     "text": [
      "2024-09-11 19:56:13 WARN  GarbageCollectionMetrics:72 - To enable non-built-in garbage collector(s) List(G1 Concurrent GC), users should configure it(them) to spark.eventLog.gcMetrics.youngGenerationGarbageCollectors or spark.eventLog.gcMetrics.oldGenerationGarbageCollectors\n"
     ]
    },
    {
     "name": "stderr",
     "output_type": "stream",
     "text": [
      "                                                                                \r"
     ]
    },
    {
     "name": "stdout",
     "output_type": "stream",
     "text": [
      "Creating SQL view st_subject, depends on: ['md_icustay_detail', 'md_oxygen_delivery']\n",
      "DuckDB:\n",
      "  race_category  subject_count\n",
      "0         WHITE          31713\n",
      "1         BLACK           4284\n",
      "2      HISPANIC           1600\n",
      "3         ASIAN           1388\n",
      "Ptl:\n"
     ]
    },
    {
     "name": "stderr",
     "output_type": "stream",
     "text": [
      "[Stage 61:================================================>       (38 + 6) / 44]\r"
     ]
    },
    {
     "name": "stdout",
     "output_type": "stream",
     "text": [
      "  race_category  subject_count\n",
      "0         WHITE          32330\n",
      "1         BLACK           4317\n",
      "2      HISPANIC           1660\n",
      "3         ASIAN           1415\n"
     ]
    },
    {
     "name": "stderr",
     "output_type": "stream",
     "text": [
      "                                                                                \r"
     ]
    }
   ],
   "execution_count": 11
  },
  {
   "metadata": {
    "ExecuteTime": {
     "end_time": "2024-09-11T09:59:11.236508Z",
     "start_time": "2024-09-11T09:57:25.772114Z"
    }
   },
   "cell_type": "code",
   "source": [
    "compare('coh_subject')(\"\"\"\n",
    "SELECT race_category,COUNT(*) AS subject_count FROM coh_subject\n",
    "GROUP BY race_category\n",
    "ORDER BY subject_count DESC\n",
    "\"\"\")"
   ],
   "id": "3225d89e242fbcdb",
   "outputs": [
    {
     "name": "stdout",
     "output_type": "stream",
     "text": [
      "Creating SQL view stx_reading_o2_flow, depends on: ['md_oxygen_delivery', 'st_subject']\n",
      "Creating SQL view md_vitalsigns, depends on: None\n",
      "Creating SQL view stx_reading_spo2, depends on: ['st_subject', 'md_vitalsigns']\n",
      "Creating SQL view md_bg, depends on: None\n",
      "Creating SQL view stx_reading_so2, depends on: ['st_subject', 'md_bg']\n",
      "Creating SQL view coh_subject, depends on: ['st_subject', 'stx_reading_o2_flow', 'stx_reading_spo2', 'stx_reading_so2']\n",
      "Creating SQL view stx_reading_o2_flow, depends on: ['md_oxygen_delivery', 'st_subject']\n",
      "Creating SOF view rv_obs_vitalsigns\n",
      "Creating SQL view dv_obs_vitalsigns, depends on: ['rv_obs_vitalsigns']\n",
      "Creating SQL view md_vitalsigns, depends on: ['dv_obs_vitalsigns']\n"
     ]
    },
    {
     "name": "stderr",
     "output_type": "stream",
     "text": [
      "                                                                                \r"
     ]
    },
    {
     "name": "stdout",
     "output_type": "stream",
     "text": [
      "Creating SQL view stx_reading_spo2, depends on: ['st_subject', 'md_vitalsigns']\n",
      "Creating SOF view rv_obs_bg\n",
      "Creating SQL view dv_obs_bg, depends on: ['rv_obs_bg']\n",
      "Creating SQL view md_bg, depends on: ['dv_obs_bg']\n"
     ]
    },
    {
     "name": "stderr",
     "output_type": "stream",
     "text": [
      "                                                                                \r"
     ]
    },
    {
     "name": "stdout",
     "output_type": "stream",
     "text": [
      "Creating SQL view stx_reading_so2, depends on: ['st_subject', 'md_bg']\n",
      "Creating SQL view coh_subject, depends on: ['st_subject', 'stx_reading_o2_flow', 'stx_reading_spo2', 'stx_reading_so2']\n",
      "DuckDB:\n"
     ]
    },
    {
     "data": {
      "text/plain": [
       "FloatProgress(value=0.0, layout=Layout(width='auto'), style=ProgressStyle(bar_color='black'))"
      ],
      "application/vnd.jupyter.widget-view+json": {
       "version_major": 2,
       "version_minor": 0,
       "model_id": "2666ceee52fc4f00bd7a566303c36fd9"
      }
     },
     "metadata": {},
     "output_type": "display_data"
    },
    {
     "name": "stdout",
     "output_type": "stream",
     "text": [
      "  race_category  subject_count\n",
      "0         WHITE           5842\n",
      "1         BLACK            448\n",
      "2      HISPANIC            245\n",
      "3         ASIAN            189\n",
      "Ptl:\n"
     ]
    },
    {
     "name": "stderr",
     "output_type": "stream",
     "text": [
      "                                                                                \r"
     ]
    },
    {
     "name": "stdout",
     "output_type": "stream",
     "text": [
      "  race_category  subject_count\n",
      "0         WHITE           6017\n",
      "1         BLACK            457\n",
      "2      HISPANIC            250\n",
      "3         ASIAN            196\n"
     ]
    }
   ],
   "execution_count": 12
  },
  {
   "metadata": {
    "ExecuteTime": {
     "end_time": "2024-09-11T09:59:13.638979Z",
     "start_time": "2024-09-11T09:59:11.298473Z"
    }
   },
   "cell_type": "code",
   "source": [
    "compare('stx_reading_o2_flow')(\"\"\"\n",
    "SELECT COUNT(*) AS reading_count FROM stx_reading_o2_flow\n",
    "\"\"\")"
   ],
   "id": "b14729c68b946720",
   "outputs": [
    {
     "name": "stdout",
     "output_type": "stream",
     "text": [
      "DuckDB:\n",
      "   reading_count\n",
      "0         173079\n",
      "Ptl:\n"
     ]
    },
    {
     "name": "stderr",
     "output_type": "stream",
     "text": [
      "[Stage 146:=====================================================> (43 + 1) / 44]\r"
     ]
    },
    {
     "name": "stdout",
     "output_type": "stream",
     "text": [
      "   reading_count\n",
      "0         176356\n"
     ]
    },
    {
     "name": "stderr",
     "output_type": "stream",
     "text": [
      "                                                                                \r"
     ]
    }
   ],
   "execution_count": 13
  },
  {
   "metadata": {
    "ExecuteTime": {
     "end_time": "2024-09-11T09:59:15.801961Z",
     "start_time": "2024-09-11T09:59:13.645810Z"
    }
   },
   "cell_type": "code",
   "source": [
    "compare('stx_reading_so2')(\"\"\"\n",
    "SELECT COUNT(*) AS reading_count FROM stx_reading_so2\n",
    "\"\"\")"
   ],
   "id": "54cb539274025c2",
   "outputs": [
    {
     "name": "stdout",
     "output_type": "stream",
     "text": [
      "DuckDB:\n",
      "   reading_count\n",
      "0          32317\n",
      "Ptl:\n"
     ]
    },
    {
     "name": "stderr",
     "output_type": "stream",
     "text": [
      "[Stage 159:==================================================>    (10 + 1) / 11]\r"
     ]
    },
    {
     "name": "stdout",
     "output_type": "stream",
     "text": [
      "   reading_count\n",
      "0          33655\n"
     ]
    },
    {
     "name": "stderr",
     "output_type": "stream",
     "text": [
      "                                                                                \r"
     ]
    }
   ],
   "execution_count": 14
  },
  {
   "metadata": {
    "ExecuteTime": {
     "end_time": "2024-09-11T09:59:19.888394Z",
     "start_time": "2024-09-11T09:59:15.806446Z"
    }
   },
   "cell_type": "code",
   "source": [
    "compare('stx_reading_spo2')(\"\"\"\n",
    "SELECT COUNT(*) AS reading_count FROM stx_reading_spo2\n",
    "\"\"\")"
   ],
   "id": "6383e1a43e22e334",
   "outputs": [
    {
     "name": "stdout",
     "output_type": "stream",
     "text": [
      "DuckDB:\n",
      "   reading_count\n",
      "0        2255878\n",
      "Ptl:\n"
     ]
    },
    {
     "name": "stderr",
     "output_type": "stream",
     "text": [
      "                                                                                \r"
     ]
    },
    {
     "name": "stdout",
     "output_type": "stream",
     "text": [
      "   reading_count\n",
      "0        2302977\n"
     ]
    },
    {
     "name": "stderr",
     "output_type": "stream",
     "text": [
      "                                                                                \r"
     ]
    }
   ],
   "execution_count": 15
  }
 ],
 "metadata": {
  "kernelspec": {
   "display_name": "Python 3",
   "language": "python",
   "name": "python3"
  },
  "language_info": {
   "codemirror_mode": {
    "name": "ipython",
    "version": 2
   },
   "file_extension": ".py",
   "mimetype": "text/x-python",
   "name": "python",
   "nbconvert_exporter": "python",
   "pygments_lexer": "ipython2",
   "version": "2.7.6"
  }
 },
 "nbformat": 4,
 "nbformat_minor": 5
}
