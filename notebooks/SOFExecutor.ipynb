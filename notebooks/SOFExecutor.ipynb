{
 "cells": [
  {
   "cell_type": "code",
   "id": "initial_id",
   "metadata": {
    "collapsed": true
   },
   "source": [
    "import os\n",
    "from pathling import PathlingContext\n",
    "\n",
    "#MIMIC_FHIR_PATH=\"../_data/mimic4-demo-ptl\"\n",
    "MIMIC_FHIR_PATH = \"/Users/szu004/datasets/work/mimic-iv/mimic4-ptl\""
   ],
   "outputs": [],
   "execution_count": null
  },
  {
   "metadata": {},
   "cell_type": "code",
   "source": [
    "os.environ['SPARK_CONF_DIR'] = os.path.abspath('../env/spark-conf')\n",
    "pc = PathlingContext.create()\n",
    "spark = pc.spark\n",
    "print('spark.sql.ansi.enabled', spark.conf.get(\"spark.sql.ansi.enabled\"))\n",
    "print('spark.sql.timestampType', spark.conf.get(\"spark.sql.timestampType\"))\n",
    "data = pc.read.parquet(MIMIC_FHIR_PATH)"
   ],
   "id": "d193cda3f8b135ae",
   "outputs": [],
   "execution_count": null
  },
  {
   "metadata": {},
   "cell_type": "code",
   "source": [
    "import glob\n",
    "import json\n",
    "import re\n",
    "\n",
    "from typing import NamedTuple\n",
    "\n",
    "class ViewCtx(NamedTuple):\n",
    "    spark: 'SparkSession'\n",
    "    ds: 'DataSource'\n",
    "\n",
    "\n",
    "VIEW_CTX = ViewCtx(spark, data)\n",
    "\n",
    "class SOFView:\n",
    "    def __init__(self, view_def, name=None):\n",
    "        self._view_def = view_def\n",
    "        self._name = name or view_def['name']\n",
    "\n",
    "    def run(self, view_ctx):\n",
    "        print(f\"Creating SOF view {self._name}\")\n",
    "        view = view_ctx.ds.view(json=json.dumps(self._view_def))\n",
    "        view.cache().createOrReplaceTempView(self._name)\n",
    "\n",
    "    def select(self, view_ctx):\n",
    "        return view_ctx.spark.sql(f\"SELECT * FROM {self._name}\")\n",
    "\n",
    "    @classmethod\n",
    "    def from_file(cls, file_path):\n",
    "        with open(file_path) as f:\n",
    "            view_def = json.load(f)\n",
    "        return cls(view_def)\n",
    "\n",
    "for view_file in glob.glob('../src/sof/*.json'):\n",
    "    sof_view = SOFView.from_file(view_file)\n",
    "    sof_view.run(VIEW_CTX)\n",
    "\n",
    "\n",
    "class SQLView:\n",
    "    def __init__(self, sql, name, depends_on=None):\n",
    "        self._sql = sql\n",
    "        self._name = name\n",
    "\n",
    "    def run(self, view_ctx):\n",
    "        print(f\"Creating SQL view {self._name}\")\n",
    "        view_ctx.spark.sql(self._sql)\n",
    "\n",
    "    def select(self, view_ctx):\n",
    "        return view_ctx.spark.sql(f\"SELECT * FROM {self._name}\")\n",
    "\n",
    "\n",
    "    def cache(self, view_ctx):\n",
    "        return view_ctx.spark.sql(f\"CACHE LAZY TABLE {self._name};\")\n",
    "\n",
    "\n",
    "    def to_csv(self, view_ctx, file_path):\n",
    "        self.select(view_ctx).toPandas().to_csv(file_path, index = False)\n",
    "\n",
    "    @classmethod\n",
    "    def from_file(cls, file_path):\n",
    "        with open(file_path) as f:\n",
    "            sql = f.read()\n",
    "        match = re.search(r'CREATE OR REPLACE \\w* VIEW (\\w+) AS', sql)\n",
    "        match = match or re.search(r'CREATE TABLE (\\w+) AS', sql)\n",
    "        if not match:\n",
    "            raise ValueError(f\"Cannot find view name in {file_path}\")  \n",
    "        return cls(sql, match.group(1))\n",
    "\n",
    "for view_file in sorted(glob.glob('../src/sql/*.sql')):\n",
    "    sof_view = SQLView.from_file(view_file)\n",
    "    sof_view.run(VIEW_CTX)\n",
    "\n",
    "SQLView.from_file('../src/sql/md_icustay_detail.sql').cache(VIEW_CTX)\n",
    "SQLView.from_file('../src/sql/md_oxygen_delivery.sql').cache(VIEW_CTX)\n",
    "\n",
    "#SQLView.from_file('../src/sql/md_icustay_detail.sql').select(VIEW_CTX).show()\n",
    "#SQLView.from_file('../src/sql/dv_o2_delivery_device.sql').select(VIEW_CTX).show()\n",
    "\n",
    "\n",
    "SQLView.from_file('../src/sql/xcoh_subject.sql').to_csv(VIEW_CTX, '../data/fhir_mimic-2.2/subject.csv')\n",
    "SQLView.from_file('../src/sql/xcoh_x_reading_o2_flow.sql').to_csv(VIEW_CTX, '../data/fhir_mimic-2.2/reading_o2_flow.csv')"
   ],
   "id": "965ac26b592febcd",
   "outputs": [],
   "execution_count": null
  },
  {
   "metadata": {},
   "cell_type": "markdown",
   "source": "",
   "id": "7c9e48f498add09c"
  },
  {
   "metadata": {},
   "cell_type": "code",
   "source": "",
   "id": "903f6b003587411",
   "outputs": [],
   "execution_count": null
  }
 ],
 "metadata": {
  "kernelspec": {
   "display_name": "Python 3",
   "language": "python",
   "name": "python3"
  },
  "language_info": {
   "codemirror_mode": {
    "name": "ipython",
    "version": 2
   },
   "file_extension": ".py",
   "mimetype": "text/x-python",
   "name": "python",
   "nbconvert_exporter": "python",
   "pygments_lexer": "ipython2",
   "version": "2.7.6"
  }
 },
 "nbformat": 4,
 "nbformat_minor": 5
}
