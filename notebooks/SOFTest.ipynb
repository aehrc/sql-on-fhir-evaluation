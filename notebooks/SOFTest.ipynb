{
 "cells": [
  {
   "cell_type": "code",
   "id": "initial_id",
   "metadata": {
    "collapsed": true,
    "ExecuteTime": {
     "end_time": "2024-08-27T06:08:32.492401Z",
     "start_time": "2024-08-27T06:08:32.405398Z"
    }
   },
   "source": [
    "import os\n",
    "\n",
    "from pathling import PathlingContext\n",
    "from pyspark.sql.functions import lit\n",
    "\n",
    "MIMIC_FHIR_PATH=\"/Users/szu004/dev/mimic-vi-fhir/target/mimic4-demo-pqt\""
   ],
   "outputs": [],
   "execution_count": 1
  },
  {
   "metadata": {
    "ExecuteTime": {
     "end_time": "2024-08-27T06:08:35.459044Z",
     "start_time": "2024-08-27T06:08:32.493276Z"
    }
   },
   "cell_type": "code",
   "source": "pc = PathlingContext.create()",
   "id": "d193cda3f8b135ae",
   "outputs": [
    {
     "name": "stdout",
     "output_type": "stream",
     "text": [
      ":: loading settings :: url = jar:file:/Users/szu004/miniconda3/envs/sof_mimic/lib/python3.11/site-packages/pyspark/jars/ivy-2.5.1.jar!/org/apache/ivy/core/settings/ivysettings.xml\n"
     ]
    },
    {
     "name": "stderr",
     "output_type": "stream",
     "text": [
      "Ivy Default Cache set to: /Users/szu004/.ivy2/cache\n",
      "The jars for the packages stored in: /Users/szu004/.ivy2/jars\n",
      "au.csiro.pathling#library-runtime added as a dependency\n",
      "io.delta#delta-spark_2.12 added as a dependency\n",
      "org.apache.hadoop#hadoop-aws added as a dependency\n",
      ":: resolving dependencies :: org.apache.spark#spark-submit-parent-c63121ff-462a-4643-b887-b98d81a3b366;1.0\n",
      "\tconfs: [default]\n",
      "\tfound au.csiro.pathling#library-runtime;7.1.0-SNAPSHOT in local-m2-cache\n",
      "\tfound io.delta#delta-spark_2.12;3.2.0 in local-m2-cache\n",
      "\tfound io.delta#delta-storage;3.2.0 in local-m2-cache\n",
      "\tfound org.antlr#antlr4-runtime;4.9.3 in local-m2-cache\n",
      "\tfound org.apache.hadoop#hadoop-aws;3.3.4 in local-m2-cache\n",
      "\tfound com.amazonaws#aws-java-sdk-bundle;1.12.262 in local-m2-cache\n",
      "\tfound org.wildfly.openssl#wildfly-openssl;1.0.7.Final in local-m2-cache\n",
      ":: resolution report :: resolve 120ms :: artifacts dl 6ms\n",
      "\t:: modules in use:\n",
      "\tau.csiro.pathling#library-runtime;7.1.0-SNAPSHOT from local-m2-cache in [default]\n",
      "\tcom.amazonaws#aws-java-sdk-bundle;1.12.262 from local-m2-cache in [default]\n",
      "\tio.delta#delta-spark_2.12;3.2.0 from local-m2-cache in [default]\n",
      "\tio.delta#delta-storage;3.2.0 from local-m2-cache in [default]\n",
      "\torg.antlr#antlr4-runtime;4.9.3 from local-m2-cache in [default]\n",
      "\torg.apache.hadoop#hadoop-aws;3.3.4 from local-m2-cache in [default]\n",
      "\torg.wildfly.openssl#wildfly-openssl;1.0.7.Final from local-m2-cache in [default]\n",
      "\t---------------------------------------------------------------------\n",
      "\t|                  |            modules            ||   artifacts   |\n",
      "\t|       conf       | number| search|dwnlded|evicted|| number|dwnlded|\n",
      "\t---------------------------------------------------------------------\n",
      "\t|      default     |   7   |   0   |   0   |   0   ||   7   |   0   |\n",
      "\t---------------------------------------------------------------------\n",
      ":: retrieving :: org.apache.spark#spark-submit-parent-c63121ff-462a-4643-b887-b98d81a3b366\n",
      "\tconfs: [default]\n",
      "\t0 artifacts copied, 7 already retrieved (0kB/3ms)\n"
     ]
    },
    {
     "name": "stdout",
     "output_type": "stream",
     "text": [
      "2024-08-27 16:08:33 WARN  NativeCodeLoader:60 - Unable to load native-hadoop library for your platform... using builtin-java classes where applicable\n",
      "2024-08-27 16:08:35 INFO  Version:21 - HV000001: Hibernate Validator null\n",
      "2024-08-27 16:08:35 DEBUG AbstractConfigurationImpl:176 - Setting custom MessageInterpolator of type au.csiro.pathling.shaded.org.hibernate.validator.messageinterpolation.ParameterMessageInterpolator\n",
      "2024-08-27 16:08:35 DEBUG ValidationXmlParser:122 - Trying to load META-INF/validation.xml for XML based Validator configuration.\n",
      "2024-08-27 16:08:35 DEBUG ResourceLoaderHelper:61 - Trying to load META-INF/validation.xml via TCCL\n",
      "2024-08-27 16:08:35 DEBUG ResourceLoaderHelper:67 - Trying to load META-INF/validation.xml via Hibernate Validator's class loader\n",
      "2024-08-27 16:08:35 DEBUG ValidationXmlParser:129 - No META-INF/validation.xml found. Using annotation based configuration only.\n",
      "2024-08-27 16:08:35 DEBUG TraversableResolvers:61 - Cannot find jakarta.persistence.Persistence on classpath. Assuming non JPA 2 environment. All properties will per default be traversable.\n",
      "2024-08-27 16:08:35 DEBUG ValidatorFactoryConfigurationHelper:355 - HV000252: Using au.csiro.pathling.shaded.org.hibernate.validator.internal.engine.DefaultPropertyNodeNameProvider as property node name provider.\n",
      "2024-08-27 16:08:35 DEBUG ValidatorFactoryConfigurationHelper:447 - HV000234: Using au.csiro.pathling.shaded.org.hibernate.validator.messageinterpolation.ParameterMessageInterpolator as ValidatorFactory-scoped message interpolator.\n",
      "2024-08-27 16:08:35 DEBUG ValidatorFactoryConfigurationHelper:448 - HV000234: Using au.csiro.pathling.shaded.org.hibernate.validator.internal.engine.resolver.TraverseAllTraversableResolver as ValidatorFactory-scoped traversable resolver.\n",
      "2024-08-27 16:08:35 DEBUG ValidatorFactoryConfigurationHelper:449 - HV000234: Using au.csiro.pathling.shaded.org.hibernate.validator.internal.util.ExecutableParameterNameProvider as ValidatorFactory-scoped parameter name provider.\n",
      "2024-08-27 16:08:35 DEBUG ValidatorFactoryConfigurationHelper:450 - HV000234: Using au.csiro.pathling.shaded.org.hibernate.validator.internal.engine.DefaultClockProvider as ValidatorFactory-scoped clock provider.\n",
      "2024-08-27 16:08:35 DEBUG ValidatorFactoryConfigurationHelper:451 - HV000234: Using au.csiro.pathling.shaded.org.hibernate.validator.internal.engine.scripting.DefaultScriptEvaluatorFactory as ValidatorFactory-scoped script evaluator factory.\n",
      "2024-08-27 16:08:35 DEBUG ConstraintDescriptorImpl:646 - Adding composing constraint: ConstraintDescriptorImpl{annotation=j.v.c.Pattern, payloads=[], hasComposingConstraints=true, isReportAsSingleInvalidConstraint=false, constraintLocationKind=FIELD, definedOn=DEFINED_LOCALLY, groups=[interface jakarta.validation.groups.Default], attributes={flags=[Ljakarta.validation.constraints.Pattern$Flag;@7cca1596, groups=[Ljava.lang.Class;@1ffd9b69, regexp=.*, message={jakarta.validation.constraints.Pattern.message}, payload=[Ljava.lang.Class;@2175e9ad}, constraintType=GENERIC, valueUnwrapping=DEFAULT}.\n",
      "2024-08-27 16:08:35 DEBUG ConstraintDescriptorImpl:646 - Adding composing constraint: ConstraintDescriptorImpl{annotation=j.v.c.Pattern, payloads=[], hasComposingConstraints=true, isReportAsSingleInvalidConstraint=false, constraintLocationKind=FIELD, definedOn=DEFINED_LOCALLY, groups=[interface jakarta.validation.groups.Default], attributes={flags=[Ljakarta.validation.constraints.Pattern$Flag;@7cca1596, groups=[Ljava.lang.Class;@31c297a3, regexp=.*, message={jakarta.validation.constraints.Pattern.message}, payload=[Ljava.lang.Class;@7e2ae2}, constraintType=GENERIC, valueUnwrapping=DEFAULT}.\n",
      "2024-08-27 16:08:35 WARN  SimpleFunctionRegistry:72 - The function date_diff replaced a previously registered function.\n"
     ]
    }
   ],
   "execution_count": 2
  },
  {
   "metadata": {
    "ExecuteTime": {
     "end_time": "2024-08-27T06:08:37.713274Z",
     "start_time": "2024-08-27T06:08:35.459705Z"
    }
   },
   "cell_type": "code",
   "source": [
    "data = pc.read.parquet(MIMIC_FHIR_PATH)\n",
    "data.read('Patient').show()"
   ],
   "id": "20f2fbf1c30928d2",
   "outputs": [
    {
     "name": "stdout",
     "output_type": "stream",
     "text": [
      "2024-08-27 16:08:36 WARN  SparkStringUtils:72 - Truncated the string representation of a plan since it was too large. This behavior can be adjusted by setting 'spark.sql.debug.maxToStringFields'.\n"
     ]
    },
    {
     "name": "stderr",
     "output_type": "stream",
     "text": [
      "                                                                                \r"
     ]
    },
    {
     "name": "stdout",
     "output_type": "stream",
     "text": [
      "+--------------------+--------------------+--------------------+-------------+--------+----+--------------------+------+--------------------+-------+------+----------+---------------+----------------+-------+--------------------+--------------------+--------------------+-----+-------+--------------------+-------------------+--------------------+----+----------+--------------------+\n",
      "|                  id|        id_versioned|                meta|implicitRules|language|text|          identifier|active|                name|telecom|gender| birthDate|deceasedBoolean|deceasedDateTime|address|       maritalStatus|multipleBirthBoolean|multipleBirthInteger|photo|contact|       communication|generalPractitioner|managingOrganization|link|      _fid|          _extension|\n",
      "+--------------------+--------------------+--------------------+-------------+--------+----+--------------------+------+--------------------+-------+------+----------+---------------+----------------+-------+--------------------+--------------------+--------------------+-----+-------+--------------------+-------------------+--------------------+----+----------+--------------------+\n",
      "|28dcf33b-0c52-587...|Patient/28dcf33b-...|{NULL, NULL, NULL...|         NULL|    NULL|NULL|[{NULL, NULL, NUL...|  NULL|[{NULL, official,...|   NULL|female|2083-04-10|           NULL|            NULL|   NULL|{NULL, [{NULL, ht...|                NULL|                NULL| NULL|   NULL|[{NULL, {NULL, [{...|               NULL|{NULL, Organizati...|NULL|1337236761|{1337236761 -> [{...|\n",
      "|74a2fd87-885b-5ec...|Patient/74a2fd87-...|{NULL, NULL, NULL...|         NULL|    NULL|NULL|[{NULL, NULL, NUL...|  NULL|[{NULL, official,...|   NULL|female|2070-04-05|           NULL|            NULL|   NULL|{NULL, [{NULL, ht...|                NULL|                NULL| NULL|   NULL|[{NULL, {NULL, [{...|               NULL|{NULL, Organizati...|NULL| 221804203|{221804203 -> [{N...|\n",
      "|51d2190c-cc46-56c...|Patient/51d2190c-...|{NULL, NULL, NULL...|         NULL|    NULL|NULL|[{NULL, NULL, NUL...|  NULL|[{NULL, official,...|   NULL|  male|2095-09-17|           NULL|            NULL|   NULL|{NULL, [{NULL, ht...|                NULL|                NULL| NULL|   NULL|                NULL|               NULL|{NULL, Organizati...|NULL|1514010529|{1514010529 -> [{...|\n",
      "|c4c29979-f2f5-56d...|Patient/c4c29979-...|{NULL, NULL, NULL...|         NULL|    NULL|NULL|[{NULL, NULL, NUL...|  NULL|[{NULL, official,...|   NULL|  male|2079-12-15|           NULL|            NULL|   NULL|{NULL, [{NULL, ht...|                NULL|                NULL| NULL|   NULL|[{NULL, {NULL, [{...|               NULL|{NULL, Organizati...|NULL|1456951991|{1456951991 -> [{...|\n",
      "|b410dd44-7d65-56f...|Patient/b410dd44-...|{NULL, NULL, NULL...|         NULL|    NULL|NULL|[{NULL, NULL, NUL...|  NULL|[{NULL, official,...|   NULL|  male|2075-09-17|           NULL|            NULL|   NULL|{NULL, [{NULL, ht...|                NULL|                NULL| NULL|   NULL|[{NULL, {NULL, [{...|               NULL|{NULL, Organizati...|NULL| 129607254|{129607254 -> [{N...|\n",
      "|a3a12d01-dc21-565...|Patient/a3a12d01-...|{NULL, NULL, NULL...|         NULL|    NULL|NULL|[{NULL, NULL, NUL...|  NULL|[{NULL, official,...|   NULL|  male|2090-01-02|           NULL|            NULL|   NULL|{NULL, [{NULL, ht...|                NULL|                NULL| NULL|   NULL|[{NULL, {NULL, [{...|               NULL|{NULL, Organizati...|NULL|1981375367|{1981375367 -> [{...|\n",
      "|807d2a03-9c57-55e...|Patient/807d2a03-...|{NULL, NULL, NULL...|         NULL|    NULL|NULL|[{NULL, NULL, NUL...|  NULL|[{NULL, official,...|   NULL|female|2106-08-21|           NULL|            NULL|   NULL|{NULL, [{NULL, ht...|                NULL|                NULL| NULL|   NULL|[{NULL, {NULL, [{...|               NULL|{NULL, Organizati...|NULL|2143104480|{2143104480 -> [{...|\n",
      "|77e10fd0-6a1c-554...|Patient/77e10fd0-...|{NULL, NULL, NULL...|         NULL|    NULL|NULL|[{NULL, NULL, NUL...|  NULL|[{NULL, official,...|   NULL|female|2062-06-05|           NULL|      2137-09-02|   NULL|{NULL, [{NULL, ht...|                NULL|                NULL| NULL|   NULL|[{NULL, {NULL, [{...|               NULL|{NULL, Organizati...|NULL| 239030945|{239030945 -> [{N...|\n",
      "|aeda7084-be35-510...|Patient/aeda7084-...|{NULL, NULL, NULL...|         NULL|    NULL|NULL|[{NULL, NULL, NUL...|  NULL|[{NULL, official,...|   NULL|female|2106-01-14|           NULL|            NULL|   NULL|{NULL, [{NULL, ht...|                NULL|                NULL| NULL|   NULL|                NULL|               NULL|{NULL, Organizati...|NULL|2062202588|{2062202588 -> [{...|\n",
      "|5f3dcdb5-bd27-58f...|Patient/5f3dcdb5-...|{NULL, NULL, NULL...|         NULL|    NULL|NULL|[{NULL, NULL, NUL...|  NULL|[{NULL, official,...|   NULL|  male|2086-05-22|           NULL|            NULL|   NULL|{NULL, [{NULL, ht...|                NULL|                NULL| NULL|   NULL|[{NULL, {NULL, [{...|               NULL|{NULL, Organizati...|NULL|1184096883|{1184096883 -> [{...|\n",
      "|2955c958-192a-50e...|Patient/2955c958-...|{NULL, NULL, NULL...|         NULL|    NULL|NULL|[{NULL, NULL, NUL...|  NULL|[{NULL, official,...|   NULL|female|2120-07-03|           NULL|            NULL|   NULL|{NULL, [{NULL, ht...|                NULL|                NULL| NULL|   NULL|[{NULL, {NULL, [{...|               NULL|{NULL, Organizati...|NULL| 587951963|{587951963 -> [{N...|\n",
      "|71a27b6b-5e41-509...|Patient/71a27b6b-...|{NULL, NULL, NULL...|         NULL|    NULL|NULL|[{NULL, NULL, NUL...|  NULL|[{NULL, official,...|   NULL|female|2071-02-05|           NULL|            NULL|   NULL|{NULL, [{NULL, ht...|                NULL|                NULL| NULL|   NULL|[{NULL, {NULL, [{...|               NULL|{NULL, Organizati...|NULL| 428709097|{428709097 -> [{N...|\n",
      "|d378a59b-aa80-5bc...|Patient/d378a59b-...|{NULL, NULL, NULL...|         NULL|    NULL|NULL|[{NULL, NULL, NUL...|  NULL|[{NULL, official,...|   NULL|female|2069-07-01|           NULL|            NULL|   NULL|{NULL, [{NULL, ht...|                NULL|                NULL| NULL|   NULL|[{NULL, {NULL, [{...|               NULL|{NULL, Organizati...|NULL|1146624064|{1146624064 -> [{...|\n",
      "|42f0ed8f-d744-5ed...|Patient/42f0ed8f-...|{NULL, NULL, NULL...|         NULL|    NULL|NULL|[{NULL, NULL, NUL...|  NULL|[{NULL, official,...|   NULL|  male|2096-11-07|           NULL|            NULL|   NULL|{NULL, [{NULL, ht...|                NULL|                NULL| NULL|   NULL|[{NULL, {NULL, [{...|               NULL|{NULL, Organizati...|NULL| 460693383|{460693383 -> [{N...|\n",
      "|e635f2dd-aaec-5fe...|Patient/e635f2dd-...|{NULL, NULL, NULL...|         NULL|    NULL|NULL|[{NULL, NULL, NUL...|  NULL|[{NULL, official,...|   NULL|  male|2115-11-02|           NULL|            NULL|   NULL|{NULL, [{NULL, ht...|                NULL|                NULL| NULL|   NULL|[{NULL, {NULL, [{...|               NULL|{NULL, Organizati...|NULL|1302035373|{1302035373 -> [{...|\n",
      "|a7bbf9a2-f7fe-581...|Patient/a7bbf9a2-...|{NULL, NULL, NULL...|         NULL|    NULL|NULL|[{NULL, NULL, NUL...|  NULL|[{NULL, official,...|   NULL|  male|2059-11-13|           NULL|      2111-11-15|   NULL|{NULL, [{NULL, ht...|                NULL|                NULL| NULL|   NULL|[{NULL, {NULL, [{...|               NULL|{NULL, Organizati...|NULL|1184922228|{1184922228 -> [{...|\n",
      "|b7b92f05-c913-5a9...|Patient/b7b92f05-...|{NULL, NULL, NULL...|         NULL|    NULL|NULL|[{NULL, NULL, NUL...|  NULL|[{NULL, official,...|   NULL|  male|2099-11-15|           NULL|            NULL|   NULL|{NULL, [{NULL, ht...|                NULL|                NULL| NULL|   NULL|[{NULL, {NULL, [{...|               NULL|{NULL, Organizati...|NULL|1266423169|{1266423169 -> [{...|\n",
      "|53b0f2d8-24dc-5c8...|Patient/53b0f2d8-...|{NULL, NULL, NULL...|         NULL|    NULL|NULL|[{NULL, NULL, NUL...|  NULL|[{NULL, official,...|   NULL|female|2074-08-10|           NULL|            NULL|   NULL|{NULL, [{NULL, ht...|                NULL|                NULL| NULL|   NULL|                NULL|               NULL|{NULL, Organizati...|NULL|1671331504|{1671331504 -> [{...|\n",
      "|91f25704-6153-525...|Patient/91f25704-...|{NULL, NULL, NULL...|         NULL|    NULL|NULL|[{NULL, NULL, NUL...|  NULL|[{NULL, official,...|   NULL|female|2083-12-21|           NULL|      2155-12-03|   NULL|{NULL, [{NULL, ht...|                NULL|                NULL| NULL|   NULL|[{NULL, {NULL, [{...|               NULL|{NULL, Organizati...|NULL|1363277862|{1363277862 -> [{...|\n",
      "|f3fc719c-f6e0-5c2...|Patient/f3fc719c-...|{NULL, NULL, NULL...|         NULL|    NULL|NULL|[{NULL, NULL, NUL...|  NULL|[{NULL, official,...|   NULL|female|2104-02-27|           NULL|            NULL|   NULL|{NULL, [{NULL, ht...|                NULL|                NULL| NULL|   NULL|[{NULL, {NULL, [{...|               NULL|{NULL, Organizati...|NULL|1541624005|{1541624005 -> [{...|\n",
      "+--------------------+--------------------+--------------------+-------------+--------+----+--------------------+------+--------------------+-------+------+----------+---------------+----------------+-------+--------------------+--------------------+--------------------+-----+-------+--------------------+-------------------+--------------------+----+----------+--------------------+\n",
      "only showing top 20 rows\n",
      "\n"
     ]
    }
   ],
   "execution_count": 3
  },
  {
   "metadata": {
    "ExecuteTime": {
     "end_time": "2024-08-27T06:39:31.446399Z",
     "start_time": "2024-08-27T06:39:31.359671Z"
    }
   },
   "cell_type": "code",
   "source": [
    "ptn_view = data.view('Patient', \n",
    "    select = [\n",
    "        {\n",
    "            \"column\": [\n",
    "                {\n",
    "                    \"name\": \"id\",\n",
    "                    \"path\": \"id\",\n",
    "                    \"collection\": False\n",
    "                },\n",
    "                {\n",
    "                    \"name\": \"gender\",\n",
    "                    \"path\": \"gender\",\n",
    "                    \"collection\": False\n",
    "                },\n",
    "                {\n",
    "                    \"name\": \"race\",\n",
    "                    \"path\": \"extension('http://hl7.org/fhir/us/core/StructureDefinition/us-core-race').extension('text').value.ofType(string)\",\n",
    "                    \"collection\": False\n",
    "                },\n",
    "                {\n",
    "                    \"name\": \"ethnicity\",\n",
    "                    \"path\": \"extension('http://hl7.org/fhir/us/core/StructureDefinition/us-core-ethnicity').extension('text').value.ofType(string)\",\n",
    "                    \"collection\": False\n",
    "                },\n",
    "                \n",
    "            ]\n",
    "        }\n",
    "    ]\n",
    ")\n",
    "\n",
    "ptn_view.show()"
   ],
   "id": "8e3a5b23f5f7746a",
   "outputs": [
    {
     "name": "stdout",
     "output_type": "stream",
     "text": [
      "+--------------------+------+--------------------+--------------------+\n",
      "|                  id|gender|                race|           ethnicity|\n",
      "+--------------------+------+--------------------+--------------------+\n",
      "|28dcf33b-0c52-587...|female|               White|Not Hispanic or L...|\n",
      "|74a2fd87-885b-5ec...|female|               White|Not Hispanic or L...|\n",
      "|51d2190c-cc46-56c...|  male|               White|  Hispanic or Latino|\n",
      "|c4c29979-f2f5-56d...|  male|               White|  Hispanic or Latino|\n",
      "|b410dd44-7d65-56f...|  male|               White|Not Hispanic or L...|\n",
      "|a3a12d01-dc21-565...|  male|               White|Not Hispanic or L...|\n",
      "|807d2a03-9c57-55e...|female|             unknown|                NULL|\n",
      "|77e10fd0-6a1c-554...|female|Black or African ...|Not Hispanic or L...|\n",
      "|aeda7084-be35-510...|female|               White|  Hispanic or Latino|\n",
      "|5f3dcdb5-bd27-58f...|  male|               White|Not Hispanic or L...|\n",
      "|2955c958-192a-50e...|female|Black or African ...|Not Hispanic or L...|\n",
      "|71a27b6b-5e41-509...|female|               White|Not Hispanic or L...|\n",
      "|d378a59b-aa80-5bc...|female|             unknown|                NULL|\n",
      "|42f0ed8f-d744-5ed...|  male|               White|Not Hispanic or L...|\n",
      "|e635f2dd-aaec-5fe...|  male|               White|Not Hispanic or L...|\n",
      "|a7bbf9a2-f7fe-581...|  male|             unknown|                NULL|\n",
      "|b7b92f05-c913-5a9...|  male|               White|Not Hispanic or L...|\n",
      "|53b0f2d8-24dc-5c8...|female|               White|  Hispanic or Latino|\n",
      "|91f25704-6153-525...|female|               White|Not Hispanic or L...|\n",
      "|f3fc719c-f6e0-5c2...|female|               White|Not Hispanic or L...|\n",
      "+--------------------+------+--------------------+--------------------+\n",
      "only showing top 20 rows\n",
      "\n"
     ]
    }
   ],
   "execution_count": 16
  },
  {
   "metadata": {
    "ExecuteTime": {
     "end_time": "2024-08-27T06:20:54.566796Z",
     "start_time": "2024-08-27T06:20:54.275553Z"
    }
   },
   "cell_type": "code",
   "source": "ptn_view.select('race').distinct().show()",
   "id": "2fe04d579523f630",
   "outputs": [
    {
     "name": "stdout",
     "output_type": "stream",
     "text": [
      "+--------------------+\n",
      "|                race|\n",
      "+--------------------+\n",
      "|   asked but unknown|\n",
      "|             unknown|\n",
      "|               White|\n",
      "|Black or African ...|\n",
      "+--------------------+\n",
      "\n"
     ]
    }
   ],
   "execution_count": 14
  }
 ],
 "metadata": {
  "kernelspec": {
   "display_name": "Python 3",
   "language": "python",
   "name": "python3"
  },
  "language_info": {
   "codemirror_mode": {
    "name": "ipython",
    "version": 2
   },
   "file_extension": ".py",
   "mimetype": "text/x-python",
   "name": "python",
   "nbconvert_exporter": "python",
   "pygments_lexer": "ipython2",
   "version": "2.7.6"
  }
 },
 "nbformat": 4,
 "nbformat_minor": 5
}
