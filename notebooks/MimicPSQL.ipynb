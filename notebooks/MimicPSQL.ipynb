{
 "cells": [
  {
   "cell_type": "code",
   "id": "initial_id",
   "metadata": {
    "collapsed": true,
    "ExecuteTime": {
     "end_time": "2024-08-22T05:27:39.183696Z",
     "start_time": "2024-08-22T05:27:39.165031Z"
    }
   },
   "source": [
    "import duckdb\n",
    "duckdb.sql(\"ATTACH 'dbname=mimic4 user=szu004' AS db (TYPE POSTGRES, READ_ONLY)\")\n",
    "duckdb.sql(\"USE db\")"
   ],
   "outputs": [
    {
     "ename": "BinderException",
     "evalue": "Binder Error: Failed to attach database: database with name \"db\" already exists",
     "output_type": "error",
     "traceback": [
      "\u001B[0;31m---------------------------------------------------------------------------\u001B[0m",
      "\u001B[0;31mBinderException\u001B[0m                           Traceback (most recent call last)",
      "Cell \u001B[0;32mIn[56], line 2\u001B[0m\n\u001B[1;32m      1\u001B[0m \u001B[38;5;28;01mimport\u001B[39;00m \u001B[38;5;21;01mduckdb\u001B[39;00m\n\u001B[0;32m----> 2\u001B[0m \u001B[43mduckdb\u001B[49m\u001B[38;5;241;43m.\u001B[39;49m\u001B[43msql\u001B[49m\u001B[43m(\u001B[49m\u001B[38;5;124;43m\"\u001B[39;49m\u001B[38;5;124;43mATTACH \u001B[39;49m\u001B[38;5;124;43m'\u001B[39;49m\u001B[38;5;124;43mdbname=mimic4 user=szu004\u001B[39;49m\u001B[38;5;124;43m'\u001B[39;49m\u001B[38;5;124;43m AS db (TYPE POSTGRES, READ_ONLY)\u001B[39;49m\u001B[38;5;124;43m\"\u001B[39;49m\u001B[43m)\u001B[49m\n\u001B[1;32m      3\u001B[0m duckdb\u001B[38;5;241m.\u001B[39msql(\u001B[38;5;124m\"\u001B[39m\u001B[38;5;124mUSE db\u001B[39m\u001B[38;5;124m\"\u001B[39m)\n",
      "File \u001B[0;32m~/miniconda3/envs/mimic/lib/python3.11/site-packages/duckdb/__init__.py:457\u001B[0m, in \u001B[0;36msql\u001B[0;34m(query, **kwargs)\u001B[0m\n\u001B[1;32m    455\u001B[0m \u001B[38;5;28;01melse\u001B[39;00m:\n\u001B[1;32m    456\u001B[0m     conn \u001B[38;5;241m=\u001B[39m duckdb\u001B[38;5;241m.\u001B[39mconnect(\u001B[38;5;124m\"\u001B[39m\u001B[38;5;124m:default:\u001B[39m\u001B[38;5;124m\"\u001B[39m)\n\u001B[0;32m--> 457\u001B[0m \u001B[38;5;28;01mreturn\u001B[39;00m \u001B[43mconn\u001B[49m\u001B[38;5;241;43m.\u001B[39;49m\u001B[43msql\u001B[49m\u001B[43m(\u001B[49m\u001B[43mquery\u001B[49m\u001B[43m,\u001B[49m\u001B[43m \u001B[49m\u001B[38;5;241;43m*\u001B[39;49m\u001B[38;5;241;43m*\u001B[39;49m\u001B[43mkwargs\u001B[49m\u001B[43m)\u001B[49m\n",
      "\u001B[0;31mBinderException\u001B[0m: Binder Error: Failed to attach database: database with name \"db\" already exists"
     ]
    }
   ],
   "execution_count": 56
  },
  {
   "metadata": {},
   "cell_type": "code",
   "source": [
    "# ALL ICU stays (paper reports 765,40)\n",
    "duckdb.sql(\"SELECT COUNT(*) as icu_stay_count FROM mimiciv_derived.icustay_detail\")"
   ],
   "id": "8ae337447f0cc273",
   "outputs": [],
   "execution_count": null
  },
  {
   "metadata": {},
   "cell_type": "code",
   "source": [
    "# ALL Unique Patients (paper reports 53,150)\n",
    "duckdb.sql(\"SELECT COUNT(DISTINCT subject_id) as patient_count FROM mimiciv_derived.icustay_detail\")"
   ],
   "id": "b3b2a30eaec41489",
   "outputs": [],
   "execution_count": null
  },
  {
   "metadata": {},
   "cell_type": "code",
   "source": [
    "# Patients with documented enthicity\n",
    "duckdb.sql(\"\"\"\n",
    "WITH patients AS (\n",
    "    SELECT subject_id,\n",
    "    CASE\n",
    "        WHEN race LIKE 'ASIAN%' THEN 'ASIAN'\n",
    "        WHEN race LIKE 'BLACK%' THEN 'BLACK'\n",
    "        WHEN race LIKE 'WHITE%' THEN 'WHITE'\n",
    "        WHEN race LIKE 'HISPANIC%' THEN 'HISPANIC'\n",
    "        ELSE 'UNKNOWN'\n",
    "        END AS race_category\n",
    "    FROM mimiciv_derived.icustay_detail WHERE first_icu_stay AND first_hosp_stay)\n",
    "SELECT race_category, COUNT(*) as patient_count FROM patients WHERE RACE_CATEGORY != 'UNKNOWN' GROUP BY race_category ORDER BY race_category\n",
    "\"\"\")"
   ],
   "id": "e547be6390932c2f",
   "outputs": [],
   "execution_count": null
  },
  {
   "metadata": {
    "ExecuteTime": {
     "end_time": "2024-08-22T05:27:39.239868Z",
     "start_time": "2024-08-22T05:27:39.191587Z"
    }
   },
   "cell_type": "code",
   "source": [
    "patient_with_race = duckdb.sql(\"\"\"\n",
    "WITH patients AS (\n",
    "    SELECT *,\n",
    "    CASE\n",
    "        WHEN race LIKE 'ASIAN%' THEN 'ASIAN'\n",
    "        WHEN race LIKE 'BLACK%' THEN 'BLACK'\n",
    "        WHEN race LIKE 'WHITE%' THEN 'WHITE'\n",
    "        WHEN race LIKE 'HISPANIC%' THEN 'HISPANIC'\n",
    "        ELSE 'UNKNOWN'\n",
    "        END AS race_category\n",
    "    FROM mimiciv_derived.icustay_detail WHERE first_icu_stay AND first_hosp_stay)\n",
    "SELECT subject_id, stay_id, icu_intime, icu_outtime, race_category  FROM patients WHERE race_category != 'UNKNOWN'\n",
    "\"\"\")\n",
    "patient_with_race"
   ],
   "id": "341a3fce8a6af209",
   "outputs": [
    {
     "data": {
      "text/plain": [
       "┌────────────┬──────────┬─────────────────────┬─────────────────────┬───────────────┐\n",
       "│ subject_id │ stay_id  │     icu_intime      │     icu_outtime     │ race_category │\n",
       "│   int32    │  int32   │      timestamp      │      timestamp      │    varchar    │\n",
       "├────────────┼──────────┼─────────────────────┼─────────────────────┼───────────────┤\n",
       "│   10000032 │ 39553978 │ 2180-07-23 14:00:00 │ 2180-07-23 23:50:47 │ WHITE         │\n",
       "│   10000980 │ 39765666 │ 2189-06-27 08:42:00 │ 2189-06-27 20:38:27 │ BLACK         │\n",
       "│   10001217 │ 37067082 │ 2157-11-20 19:18:02 │ 2157-11-21 22:08:00 │ WHITE         │\n",
       "│   10001725 │ 31205490 │ 2110-04-11 15:52:22 │ 2110-04-12 23:59:56 │ WHITE         │\n",
       "│   10001884 │ 37510196 │ 2131-01-11 04:20:05 │ 2131-01-20 08:27:30 │ BLACK         │\n",
       "│   10002155 │ 33685454 │ 2129-08-04 12:45:00 │ 2129-08-10 17:02:38 │ WHITE         │\n",
       "│   10002348 │ 32610785 │ 2112-11-30 23:24:00 │ 2112-12-10 18:25:13 │ WHITE         │\n",
       "│   10002428 │ 33987268 │ 2156-04-12 16:24:18 │ 2156-04-17 15:57:08 │ WHITE         │\n",
       "│   10002430 │ 38392119 │ 2129-06-13 00:43:08 │ 2129-06-15 22:51:40 │ WHITE         │\n",
       "│   10002443 │ 35044219 │ 2183-10-18 00:47:00 │ 2183-10-20 18:48:03 │ WHITE         │\n",
       "│       ·    │     ·    │          ·          │          ·          │   ·           │\n",
       "│       ·    │     ·    │          ·          │          ·          │   ·           │\n",
       "│       ·    │     ·    │          ·          │          ·          │   ·           │\n",
       "│   12379354 │ 31257627 │ 2157-04-26 15:15:00 │ 2157-04-27 16:21:14 │ WHITE         │\n",
       "│   12379369 │ 36935014 │ 2132-07-19 03:38:29 │ 2132-07-21 19:55:35 │ WHITE         │\n",
       "│   12379467 │ 35108459 │ 2150-03-15 22:17:57 │ 2150-03-17 15:07:48 │ WHITE         │\n",
       "│   12379543 │ 30416047 │ 2146-08-30 17:51:00 │ 2146-09-02 14:49:24 │ WHITE         │\n",
       "│   12379682 │ 37477024 │ 2119-11-29 14:01:36 │ 2119-12-02 16:02:17 │ WHITE         │\n",
       "│   12379757 │ 36289471 │ 2199-06-11 02:00:45 │ 2199-06-11 14:44:05 │ WHITE         │\n",
       "│   12379909 │ 34795380 │ 2193-01-21 11:55:36 │ 2193-01-24 17:26:08 │ BLACK         │\n",
       "│   12380064 │ 34395981 │ 2175-12-29 14:06:05 │ 2176-01-01 06:32:53 │ WHITE         │\n",
       "│   12380418 │ 38020798 │ 2136-03-31 19:04:23 │ 2136-04-07 21:21:38 │ WHITE         │\n",
       "│   12380449 │ 34015723 │ 2158-06-30 14:02:59 │ 2158-07-02 15:41:05 │ BLACK         │\n",
       "├────────────┴──────────┴─────────────────────┴─────────────────────┴───────────────┤\n",
       "│ ? rows (>9999 rows, 20 shown)                                           5 columns │\n",
       "└───────────────────────────────────────────────────────────────────────────────────┘"
      ]
     },
     "execution_count": 57,
     "metadata": {},
     "output_type": "execute_result"
    }
   ],
   "execution_count": 57
  },
  {
   "metadata": {
    "ExecuteTime": {
     "end_time": "2024-08-22T05:27:39.277469Z",
     "start_time": "2024-08-22T05:27:39.241071Z"
    }
   },
   "cell_type": "code",
   "source": [
    "# Make sure that patients are unique\n",
    "duckdb.sql(\"\"\"\n",
    "SELECT subject_id, COUNT(*) as patient_count FROM patient_with_race GROUP BY subject_id HAVING COUNT(*) > 1\n",
    "\"\"\")"
   ],
   "id": "bb9e344d1369dc29",
   "outputs": [
    {
     "data": {
      "text/plain": [
       "┌────────────┬───────────────┐\n",
       "│ subject_id │ patient_count │\n",
       "│   int32    │     int64     │\n",
       "├────────────┴───────────────┤\n",
       "│           0 rows           │\n",
       "└────────────────────────────┘"
      ]
     },
     "execution_count": 58,
     "metadata": {},
     "output_type": "execute_result"
    }
   ],
   "execution_count": 58
  },
  {
   "metadata": {
    "ExecuteTime": {
     "end_time": "2024-08-22T05:27:39.305306Z",
     "start_time": "2024-08-22T05:27:39.278176Z"
    }
   },
   "cell_type": "code",
   "source": [
    "# Make sure that patients are unique\n",
    "duckdb.sql(\"\"\"\n",
    "SELECT COUNT(*) FROM patient_with_race\n",
    "\"\"\")"
   ],
   "id": "2c3f6d5ad02ed58e",
   "outputs": [
    {
     "data": {
      "text/plain": [
       "┌──────────────┐\n",
       "│ count_star() │\n",
       "│    int64     │\n",
       "├──────────────┤\n",
       "│        42075 │\n",
       "└──────────────┘"
      ]
     },
     "execution_count": 59,
     "metadata": {},
     "output_type": "execute_result"
    }
   ],
   "execution_count": 59
  },
  {
   "metadata": {
    "ExecuteTime": {
     "end_time": "2024-08-22T05:27:39.363922Z",
     "start_time": "2024-08-22T05:27:39.307242Z"
    }
   },
   "cell_type": "code",
   "source": [
    "# Compute patients index period and select valid parient\n",
    "stays_with_interventions = duckdb.sql(\"\"\"\n",
    "WITH first_vent_intervention AS (\n",
    "    SELECT stay_id, MIN(starttime) as  starttime FROM mimiciv_derived.ventilation\n",
    "    WHERE ventilation_status NOT in ('None', 'SupplementalOxygen') GROUP BY stay_id)\n",
    "SELECT pwr.*,v.* FROM patient_with_race AS pwr\n",
    "LEFT OUTER JOIN first_vent_intervention AS v ON pwr.stay_id = v.stay_id\n",
    "\"\"\")\n",
    "patient_with_index_period=duckdb.sql(\"\"\"\n",
    "WITH patient_with_period AS (SELECT subject_id, stay_id, race_category, \n",
    "icu_intime AS ip_starttime, \n",
    "LEAST(icu_outtime, starttime, icu_intime + interval '5 days') AS ip_endtime FROM stays_with_interventions)\n",
    "SELECT *,(ip_endtime-ip_starttime) AS ip_duration FROM patient_with_period \n",
    "WHERE (ip_endtime-ip_starttime) >= interval '12 hours'\n",
    "\"\"\")\n",
    "patient_with_index_period"
   ],
   "id": "4ab4053626bb4bd4",
   "outputs": [
    {
     "data": {
      "text/plain": [
       "┌────────────┬──────────┬───────────────┬─────────────────────┬─────────────────────┬─────────────────┐\n",
       "│ subject_id │ stay_id  │ race_category │    ip_starttime     │     ip_endtime      │   ip_duration   │\n",
       "│   int32    │  int32   │    varchar    │      timestamp      │      timestamp      │    interval     │\n",
       "├────────────┼──────────┼───────────────┼─────────────────────┼─────────────────────┼─────────────────┤\n",
       "│   10001217 │ 37067082 │ WHITE         │ 2157-11-20 19:18:02 │ 2157-11-21 22:08:00 │ 1 day 02:49:58  │\n",
       "│   10001725 │ 31205490 │ WHITE         │ 2110-04-11 15:52:22 │ 2110-04-12 23:59:56 │ 1 day 08:07:34  │\n",
       "│   10002155 │ 33685454 │ WHITE         │ 2129-08-04 12:45:00 │ 2129-08-09 12:45:00 │ 5 days          │\n",
       "│   10002348 │ 32610785 │ WHITE         │ 2112-11-30 23:24:00 │ 2112-12-05 23:24:00 │ 5 days          │\n",
       "│   10002428 │ 33987268 │ WHITE         │ 2156-04-12 16:24:18 │ 2156-04-17 15:57:08 │ 4 days 23:32:50 │\n",
       "│   10002443 │ 35044219 │ WHITE         │ 2183-10-18 00:47:00 │ 2183-10-20 18:48:03 │ 2 days 18:01:03 │\n",
       "│   10002930 │ 37049133 │ BLACK         │ 2196-04-14 13:40:00 │ 2196-04-15 16:54:44 │ 1 day 03:14:44  │\n",
       "│   10003019 │ 30676350 │ WHITE         │ 2175-10-08 18:58:00 │ 2175-10-09 11:59:16 │ 17:01:16        │\n",
       "│   10003046 │ 35514836 │ WHITE         │ 2154-01-02 15:57:15 │ 2154-01-04 15:19:56 │ 1 day 23:22:41  │\n",
       "│   10003502 │ 35796366 │ WHITE         │ 2169-08-26 21:30:32 │ 2169-08-27 22:27:21 │ 1 day 00:56:49  │\n",
       "│       ·    │     ·    │   ·           │          ·          │          ·          │       ·         │\n",
       "│       ·    │     ·    │   ·           │          ·          │          ·          │       ·         │\n",
       "│       ·    │     ·    │   ·           │          ·          │          ·          │       ·         │\n",
       "│   14082222 │ 33807293 │ WHITE         │ 2177-02-18 14:57:02 │ 2177-02-19 15:32:37 │ 1 day 00:35:35  │\n",
       "│   14082885 │ 30033304 │ BLACK         │ 2154-03-13 22:22:07 │ 2154-03-14 23:51:21 │ 1 day 01:29:14  │\n",
       "│   14083248 │ 30741525 │ WHITE         │ 2111-10-14 21:36:25 │ 2111-10-15 22:31:42 │ 1 day 00:55:17  │\n",
       "│   14083387 │ 32732742 │ WHITE         │ 2153-10-03 08:59:00 │ 2153-10-04 19:05:17 │ 1 day 10:06:17  │\n",
       "│   14083585 │ 38824992 │ WHITE         │ 2150-04-16 05:15:30 │ 2150-04-19 14:38:39 │ 3 days 09:23:09 │\n",
       "│   14084656 │ 31168029 │ WHITE         │ 2167-02-23 02:05:00 │ 2167-02-27 21:26:24 │ 4 days 19:21:24 │\n",
       "│   14085120 │ 38114709 │ ASIAN         │ 2122-02-28 03:44:00 │ 2122-02-28 22:47:21 │ 19:03:21        │\n",
       "│   14085610 │ 39438744 │ WHITE         │ 2140-04-13 23:42:00 │ 2140-04-15 11:07:55 │ 1 day 11:25:55  │\n",
       "│   14086565 │ 38813891 │ HISPANIC      │ 2132-08-07 08:02:00 │ 2132-08-08 17:40:30 │ 1 day 09:38:30  │\n",
       "│   14086583 │ 37658209 │ WHITE         │ 2121-06-29 18:40:20 │ 2121-07-03 22:56:18 │ 4 days 04:15:58 │\n",
       "├────────────┴──────────┴───────────────┴─────────────────────┴─────────────────────┴─────────────────┤\n",
       "│ ? rows (>9999 rows, 20 shown)                                                             6 columns │\n",
       "└─────────────────────────────────────────────────────────────────────────────────────────────────────┘"
      ]
     },
     "execution_count": 60,
     "metadata": {},
     "output_type": "execute_result"
    }
   ],
   "execution_count": 60
  },
  {
   "metadata": {
    "ExecuteTime": {
     "end_time": "2024-08-22T05:27:39.419308Z",
     "start_time": "2024-08-22T05:27:39.364504Z"
    }
   },
   "cell_type": "code",
   "source": [
    "duckdb.sql(\"\"\"\n",
    "SELECT COUNT( subject_id) FROM patient_with_index_period\n",
    "\"\"\")"
   ],
   "id": "d7714bc665a4ccff",
   "outputs": [
    {
     "data": {
      "text/plain": [
       "┌───────────────────┐\n",
       "│ count(subject_id) │\n",
       "│       int64       │\n",
       "├───────────────────┤\n",
       "│             26521 │\n",
       "└───────────────────┘"
      ]
     },
     "execution_count": 61,
     "metadata": {},
     "output_type": "execute_result"
    }
   ],
   "execution_count": 61
  },
  {
   "metadata": {
    "ExecuteTime": {
     "end_time": "2024-08-22T05:27:39.544322Z",
     "start_time": "2024-08-22T05:27:39.419872Z"
    }
   },
   "cell_type": "code",
   "source": [
    "patients_with_flow = duckdb.sql(\"\"\"\n",
    "SELECT pwr.subject_id, pwr.race_category,od.charttime as flow_time, od.o2_flow FROM patient_with_index_period AS pwr\n",
    "JOIN mimiciv_derived.oxygen_delivery AS od ON  pwr.stay_id = od.stay_id\n",
    "WHERE od.o2_delivery_device_1 = 'Nasal cannula' AND od.charttime BETWEEN pwr.ip_starttime AND pwr.ip_endtime AND od.o2_flow IS NOT NULL\n",
    "ORDER BY pwr.subject_id, od.charttime\n",
    "\"\"\")\n",
    "patients_with_flow"
   ],
   "id": "333733e34d2fac93",
   "outputs": [
    {
     "data": {
      "text/plain": [
       "┌────────────┬───────────────┬─────────────────────┬─────────┐\n",
       "│ subject_id │ race_category │      flow_time      │ o2_flow │\n",
       "│   int32    │    varchar    │      timestamp      │ double  │\n",
       "├────────────┼───────────────┼─────────────────────┼─────────┤\n",
       "│   10001217 │ WHITE         │ 2157-11-20 19:47:00 │     2.0 │\n",
       "│   10001217 │ WHITE         │ 2157-11-20 22:00:00 │     2.0 │\n",
       "│   10001217 │ WHITE         │ 2157-11-21 00:00:00 │     2.0 │\n",
       "│   10001217 │ WHITE         │ 2157-11-21 02:00:00 │     2.0 │\n",
       "│   10001217 │ WHITE         │ 2157-11-21 08:00:00 │     2.0 │\n",
       "│   10001217 │ WHITE         │ 2157-11-21 18:00:00 │     3.0 │\n",
       "│   10001217 │ WHITE         │ 2157-11-21 20:00:00 │     4.0 │\n",
       "│   10001725 │ WHITE         │ 2110-04-11 16:07:00 │     2.0 │\n",
       "│   10001725 │ WHITE         │ 2110-04-11 20:00:00 │     2.0 │\n",
       "│   10001725 │ WHITE         │ 2110-04-12 02:00:00 │     2.0 │\n",
       "│       ·    │   ·           │          ·          │      ·  │\n",
       "│       ·    │   ·           │          ·          │      ·  │\n",
       "│       ·    │   ·           │          ·          │      ·  │\n",
       "│   10828138 │ WHITE         │ 2154-10-11 04:00:00 │     4.0 │\n",
       "│   10828138 │ WHITE         │ 2154-10-11 08:00:00 │     4.0 │\n",
       "│   10828138 │ WHITE         │ 2154-10-11 11:00:00 │     2.0 │\n",
       "│   10828209 │ WHITE         │ 2114-11-05 04:32:00 │     3.0 │\n",
       "│   10828209 │ WHITE         │ 2114-11-06 00:00:00 │     4.0 │\n",
       "│   10828209 │ WHITE         │ 2114-11-06 04:00:00 │     4.0 │\n",
       "│   10828209 │ WHITE         │ 2114-11-06 08:00:00 │     4.0 │\n",
       "│   10828209 │ WHITE         │ 2114-11-06 12:00:00 │     4.0 │\n",
       "│   10828209 │ WHITE         │ 2114-11-06 16:00:00 │     4.0 │\n",
       "│   10828209 │ WHITE         │ 2114-11-06 20:00:00 │     3.0 │\n",
       "├────────────┴───────────────┴─────────────────────┴─────────┤\n",
       "│ ? rows (>9999 rows, 20 shown)                    4 columns │\n",
       "└────────────────────────────────────────────────────────────┘"
      ]
     },
     "execution_count": 62,
     "metadata": {},
     "output_type": "execute_result"
    }
   ],
   "execution_count": 62
  },
  {
   "metadata": {
    "ExecuteTime": {
     "end_time": "2024-08-22T05:27:39.666691Z",
     "start_time": "2024-08-22T05:27:39.544967Z"
    }
   },
   "cell_type": "code",
   "source": [
    "duckdb.sql(\"\"\"\n",
    "SELECT subject_id, COUNT(*) AS flow_count FROM patients_with_flow GROUP BY subject_id ORDER BY flow_count DESC\n",
    "\"\"\")"
   ],
   "id": "1ef8c57f8a3c84dc",
   "outputs": [
    {
     "data": {
      "text/plain": [
       "┌────────────┬────────────┐\n",
       "│ subject_id │ flow_count │\n",
       "│   int32    │   int64    │\n",
       "├────────────┼────────────┤\n",
       "│   17552487 │         48 │\n",
       "│   18679942 │         44 │\n",
       "│   11153132 │         43 │\n",
       "│   13280145 │         43 │\n",
       "│   15022555 │         42 │\n",
       "│   12806413 │         41 │\n",
       "│   19411951 │         40 │\n",
       "│   18881392 │         40 │\n",
       "│   19717191 │         40 │\n",
       "│   19203810 │         39 │\n",
       "│       ·    │          · │\n",
       "│       ·    │          · │\n",
       "│       ·    │          · │\n",
       "│   18795090 │          4 │\n",
       "│   18809075 │          4 │\n",
       "│   18844748 │          4 │\n",
       "│   18942549 │          4 │\n",
       "│   18955379 │          4 │\n",
       "│   19005505 │          4 │\n",
       "│   19067228 │          4 │\n",
       "│   19075481 │          4 │\n",
       "│   19101726 │          4 │\n",
       "│   19148949 │          4 │\n",
       "├────────────┴────────────┤\n",
       "│ ? rows        2 columns │\n",
       "└─────────────────────────┘"
      ]
     },
     "execution_count": 63,
     "metadata": {},
     "output_type": "execute_result"
    }
   ],
   "execution_count": 63
  },
  {
   "metadata": {
    "ExecuteTime": {
     "end_time": "2024-08-22T05:27:39.668604Z",
     "start_time": "2024-08-22T05:27:39.667298Z"
    }
   },
   "cell_type": "code",
   "source": [
    "# Save the data\n",
    "#patients_with_flow.to_csv('../data/patients_with_flow.csv')"
   ],
   "id": "309c0a31e7625a27",
   "outputs": [],
   "execution_count": 64
  },
  {
   "metadata": {},
   "cell_type": "markdown",
   "source": "### Sp02",
   "id": "b8b2e7f63e74d192"
  },
  {
   "metadata": {
    "ExecuteTime": {
     "end_time": "2024-08-22T05:31:51.933171Z",
     "start_time": "2024-08-22T05:31:51.379541Z"
    }
   },
   "cell_type": "code",
   "source": [
    "patients_with_spo2 = duckdb.sql(\"\"\"\n",
    "SELECT pwr.subject_id, pwr.race_category,vs.charttime as read_time, vs.spo2 FROM patient_with_index_period AS pwr\n",
    "JOIN mimiciv_derived.vitalsign AS vs ON  pwr.stay_id = vs.stay_id\n",
    "WHERE vs.charttime BETWEEN pwr.ip_starttime AND pwr.ip_endtime AND vs.spo2 IS NOT NULL\n",
    "ORDER BY pwr.subject_id, vs.charttime\n",
    "\"\"\")\n",
    "patients_with_spo2"
   ],
   "id": "83a7067d7c69214c",
   "outputs": [
    {
     "data": {
      "text/plain": [
       "┌────────────┬───────────────┬─────────────────────┬────────┐\n",
       "│ subject_id │ race_category │      read_time      │  spo2  │\n",
       "│   int32    │    varchar    │      timestamp      │ double │\n",
       "├────────────┼───────────────┼─────────────────────┼────────┤\n",
       "│   10001217 │ WHITE         │ 2157-11-20 19:19:00 │   99.0 │\n",
       "│   10001217 │ WHITE         │ 2157-11-20 20:00:00 │   98.0 │\n",
       "│   10001217 │ WHITE         │ 2157-11-20 21:00:00 │   98.0 │\n",
       "│   10001217 │ WHITE         │ 2157-11-20 22:00:00 │   95.0 │\n",
       "│   10001217 │ WHITE         │ 2157-11-20 23:00:00 │   98.0 │\n",
       "│   10001217 │ WHITE         │ 2157-11-21 00:00:00 │   94.0 │\n",
       "│   10001217 │ WHITE         │ 2157-11-21 01:00:00 │   93.0 │\n",
       "│   10001217 │ WHITE         │ 2157-11-21 02:00:00 │   98.0 │\n",
       "│   10001217 │ WHITE         │ 2157-11-21 03:00:00 │   98.0 │\n",
       "│   10001217 │ WHITE         │ 2157-11-21 04:00:00 │   98.0 │\n",
       "│       ·    │   ·           │          ·          │     ·  │\n",
       "│       ·    │   ·           │          ·          │     ·  │\n",
       "│       ·    │   ·           │          ·          │     ·  │\n",
       "│   10078723 │ WHITE         │ 2161-10-29 05:00:00 │   94.0 │\n",
       "│   10078723 │ WHITE         │ 2161-10-29 06:00:00 │   90.0 │\n",
       "│   10078723 │ WHITE         │ 2161-10-29 07:00:00 │   93.0 │\n",
       "│   10078723 │ WHITE         │ 2161-10-29 08:00:00 │   96.0 │\n",
       "│   10078723 │ WHITE         │ 2161-10-29 09:00:00 │  100.0 │\n",
       "│   10078723 │ WHITE         │ 2161-10-29 10:00:00 │   99.0 │\n",
       "│   10078723 │ WHITE         │ 2161-10-29 11:01:00 │   99.0 │\n",
       "│   10078723 │ WHITE         │ 2161-10-29 12:00:00 │   98.0 │\n",
       "│   10078723 │ WHITE         │ 2161-10-29 13:00:00 │   99.0 │\n",
       "│   10078933 │ WHITE         │ 2137-04-05 22:06:00 │   99.0 │\n",
       "├────────────┴───────────────┴─────────────────────┴────────┤\n",
       "│ ? rows (>9999 rows, 20 shown)                   4 columns │\n",
       "└───────────────────────────────────────────────────────────┘"
      ]
     },
     "execution_count": 67,
     "metadata": {},
     "output_type": "execute_result"
    }
   ],
   "execution_count": 67
  },
  {
   "metadata": {
    "ExecuteTime": {
     "end_time": "2024-08-22T05:33:46.272005Z",
     "start_time": "2024-08-22T05:33:46.067303Z"
    }
   },
   "cell_type": "code",
   "source": [
    "patients_with_so2 = duckdb.sql(\"\"\"\n",
    "SELECT pwr.subject_id, pwr.race_category,bg.charttime as read_time, bg.so2 FROM patient_with_index_period AS pwr\n",
    "JOIN mimiciv_derived.bg AS bg ON  pwr.subject_id = bg.subject_id\n",
    "WHERE bg.charttime BETWEEN pwr.ip_starttime AND pwr.ip_endtime AND bg.so2 IS NOT NULL AND bg.specimen = 'ART.'\n",
    "ORDER BY pwr.subject_id, bg.charttime\n",
    "\"\"\")\n",
    "patients_with_so2"
   ],
   "id": "eee4188b9a27ad1f",
   "outputs": [
    {
     "data": {
      "text/plain": [
       "┌────────────┬───────────────┬─────────────────────┬────────┐\n",
       "│ subject_id │ race_category │      read_time      │  so2   │\n",
       "│   int32    │    varchar    │      timestamp      │ double │\n",
       "├────────────┼───────────────┼─────────────────────┼────────┤\n",
       "│   10002155 │ WHITE         │ 2129-08-05 07:48:00 │   94.0 │\n",
       "│   10002443 │ WHITE         │ 2183-10-18 02:35:00 │   90.0 │\n",
       "│   10004401 │ WHITE         │ 2144-01-27 02:39:00 │   95.0 │\n",
       "│   10005817 │ WHITE         │ 2132-12-15 16:34:00 │   97.0 │\n",
       "│   10005817 │ WHITE         │ 2132-12-15 18:47:00 │   97.0 │\n",
       "│   10005817 │ WHITE         │ 2132-12-15 20:20:00 │   95.0 │\n",
       "│   10008454 │ WHITE         │ 2110-12-03 11:51:00 │   88.0 │\n",
       "│   10008454 │ WHITE         │ 2110-12-03 13:05:00 │   98.0 │\n",
       "│   10013049 │ WHITE         │ 2114-06-20 12:57:00 │   96.0 │\n",
       "│   10013569 │ WHITE         │ 2167-11-29 09:34:00 │   93.0 │\n",
       "│       ·    │   ·           │          ·          │     ·  │\n",
       "│       ·    │   ·           │          ·          │     ·  │\n",
       "│       ·    │   ·           │          ·          │     ·  │\n",
       "│   19983257 │ WHITE         │ 2166-01-11 05:07:00 │   89.0 │\n",
       "│   19983257 │ WHITE         │ 2166-01-11 09:34:00 │   93.0 │\n",
       "│   19983257 │ WHITE         │ 2166-01-11 12:51:00 │   93.0 │\n",
       "│   19983257 │ WHITE         │ 2166-01-11 16:28:00 │   87.0 │\n",
       "│   19983257 │ WHITE         │ 2166-01-12 00:20:00 │   96.0 │\n",
       "│   19983257 │ WHITE         │ 2166-01-12 06:08:00 │   92.0 │\n",
       "│   19984259 │ WHITE         │ 2153-11-30 20:14:00 │   96.0 │\n",
       "│   19984259 │ WHITE         │ 2153-12-01 00:51:00 │   95.0 │\n",
       "│   19984259 │ WHITE         │ 2153-12-01 03:26:00 │   98.0 │\n",
       "│   19984259 │ WHITE         │ 2153-12-01 09:40:00 │   94.0 │\n",
       "├────────────┴───────────────┴─────────────────────┴────────┤\n",
       "│ 3419 rows (20 shown)                            4 columns │\n",
       "└───────────────────────────────────────────────────────────┘"
      ]
     },
     "execution_count": 70,
     "metadata": {},
     "output_type": "execute_result"
    }
   ],
   "execution_count": 70
  },
  {
   "metadata": {
    "ExecuteTime": {
     "end_time": "2024-08-22T05:34:55.784921Z",
     "start_time": "2024-08-22T05:34:55.050266Z"
    }
   },
   "cell_type": "code",
   "source": [
    "# Save the data\n",
    "patients_with_spo2.to_csv('../data/patients_with_spo2.csv')\n",
    "patients_with_so2.to_csv('../data/patients_with_so2.csv')"
   ],
   "id": "35dd85cd0c8db042",
   "outputs": [],
   "execution_count": 71
  },
  {
   "metadata": {},
   "cell_type": "code",
   "outputs": [],
   "execution_count": null,
   "source": "",
   "id": "40b1e41aef03f490"
  }
 ],
 "metadata": {
  "kernelspec": {
   "display_name": "Python 3",
   "language": "python",
   "name": "python3"
  },
  "language_info": {
   "codemirror_mode": {
    "name": "ipython",
    "version": 2
   },
   "file_extension": ".py",
   "mimetype": "text/x-python",
   "name": "python",
   "nbconvert_exporter": "python",
   "pygments_lexer": "ipython2",
   "version": "2.7.6"
  }
 },
 "nbformat": 4,
 "nbformat_minor": 5
}
