{
 "cells": [
  {
   "cell_type": "code",
   "id": "initial_id",
   "metadata": {
    "collapsed": true,
    "ExecuteTime": {
     "end_time": "2024-09-10T01:33:20.296601Z",
     "start_time": "2024-09-10T01:33:20.208711Z"
    }
   },
   "source": [
    "import os\n",
    "from pathling import PathlingContext\n",
    "\n",
    "MIMIC_FHIR_PATH = \"/Users/szu004/datasets/work/mimic-iv/mimic4-ptl\""
   ],
   "outputs": [],
   "execution_count": 1
  },
  {
   "metadata": {
    "ExecuteTime": {
     "end_time": "2024-09-10T01:33:25.862661Z",
     "start_time": "2024-09-10T01:33:20.411990Z"
    }
   },
   "cell_type": "code",
   "source": [
    "os.environ['SPARK_CONF_DIR'] = os.path.abspath('../env/spark-conf')\n",
    "pc = PathlingContext.create()\n",
    "spark = pc.spark\n",
    "print('spark.sql.ansi.enabled', spark.conf.get(\"spark.sql.ansi.enabled\"))\n",
    "print('spark.sql.timestampType', spark.conf.get(\"spark.sql.timestampType\"))\n",
    "data = pc.read.parquet(MIMIC_FHIR_PATH)"
   ],
   "id": "d193cda3f8b135ae",
   "outputs": [
    {
     "name": "stdout",
     "output_type": "stream",
     "text": [
      ":: loading settings :: url = jar:file:/Users/szu004/miniconda3/envs/sof_mimic/lib/python3.11/site-packages/pyspark/jars/ivy-2.5.1.jar!/org/apache/ivy/core/settings/ivysettings.xml\n"
     ]
    },
    {
     "name": "stderr",
     "output_type": "stream",
     "text": [
      "Ivy Default Cache set to: /Users/szu004/.ivy2/cache\n",
      "The jars for the packages stored in: /Users/szu004/.ivy2/jars\n",
      "au.csiro.pathling#library-runtime added as a dependency\n",
      "io.delta#delta-spark_2.12 added as a dependency\n",
      "org.apache.hadoop#hadoop-aws added as a dependency\n",
      ":: resolving dependencies :: org.apache.spark#spark-submit-parent-cb4e1253-d72a-4c6d-b1a0-25ef409ba8cb;1.0\n",
      "\tconfs: [default]\n",
      "\tfound au.csiro.pathling#library-runtime;7.1.0-SNAPSHOT in local-m2-cache\n",
      "\tfound io.delta#delta-spark_2.12;3.2.0 in local-m2-cache\n",
      "\tfound io.delta#delta-storage;3.2.0 in local-m2-cache\n",
      "\tfound org.antlr#antlr4-runtime;4.9.3 in local-m2-cache\n",
      "\tfound org.apache.hadoop#hadoop-aws;3.3.4 in local-m2-cache\n",
      "\tfound com.amazonaws#aws-java-sdk-bundle;1.12.262 in local-m2-cache\n",
      "\tfound org.wildfly.openssl#wildfly-openssl;1.0.7.Final in local-m2-cache\n",
      ":: resolution report :: resolve 147ms :: artifacts dl 8ms\n",
      "\t:: modules in use:\n",
      "\tau.csiro.pathling#library-runtime;7.1.0-SNAPSHOT from local-m2-cache in [default]\n",
      "\tcom.amazonaws#aws-java-sdk-bundle;1.12.262 from local-m2-cache in [default]\n",
      "\tio.delta#delta-spark_2.12;3.2.0 from local-m2-cache in [default]\n",
      "\tio.delta#delta-storage;3.2.0 from local-m2-cache in [default]\n",
      "\torg.antlr#antlr4-runtime;4.9.3 from local-m2-cache in [default]\n",
      "\torg.apache.hadoop#hadoop-aws;3.3.4 from local-m2-cache in [default]\n",
      "\torg.wildfly.openssl#wildfly-openssl;1.0.7.Final from local-m2-cache in [default]\n",
      "\t---------------------------------------------------------------------\n",
      "\t|                  |            modules            ||   artifacts   |\n",
      "\t|       conf       | number| search|dwnlded|evicted|| number|dwnlded|\n",
      "\t---------------------------------------------------------------------\n",
      "\t|      default     |   7   |   0   |   0   |   0   ||   7   |   0   |\n",
      "\t---------------------------------------------------------------------\n",
      ":: retrieving :: org.apache.spark#spark-submit-parent-cb4e1253-d72a-4c6d-b1a0-25ef409ba8cb\n",
      "\tconfs: [default]\n",
      "\t0 artifacts copied, 7 already retrieved (0kB/5ms)\n"
     ]
    },
    {
     "name": "stdout",
     "output_type": "stream",
     "text": [
      "2024-09-10 11:33:21 WARN  NativeCodeLoader:60 - Unable to load native-hadoop library for your platform... using builtin-java classes where applicable\n",
      "2024-09-10 11:33:23 WARN  SimpleFunctionRegistry:72 - The function date_diff replaced a previously registered function.\n",
      "spark.sql.ansi.enabled false\n",
      "spark.sql.timestampType TIMESTAMP_LTZ\n"
     ]
    }
   ],
   "execution_count": 2
  },
  {
   "metadata": {
    "ExecuteTime": {
     "end_time": "2024-09-10T01:33:25.983676Z",
     "start_time": "2024-09-10T01:33:25.979454Z"
    }
   },
   "cell_type": "code",
   "source": "from sof import ViewCtx, SOFView, SQLView",
   "id": "9401320c1e93d5ae",
   "outputs": [],
   "execution_count": 3
  },
  {
   "metadata": {
    "ExecuteTime": {
     "end_time": "2024-09-10T01:33:29.399672Z",
     "start_time": "2024-09-10T01:33:25.989186Z"
    }
   },
   "cell_type": "code",
   "source": [
    "import glob\n",
    "VIEW_CTX = ViewCtx(spark, data)\n",
    "\n",
    "for view_file in glob.glob('../src/sof/*.json'):\n",
    "    sof_view = SOFView.from_file(view_file)\n",
    "    sof_view.run(VIEW_CTX)\n",
    "\n",
    "for view_file in sorted(glob.glob('../src/sql/*.sql')):\n",
    "    sof_view = SQLView.from_file(view_file)\n",
    "    sof_view.run(VIEW_CTX)\n",
    "\n",
    "# SQLView.from_file('../src/sql/md_icustay_detail.sql').cache(VIEW_CTX)\n",
    "# SQLView.from_file('../src/sql/md_oxygen_delivery.sql').cache(VIEW_CTX)"
   ],
   "id": "965ac26b592febcd",
   "outputs": [
    {
     "name": "stdout",
     "output_type": "stream",
     "text": [
      "Creating SOF view rv_patient\n",
      "2024-09-10 11:33:26 WARN  SparkStringUtils:72 - Truncated the string representation of a plan since it was too large. This behavior can be adjusted by setting 'spark.sql.debug.maxToStringFields'.\n",
      "Creating SOF view rv_o2_delivery_device\n",
      "Creating SOF view rv_obs_o2_flow\n",
      "Creating SOF view rv_icu_encounter\n",
      "Creating SQL view dv_icu_encounter\n",
      "Creating SQL view dv_o2_delivery_device\n",
      "Creating SQL view dv_obs_o2_flow\n",
      "Creating SQL view dv_patient\n",
      "Creating SQL view md_icustay_detail\n",
      "Creating SQL view md_oxygen_delivery\n",
      "Creating SQL view st_subject\n",
      "Creating SQL view stx_o2_flow\n",
      "Creating SQL view coh_subject\n",
      "Creating SQL view coh_reading_o2_flow\n"
     ]
    }
   ],
   "execution_count": 4
  },
  {
   "metadata": {},
   "cell_type": "markdown",
   "source": "",
   "id": "7c9e48f498add09c"
  },
  {
   "metadata": {
    "ExecuteTime": {
     "end_time": "2024-09-10T01:33:29.406802Z",
     "start_time": "2024-09-10T01:33:29.405419Z"
    }
   },
   "cell_type": "code",
   "source": [
    "#spark.sql(\"CACHE TABLE md_icustay_detail\")\n",
    "#spark.sql(\"CACHE TABLE md_oxygen_delivery\")"
   ],
   "id": "23c15410f8a60ac3",
   "outputs": [],
   "execution_count": 5
  },
  {
   "metadata": {
    "ExecuteTime": {
     "end_time": "2024-09-10T01:37:01.089012Z",
     "start_time": "2024-09-10T01:37:01.064086Z"
    }
   },
   "cell_type": "code",
   "source": [
    "spark.sql(\"\"\"DROP TABLE IF EXISTS md_icustay_detail_tbl;\n",
    "CREATE TABLE md_icustay_detail_tbl AS SELECT * FROM md_icustay_detail\"\"\")"
   ],
   "id": "903f6b003587411",
   "outputs": [
    {
     "ename": "ParseException",
     "evalue": "\n[PARSE_SYNTAX_ERROR] Syntax error at or near 'CREATE': extra input 'CREATE'.(line 2, pos 0)\n\n== SQL ==\nDROP TABLE IF EXISTS md_icustay_detail_tbl;\nCREATE TABLE md_icustay_detail_tbl AS SELECT * FROM md_icustay_detail\n^^^\n",
     "output_type": "error",
     "traceback": [
      "\u001B[0;31m---------------------------------------------------------------------------\u001B[0m",
      "\u001B[0;31mParseException\u001B[0m                            Traceback (most recent call last)",
      "Cell \u001B[0;32mIn[11], line 1\u001B[0m\n\u001B[0;32m----> 1\u001B[0m spark\u001B[38;5;241m.\u001B[39msql(\u001B[38;5;124m\"\"\"\u001B[39m\u001B[38;5;124mDROP TABLE IF EXISTS md_icustay_detail_tbl;\u001B[39m\n\u001B[1;32m      2\u001B[0m \u001B[38;5;124mCREATE TABLE md_icustay_detail_tbl AS SELECT * FROM md_icustay_detail\u001B[39m\u001B[38;5;124m\"\"\"\u001B[39m)\n",
      "File \u001B[0;32m~/miniconda3/envs/sof_mimic/lib/python3.11/site-packages/pyspark/sql/session.py:1631\u001B[0m, in \u001B[0;36mSparkSession.sql\u001B[0;34m(self, sqlQuery, args, **kwargs)\u001B[0m\n\u001B[1;32m   1627\u001B[0m         \u001B[38;5;28;01massert\u001B[39;00m \u001B[38;5;28mself\u001B[39m\u001B[38;5;241m.\u001B[39m_jvm \u001B[38;5;129;01mis\u001B[39;00m \u001B[38;5;129;01mnot\u001B[39;00m \u001B[38;5;28;01mNone\u001B[39;00m\n\u001B[1;32m   1628\u001B[0m         litArgs \u001B[38;5;241m=\u001B[39m \u001B[38;5;28mself\u001B[39m\u001B[38;5;241m.\u001B[39m_jvm\u001B[38;5;241m.\u001B[39mPythonUtils\u001B[38;5;241m.\u001B[39mtoArray(\n\u001B[1;32m   1629\u001B[0m             [_to_java_column(lit(v)) \u001B[38;5;28;01mfor\u001B[39;00m v \u001B[38;5;129;01min\u001B[39;00m (args \u001B[38;5;129;01mor\u001B[39;00m [])]\n\u001B[1;32m   1630\u001B[0m         )\n\u001B[0;32m-> 1631\u001B[0m     \u001B[38;5;28;01mreturn\u001B[39;00m DataFrame(\u001B[38;5;28mself\u001B[39m\u001B[38;5;241m.\u001B[39m_jsparkSession\u001B[38;5;241m.\u001B[39msql(sqlQuery, litArgs), \u001B[38;5;28mself\u001B[39m)\n\u001B[1;32m   1632\u001B[0m \u001B[38;5;28;01mfinally\u001B[39;00m:\n\u001B[1;32m   1633\u001B[0m     \u001B[38;5;28;01mif\u001B[39;00m \u001B[38;5;28mlen\u001B[39m(kwargs) \u001B[38;5;241m>\u001B[39m \u001B[38;5;241m0\u001B[39m:\n",
      "File \u001B[0;32m~/miniconda3/envs/sof_mimic/lib/python3.11/site-packages/py4j/java_gateway.py:1322\u001B[0m, in \u001B[0;36mJavaMember.__call__\u001B[0;34m(self, *args)\u001B[0m\n\u001B[1;32m   1316\u001B[0m command \u001B[38;5;241m=\u001B[39m proto\u001B[38;5;241m.\u001B[39mCALL_COMMAND_NAME \u001B[38;5;241m+\u001B[39m\\\n\u001B[1;32m   1317\u001B[0m     \u001B[38;5;28mself\u001B[39m\u001B[38;5;241m.\u001B[39mcommand_header \u001B[38;5;241m+\u001B[39m\\\n\u001B[1;32m   1318\u001B[0m     args_command \u001B[38;5;241m+\u001B[39m\\\n\u001B[1;32m   1319\u001B[0m     proto\u001B[38;5;241m.\u001B[39mEND_COMMAND_PART\n\u001B[1;32m   1321\u001B[0m answer \u001B[38;5;241m=\u001B[39m \u001B[38;5;28mself\u001B[39m\u001B[38;5;241m.\u001B[39mgateway_client\u001B[38;5;241m.\u001B[39msend_command(command)\n\u001B[0;32m-> 1322\u001B[0m return_value \u001B[38;5;241m=\u001B[39m get_return_value(\n\u001B[1;32m   1323\u001B[0m     answer, \u001B[38;5;28mself\u001B[39m\u001B[38;5;241m.\u001B[39mgateway_client, \u001B[38;5;28mself\u001B[39m\u001B[38;5;241m.\u001B[39mtarget_id, \u001B[38;5;28mself\u001B[39m\u001B[38;5;241m.\u001B[39mname)\n\u001B[1;32m   1325\u001B[0m \u001B[38;5;28;01mfor\u001B[39;00m temp_arg \u001B[38;5;129;01min\u001B[39;00m temp_args:\n\u001B[1;32m   1326\u001B[0m     \u001B[38;5;28;01mif\u001B[39;00m \u001B[38;5;28mhasattr\u001B[39m(temp_arg, \u001B[38;5;124m\"\u001B[39m\u001B[38;5;124m_detach\u001B[39m\u001B[38;5;124m\"\u001B[39m):\n",
      "File \u001B[0;32m~/miniconda3/envs/sof_mimic/lib/python3.11/site-packages/pyspark/errors/exceptions/captured.py:185\u001B[0m, in \u001B[0;36mcapture_sql_exception.<locals>.deco\u001B[0;34m(*a, **kw)\u001B[0m\n\u001B[1;32m    181\u001B[0m converted \u001B[38;5;241m=\u001B[39m convert_exception(e\u001B[38;5;241m.\u001B[39mjava_exception)\n\u001B[1;32m    182\u001B[0m \u001B[38;5;28;01mif\u001B[39;00m \u001B[38;5;129;01mnot\u001B[39;00m \u001B[38;5;28misinstance\u001B[39m(converted, UnknownException):\n\u001B[1;32m    183\u001B[0m     \u001B[38;5;66;03m# Hide where the exception came from that shows a non-Pythonic\u001B[39;00m\n\u001B[1;32m    184\u001B[0m     \u001B[38;5;66;03m# JVM exception message.\u001B[39;00m\n\u001B[0;32m--> 185\u001B[0m     \u001B[38;5;28;01mraise\u001B[39;00m converted \u001B[38;5;28;01mfrom\u001B[39;00m \u001B[38;5;28;01mNone\u001B[39;00m\n\u001B[1;32m    186\u001B[0m \u001B[38;5;28;01melse\u001B[39;00m:\n\u001B[1;32m    187\u001B[0m     \u001B[38;5;28;01mraise\u001B[39;00m\n",
      "\u001B[0;31mParseException\u001B[0m: \n[PARSE_SYNTAX_ERROR] Syntax error at or near 'CREATE': extra input 'CREATE'.(line 2, pos 0)\n\n== SQL ==\nDROP TABLE IF EXISTS md_icustay_detail_tbl;\nCREATE TABLE md_icustay_detail_tbl AS SELECT * FROM md_icustay_detail\n^^^\n"
     ]
    }
   ],
   "execution_count": 11
  },
  {
   "metadata": {
    "ExecuteTime": {
     "end_time": "2024-09-10T01:34:40.483966Z",
     "start_time": "2024-09-10T01:34:39.731169Z"
    }
   },
   "cell_type": "code",
   "source": "spark.sql(\"SELECT * FROM md_icustay_detail_tbl\").show()",
   "id": "5d4b0f3af8d65261",
   "outputs": [
    {
     "name": "stdout",
     "output_type": "stream",
     "text": [
      "+--------------------+--------------------+------+--------+-------------------+-------------------+--------------+---------------+\n",
      "|          subject_id|             stay_id|gender|    race|          admittime|          dischtime|first_icu_stay|first_hosp_stay|\n",
      "+--------------------+--------------------+------+--------+-------------------+-------------------+--------------+---------------+\n",
      "|Patient/00110545-...|Encounter/bfd2cb4...|     M|   ASIAN|2184-05-12 13:19:46|2184-05-16 11:33:28|          true|           true|\n",
      "|Patient/00194dab-...|Encounter/6f46559...|     F|   WHITE|2161-05-04 08:00:54|2161-05-08 04:02:24|          true|           true|\n",
      "|Patient/0020080c-...|Encounter/a85f007...|     M|   WHITE|2163-02-01 14:56:00|2163-02-03 05:07:32|          true|           true|\n",
      "|Patient/00250175-...|Encounter/4953a83...|     F|   WHITE|2170-01-05 02:21:53|2170-01-06 08:04:40|          true|           true|\n",
      "|Patient/00296b15-...|Encounter/562620a...|     M|   WHITE|2117-10-03 13:08:36|2117-10-06 01:06:58|          true|           true|\n",
      "|Patient/002be51b-...|Encounter/b147fec...|     F|   WHITE|2116-06-13 10:00:00|2116-06-14 08:16:26|          true|           true|\n",
      "|Patient/003418bb-...|Encounter/d33f413...|     M|   BLACK|2186-07-17 14:45:00|2186-07-23 09:34:44|          true|           true|\n",
      "|Patient/0035c829-...|Encounter/a9956c2...|     M|   WHITE|2135-10-08 04:26:21|2135-10-10 04:18:24|          true|           true|\n",
      "|Patient/003a0152-...|Encounter/03e46a3...|     M|   WHITE|2161-03-03 03:05:51|2161-03-05 08:18:07|          true|           true|\n",
      "|Patient/003a249a-...|Encounter/040d131...|     F|    NULL|2158-05-30 00:37:18|2158-05-30 09:12:13|          true|           true|\n",
      "|Patient/003f2d4a-...|Encounter/cd291d1...|     M|   WHITE|2156-02-07 01:13:44|2156-02-08 04:06:11|          true|           true|\n",
      "|Patient/0040dce3-...|Encounter/3995f4e...|     M|   WHITE|2132-05-22 22:52:00|2132-05-29 03:36:48|          true|           true|\n",
      "|Patient/00442893-...|Encounter/50e688b...|     M|   WHITE|2152-12-20 10:15:44|2152-12-20 12:28:25|          true|           true|\n",
      "|Patient/004c8941-...|Encounter/026392f...|     F|    NULL|2148-04-15 12:03:00|2148-04-16 12:36:50|          true|           true|\n",
      "|Patient/004dafc6-...|Encounter/52a1441...|     M|HISPANIC|2135-04-03 08:00:00|2135-04-05 14:52:01|          true|           true|\n",
      "|Patient/0051534d-...|Encounter/f5cc535...|     F|   WHITE|2176-02-09 18:15:39|2176-02-14 16:20:53|          true|           true|\n",
      "|Patient/006182fc-...|Encounter/bead5cf...|     M|HISPANIC|2130-10-26 10:39:12|2130-10-31 07:00:31|          true|           true|\n",
      "|Patient/0068d5ad-...|Encounter/14deb4f...|     M|   WHITE|2143-07-11 17:19:00|2143-07-12 01:53:33|          true|           true|\n",
      "|Patient/006949f3-...|Encounter/b45cf1f...|     M|   WHITE|2135-02-16 20:12:40|2135-02-17 07:03:40|          true|           true|\n",
      "|Patient/006af72e-...|Encounter/a453303...|     M|    NULL|2114-03-21 11:34:00|2114-03-23 06:04:39|          true|           true|\n",
      "+--------------------+--------------------+------+--------+-------------------+-------------------+--------------+---------------+\n",
      "only showing top 20 rows\n",
      "\n"
     ]
    }
   ],
   "execution_count": 7
  }
 ],
 "metadata": {
  "kernelspec": {
   "display_name": "Python 3",
   "language": "python",
   "name": "python3"
  },
  "language_info": {
   "codemirror_mode": {
    "name": "ipython",
    "version": 2
   },
   "file_extension": ".py",
   "mimetype": "text/x-python",
   "name": "python",
   "nbconvert_exporter": "python",
   "pygments_lexer": "ipython2",
   "version": "2.7.6"
  }
 },
 "nbformat": 4,
 "nbformat_minor": 5
}
