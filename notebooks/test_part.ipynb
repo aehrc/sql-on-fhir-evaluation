{
 "cells": [
  {
   "cell_type": "code",
   "id": "initial_id",
   "metadata": {
    "collapsed": true,
    "ExecuteTime": {
     "end_time": "2024-08-30T06:08:30.972464Z",
     "start_time": "2024-08-30T06:08:30.873853Z"
    }
   },
   "source": [
    "import os\n",
    "\n",
    "from pathling import PathlingContext\n",
    "from pyspark.sql.functions import lit\n",
    "\n",
    "MIMIC_FHIR_PATH=\"../_data/mimic4-demo-ptl\""
   ],
   "outputs": [],
   "execution_count": 1
  },
  {
   "metadata": {
    "ExecuteTime": {
     "end_time": "2024-08-30T06:08:40.048193Z",
     "start_time": "2024-08-30T06:08:40.046426Z"
    }
   },
   "cell_type": "code",
   "source": "os.environ['SPARK_CONF_DIR'] = os.path.abspath('../env/spark-conf')",
   "id": "3b8124c6de7ea9bf",
   "outputs": [],
   "execution_count": 2
  },
  {
   "metadata": {
    "ExecuteTime": {
     "end_time": "2024-08-30T06:08:53.750271Z",
     "start_time": "2024-08-30T06:08:50.847798Z"
    }
   },
   "cell_type": "code",
   "source": "pc = PathlingContext.create()\n",
   "id": "f53710171e1867c8",
   "outputs": [
    {
     "name": "stdout",
     "output_type": "stream",
     "text": [
      ":: loading settings :: url = jar:file:/Users/szu004/miniconda3/envs/sof_mimic/lib/python3.11/site-packages/pyspark/jars/ivy-2.5.1.jar!/org/apache/ivy/core/settings/ivysettings.xml\n"
     ]
    },
    {
     "name": "stderr",
     "output_type": "stream",
     "text": [
      "Ivy Default Cache set to: /Users/szu004/.ivy2/cache\n",
      "The jars for the packages stored in: /Users/szu004/.ivy2/jars\n",
      "au.csiro.pathling#library-runtime added as a dependency\n",
      "io.delta#delta-spark_2.12 added as a dependency\n",
      "org.apache.hadoop#hadoop-aws added as a dependency\n",
      ":: resolving dependencies :: org.apache.spark#spark-submit-parent-554ef1ba-e956-4556-b7df-e9d3a477930d;1.0\n",
      "\tconfs: [default]\n",
      "\tfound au.csiro.pathling#library-runtime;7.1.0-SNAPSHOT in local-m2-cache\n",
      "\tfound io.delta#delta-spark_2.12;3.2.0 in local-m2-cache\n",
      "\tfound io.delta#delta-storage;3.2.0 in local-m2-cache\n",
      "\tfound org.antlr#antlr4-runtime;4.9.3 in local-m2-cache\n",
      "\tfound org.apache.hadoop#hadoop-aws;3.3.4 in local-m2-cache\n",
      "\tfound com.amazonaws#aws-java-sdk-bundle;1.12.262 in local-m2-cache\n",
      "\tfound org.wildfly.openssl#wildfly-openssl;1.0.7.Final in local-m2-cache\n",
      ":: resolution report :: resolve 119ms :: artifacts dl 7ms\n",
      "\t:: modules in use:\n",
      "\tau.csiro.pathling#library-runtime;7.1.0-SNAPSHOT from local-m2-cache in [default]\n",
      "\tcom.amazonaws#aws-java-sdk-bundle;1.12.262 from local-m2-cache in [default]\n",
      "\tio.delta#delta-spark_2.12;3.2.0 from local-m2-cache in [default]\n",
      "\tio.delta#delta-storage;3.2.0 from local-m2-cache in [default]\n",
      "\torg.antlr#antlr4-runtime;4.9.3 from local-m2-cache in [default]\n",
      "\torg.apache.hadoop#hadoop-aws;3.3.4 from local-m2-cache in [default]\n",
      "\torg.wildfly.openssl#wildfly-openssl;1.0.7.Final from local-m2-cache in [default]\n",
      "\t---------------------------------------------------------------------\n",
      "\t|                  |            modules            ||   artifacts   |\n",
      "\t|       conf       | number| search|dwnlded|evicted|| number|dwnlded|\n",
      "\t---------------------------------------------------------------------\n",
      "\t|      default     |   7   |   0   |   0   |   0   ||   7   |   0   |\n",
      "\t---------------------------------------------------------------------\n",
      ":: retrieving :: org.apache.spark#spark-submit-parent-554ef1ba-e956-4556-b7df-e9d3a477930d\n",
      "\tconfs: [default]\n",
      "\t0 artifacts copied, 7 already retrieved (0kB/2ms)\n"
     ]
    },
    {
     "name": "stdout",
     "output_type": "stream",
     "text": [
      "2024-08-30 16:08:51 WARN  NativeCodeLoader:60 - Unable to load native-hadoop library for your platform... using builtin-java classes where applicable\n",
      "2024-08-30 16:08:53 INFO  Version:21 - HV000001: Hibernate Validator null\n",
      "2024-08-30 16:08:53 DEBUG AbstractConfigurationImpl:176 - Setting custom MessageInterpolator of type au.csiro.pathling.shaded.org.hibernate.validator.messageinterpolation.ParameterMessageInterpolator\n",
      "2024-08-30 16:08:53 DEBUG ValidationXmlParser:122 - Trying to load META-INF/validation.xml for XML based Validator configuration.\n",
      "2024-08-30 16:08:53 DEBUG ResourceLoaderHelper:61 - Trying to load META-INF/validation.xml via TCCL\n",
      "2024-08-30 16:08:53 DEBUG ResourceLoaderHelper:67 - Trying to load META-INF/validation.xml via Hibernate Validator's class loader\n",
      "2024-08-30 16:08:53 DEBUG ValidationXmlParser:129 - No META-INF/validation.xml found. Using annotation based configuration only.\n",
      "2024-08-30 16:08:53 DEBUG TraversableResolvers:61 - Cannot find jakarta.persistence.Persistence on classpath. Assuming non JPA 2 environment. All properties will per default be traversable.\n",
      "2024-08-30 16:08:53 DEBUG ValidatorFactoryConfigurationHelper:355 - HV000252: Using au.csiro.pathling.shaded.org.hibernate.validator.internal.engine.DefaultPropertyNodeNameProvider as property node name provider.\n",
      "2024-08-30 16:08:53 DEBUG ValidatorFactoryConfigurationHelper:447 - HV000234: Using au.csiro.pathling.shaded.org.hibernate.validator.messageinterpolation.ParameterMessageInterpolator as ValidatorFactory-scoped message interpolator.\n",
      "2024-08-30 16:08:53 DEBUG ValidatorFactoryConfigurationHelper:448 - HV000234: Using au.csiro.pathling.shaded.org.hibernate.validator.internal.engine.resolver.TraverseAllTraversableResolver as ValidatorFactory-scoped traversable resolver.\n",
      "2024-08-30 16:08:53 DEBUG ValidatorFactoryConfigurationHelper:449 - HV000234: Using au.csiro.pathling.shaded.org.hibernate.validator.internal.util.ExecutableParameterNameProvider as ValidatorFactory-scoped parameter name provider.\n",
      "2024-08-30 16:08:53 DEBUG ValidatorFactoryConfigurationHelper:450 - HV000234: Using au.csiro.pathling.shaded.org.hibernate.validator.internal.engine.DefaultClockProvider as ValidatorFactory-scoped clock provider.\n",
      "2024-08-30 16:08:53 DEBUG ValidatorFactoryConfigurationHelper:451 - HV000234: Using au.csiro.pathling.shaded.org.hibernate.validator.internal.engine.scripting.DefaultScriptEvaluatorFactory as ValidatorFactory-scoped script evaluator factory.\n",
      "2024-08-30 16:08:53 DEBUG ConstraintDescriptorImpl:646 - Adding composing constraint: ConstraintDescriptorImpl{annotation=j.v.c.Pattern, payloads=[], hasComposingConstraints=true, isReportAsSingleInvalidConstraint=false, constraintLocationKind=FIELD, definedOn=DEFINED_LOCALLY, groups=[interface jakarta.validation.groups.Default], attributes={flags=[Ljakarta.validation.constraints.Pattern$Flag;@15286393, groups=[Ljava.lang.Class;@12cd10dd, regexp=.*, message={jakarta.validation.constraints.Pattern.message}, payload=[Ljava.lang.Class;@315c7ad6}, constraintType=GENERIC, valueUnwrapping=DEFAULT}.\n",
      "2024-08-30 16:08:53 DEBUG ConstraintDescriptorImpl:646 - Adding composing constraint: ConstraintDescriptorImpl{annotation=j.v.c.Pattern, payloads=[], hasComposingConstraints=true, isReportAsSingleInvalidConstraint=false, constraintLocationKind=FIELD, definedOn=DEFINED_LOCALLY, groups=[interface jakarta.validation.groups.Default], attributes={flags=[Ljakarta.validation.constraints.Pattern$Flag;@15286393, groups=[Ljava.lang.Class;@63b93a0e, regexp=.*, message={jakarta.validation.constraints.Pattern.message}, payload=[Ljava.lang.Class;@336b4108}, constraintType=GENERIC, valueUnwrapping=DEFAULT}.\n",
      "2024-08-30 16:08:53 WARN  SimpleFunctionRegistry:72 - The function date_diff replaced a previously registered function.\n"
     ]
    }
   ],
   "execution_count": 3
  },
  {
   "metadata": {
    "ExecuteTime": {
     "end_time": "2024-08-30T06:11:26.971756Z",
     "start_time": "2024-08-30T06:11:26.284720Z"
    }
   },
   "cell_type": "code",
   "source": "ds = pc.read.parquet(\"/Users/szu004/dev/mimic-vi-fhir/target/mimic4-demo-ptl-part\")",
   "id": "142055e80c788655",
   "outputs": [],
   "execution_count": 8
  },
  {
   "metadata": {
    "ExecuteTime": {
     "end_time": "2024-08-30T06:11:31.481797Z",
     "start_time": "2024-08-30T06:11:29.659617Z"
    }
   },
   "cell_type": "code",
   "source": "ds.read('Encounter').show()",
   "id": "71124402fdd03d61",
   "outputs": [
    {
     "name": "stdout",
     "output_type": "stream",
     "text": [
      "2024-08-30 16:11:29 WARN  SparkStringUtils:72 - Truncated the string representation of a plan since it was too large. This behavior can be adjusted by setting 'spark.sql.debug.maxToStringFields'.\n"
     ]
    },
    {
     "name": "stderr",
     "output_type": "stream",
     "text": [
      "                                                                                \r"
     ]
    },
    {
     "name": "stdout",
     "output_type": "stream",
     "text": [
      "+--------------------+--------------------+--------------------+-------------+--------+----+--------------------+--------+-------------+--------------------+------------+--------------------+--------------------+--------------------+--------------------+-------------+-------+-----------+-----------+--------------------+------+----------+---------------+---------+-------+--------------------+--------------------+--------------------+------+----------+----------+--------------+\n",
      "|                  id|        id_versioned|                meta|implicitRules|language|text|          identifier|  status|statusHistory|               class|classHistory|                type|         serviceType|            priority|             subject|episodeOfCare|basedOn|participant|appointment|              period|length|reasonCode|reasonReference|diagnosis|account|     hospitalization|            location|     serviceProvider|partOf|      _fid|_extension|    mimic_type|\n",
      "+--------------------+--------------------+--------------------+-------------+--------+----+--------------------+--------+-------------+--------------------+------------+--------------------+--------------------+--------------------+--------------------+-------------+-------+-----------+-----------+--------------------+------+----------+---------------+---------+-------+--------------------+--------------------+--------------------+------+----------+----------+--------------+\n",
      "|9c4ef2ae-dd61-5ef...|Encounter/9c4ef2a...|{NULL, NULL, NULL...|         NULL|    NULL|NULL|[{NULL, usual, NU...|finished|         NULL|{NULL, http://ter...|        NULL|[{NULL, [{NULL, h...|{NULL, [{NULL, ht...|{NULL, [{NULL, ht...|{NULL, Patient/0a...|         NULL|   NULL|       NULL|       NULL|{NULL, 2180-05-06...|  NULL|      NULL|           NULL|     NULL|   NULL|{NULL, NULL, NULL...|[{NULL, {NULL, Lo...|{NULL, Organizati...|  NULL|1347533930|        {}|MimicEncounter|\n",
      "|89ec6d79-e48d-569...|Encounter/89ec6d7...|{NULL, NULL, NULL...|         NULL|    NULL|NULL|[{NULL, usual, NU...|finished|         NULL|{NULL, http://ter...|        NULL|[{NULL, [{NULL, h...|{NULL, [{NULL, ht...|{NULL, [{NULL, ht...|{NULL, Patient/0a...|         NULL|   NULL|       NULL|       NULL|{NULL, 2180-06-26...|  NULL|      NULL|           NULL|     NULL|   NULL|{NULL, NULL, NULL...|[{NULL, {NULL, Lo...|{NULL, Organizati...|  NULL|1368341515|        {}|MimicEncounter|\n",
      "|8f0d2759-331b-5ef...|Encounter/8f0d275...|{NULL, NULL, NULL...|         NULL|    NULL|NULL|[{NULL, usual, NU...|finished|         NULL|{NULL, http://ter...|        NULL|[{NULL, [{NULL, h...|{NULL, [{NULL, ht...|{NULL, [{NULL, ht...|{NULL, Patient/0a...|         NULL|   NULL|       NULL|       NULL|{NULL, 2180-08-05...|  NULL|      NULL|           NULL|     NULL|   NULL|{NULL, NULL, NULL...|[{NULL, {NULL, Lo...|{NULL, Organizati...|  NULL|1498011116|        {}|MimicEncounter|\n",
      "|8a5be724-d9d4-5a4...|Encounter/8a5be72...|{NULL, NULL, NULL...|         NULL|    NULL|NULL|[{NULL, usual, NU...|finished|         NULL|{NULL, http://ter...|        NULL|[{NULL, [{NULL, h...|{NULL, [{NULL, ht...|{NULL, [{NULL, ht...|{NULL, Patient/0a...|         NULL|   NULL|       NULL|       NULL|{NULL, 2180-07-23...|  NULL|      NULL|           NULL|     NULL|   NULL|{NULL, NULL, NULL...|[{NULL, {NULL, Lo...|{NULL, Organizati...|  NULL| 940450114|        {}|MimicEncounter|\n",
      "|ba829745-66af-547...|Encounter/ba82974...|{NULL, NULL, NULL...|         NULL|    NULL|NULL|[{NULL, usual, NU...|finished|         NULL|{NULL, http://ter...|        NULL|[{NULL, [{NULL, h...|{NULL, [{NULL, ht...|{NULL, [{NULL, ht...|{NULL, Patient/0c...|         NULL|   NULL|       NULL|       NULL|{NULL, 2149-10-01...|  NULL|      NULL|           NULL|     NULL|   NULL|{NULL, NULL, NULL...|[{NULL, {NULL, Lo...|{NULL, Organizati...|  NULL|1589394923|        {}|MimicEncounter|\n",
      "|47f1f4fc-e2be-5e4...|Encounter/47f1f4f...|{NULL, NULL, NULL...|         NULL|    NULL|NULL|[{NULL, usual, NU...|finished|         NULL|{NULL, http://ter...|        NULL|[{NULL, [{NULL, h...|{NULL, [{NULL, ht...|{NULL, [{NULL, ht...|{NULL, Patient/0c...|         NULL|   NULL|       NULL|       NULL|{NULL, 2149-09-20...|  NULL|      NULL|           NULL|     NULL|   NULL|{NULL, NULL, NULL...|[{NULL, {NULL, Lo...|{NULL, Organizati...|  NULL|1761957732|        {}|MimicEncounter|\n",
      "|ae04a78b-4073-5c5...|Encounter/ae04a78...|{NULL, NULL, NULL...|         NULL|    NULL|NULL|[{NULL, usual, NU...|finished|         NULL|{NULL, http://ter...|        NULL|[{NULL, [{NULL, h...|{NULL, [{NULL, ht...|{NULL, [{NULL, ht...|{NULL, Patient/0c...|         NULL|   NULL|       NULL|       NULL|{NULL, 2146-06-06...|  NULL|      NULL|           NULL|     NULL|   NULL|{NULL, NULL, NULL...|[{NULL, {NULL, Lo...|{NULL, Organizati...|  NULL| 808313925|        {}|MimicEncounter|\n",
      "|43ee2231-4dab-55e...|Encounter/43ee223...|{NULL, NULL, NULL...|         NULL|    NULL|NULL|[{NULL, usual, NU...|finished|         NULL|{NULL, http://ter...|        NULL|[{NULL, [{NULL, h...|{NULL, [{NULL, ht...|{NULL, [{NULL, ht...|{NULL, Patient/0c...|         NULL|   NULL|       NULL|       NULL|{NULL, 2149-09-13...|  NULL|      NULL|           NULL|     NULL|   NULL|{NULL, NULL, NULL...|[{NULL, {NULL, Lo...|{NULL, Organizati...|  NULL| 606716803|        {}|MimicEncounter|\n",
      "|dd6b8e83-b6a4-522...|Encounter/dd6b8e8...|{NULL, NULL, NULL...|         NULL|    NULL|NULL|[{NULL, usual, NU...|finished|         NULL|{NULL, http://ter...|        NULL|[{NULL, [{NULL, h...|{NULL, [{NULL, ht...|{NULL, [{NULL, ht...|{NULL, Patient/0c...|         NULL|   NULL|       NULL|       NULL|{NULL, 2149-02-11...|  NULL|      NULL|           NULL|     NULL|   NULL|{NULL, NULL, NULL...|[{NULL, {NULL, Lo...|{NULL, Organizati...|  NULL|1556808297|        {}|MimicEncounter|\n",
      "|4afcb117-13da-599...|Encounter/4afcb11...|{NULL, NULL, NULL...|         NULL|    NULL|NULL|[{NULL, usual, NU...|finished|         NULL|{NULL, http://ter...|        NULL|[{NULL, [{NULL, h...|{NULL, [{NULL, ht...|{NULL, [{NULL, ht...|{NULL, Patient/0c...|         NULL|   NULL|       NULL|       NULL|{NULL, 2149-06-20...|  NULL|      NULL|           NULL|     NULL|   NULL|{NULL, NULL, NULL...|[{NULL, {NULL, Lo...|{NULL, Organizati...|  NULL|1828845988|        {}|MimicEncounter|\n",
      "|00b9b622-9138-5eb...|Encounter/00b9b62...|{NULL, NULL, NULL...|         NULL|    NULL|NULL|[{NULL, usual, NU...|finished|         NULL|{NULL, http://ter...|        NULL|[{NULL, [{NULL, h...|{NULL, [{NULL, ht...|{NULL, [{NULL, ht...|{NULL, Patient/0c...|         NULL|   NULL|       NULL|       NULL|{NULL, 2148-03-10...|  NULL|      NULL|           NULL|     NULL|   NULL|{NULL, NULL, NULL...|[{NULL, {NULL, Lo...|{NULL, Organizati...|  NULL|2017118248|        {}|MimicEncounter|\n",
      "|87c071b7-6e94-580...|Encounter/87c071b...|{NULL, NULL, NULL...|         NULL|    NULL|NULL|[{NULL, usual, NU...|finished|         NULL|{NULL, http://ter...|        NULL|[{NULL, [{NULL, h...|{NULL, [{NULL, ht...|{NULL, [{NULL, ht...|{NULL, Patient/13...|         NULL|   NULL|       NULL|       NULL|{NULL, 2177-03-12...|  NULL|      NULL|           NULL|     NULL|   NULL|{NULL, NULL, NULL...|[{NULL, {NULL, Lo...|{NULL, Organizati...|  NULL| 236119217|        {}|MimicEncounter|\n",
      "|4bf70b2e-29af-551...|Encounter/4bf70b2...|{NULL, NULL, NULL...|         NULL|    NULL|NULL|[{NULL, usual, NU...|finished|         NULL|{NULL, http://ter...|        NULL|[{NULL, [{NULL, h...|{NULL, [{NULL, ht...|{NULL, [{NULL, ht...|{NULL, Patient/15...|         NULL|   NULL|       NULL|       NULL|{NULL, 2144-10-28...|  NULL|      NULL|           NULL|     NULL|   NULL|{NULL, NULL, NULL...|[{NULL, {NULL, Lo...|{NULL, Organizati...|  NULL|1887218264|        {}|MimicEncounter|\n",
      "|46013f4e-5b90-563...|Encounter/46013f4...|{NULL, NULL, NULL...|         NULL|    NULL|NULL|[{NULL, usual, NU...|finished|         NULL|{NULL, http://ter...|        NULL|[{NULL, [{NULL, h...|{NULL, [{NULL, ht...|{NULL, [{NULL, ht...|{NULL, Patient/1a...|         NULL|   NULL|       NULL|       NULL|{NULL, 2148-09-10...|  NULL|      NULL|           NULL|     NULL|   NULL|{NULL, NULL, NULL...|[{NULL, {NULL, Lo...|{NULL, Organizati...|  NULL|1146521165|        {}|MimicEncounter|\n",
      "|dac582e5-9303-50f...|Encounter/dac582e...|{NULL, NULL, NULL...|         NULL|    NULL|NULL|[{NULL, usual, NU...|finished|         NULL|{NULL, http://ter...|        NULL|[{NULL, [{NULL, h...|{NULL, [{NULL, ht...|{NULL, [{NULL, ht...|{NULL, Patient/1b...|         NULL|   NULL|       NULL|       NULL|{NULL, 2143-02-17...|  NULL|      NULL|           NULL|     NULL|   NULL|{NULL, NULL, NULL...|[{NULL, {NULL, Lo...|{NULL, Organizati...|  NULL| 434261769|        {}|MimicEncounter|\n",
      "|d2175a06-c3ab-5e2...|Encounter/d2175a0...|{NULL, NULL, NULL...|         NULL|    NULL|NULL|[{NULL, usual, NU...|finished|         NULL|{NULL, http://ter...|        NULL|[{NULL, [{NULL, h...|{NULL, [{NULL, ht...|{NULL, [{NULL, ht...|{NULL, Patient/1b...|         NULL|   NULL|       NULL|       NULL|{NULL, 2143-03-22...|  NULL|      NULL|           NULL|     NULL|   NULL|{NULL, NULL, NULL...|[{NULL, {NULL, Lo...|{NULL, Organizati...|  NULL|1905778239|        {}|MimicEncounter|\n",
      "|dcd2507e-f200-5bf...|Encounter/dcd2507...|{NULL, NULL, NULL...|         NULL|    NULL|NULL|[{NULL, usual, NU...|finished|         NULL|{NULL, http://ter...|        NULL|[{NULL, [{NULL, h...|{NULL, [{NULL, ht...|{NULL, [{NULL, ht...|{NULL, Patient/1c...|         NULL|   NULL|       NULL|       NULL|{NULL, 2188-08-06...|  NULL|      NULL|           NULL|     NULL|   NULL|{NULL, NULL, NULL...|[{NULL, {NULL, Lo...|{NULL, Organizati...|  NULL|  14448082|        {}|MimicEncounter|\n",
      "|a604549e-5294-536...|Encounter/a604549...|{NULL, NULL, NULL...|         NULL|    NULL|NULL|[{NULL, usual, NU...|finished|         NULL|{NULL, http://ter...|        NULL|[{NULL, [{NULL, h...|{NULL, [{NULL, ht...|{NULL, [{NULL, ht...|{NULL, Patient/1c...|         NULL|   NULL|       NULL|       NULL|{NULL, 2192-07-31...|  NULL|      NULL|           NULL|     NULL|   NULL|{NULL, NULL, NULL...|[{NULL, {NULL, Lo...|{NULL, Organizati...|  NULL|1226724138|        {}|MimicEncounter|\n",
      "|4bc11f26-04fe-578...|Encounter/4bc11f2...|{NULL, NULL, NULL...|         NULL|    NULL|NULL|[{NULL, usual, NU...|finished|         NULL|{NULL, http://ter...|        NULL|[{NULL, [{NULL, h...|{NULL, [{NULL, ht...|{NULL, [{NULL, ht...|{NULL, Patient/1c...|         NULL|   NULL|       NULL|       NULL|{NULL, 2193-11-23...|  NULL|      NULL|           NULL|     NULL|   NULL|{NULL, NULL, NULL...|[{NULL, {NULL, Lo...|{NULL, Organizati...|  NULL|1859259686|        {}|MimicEncounter|\n",
      "|470a8785-8c11-5f0...|Encounter/470a878...|{NULL, NULL, NULL...|         NULL|    NULL|NULL|[{NULL, usual, NU...|finished|         NULL|{NULL, http://ter...|        NULL|[{NULL, [{NULL, h...|{NULL, [{NULL, ht...|{NULL, [{NULL, ht...|{NULL, Patient/1c...|         NULL|   NULL|       NULL|       NULL|{NULL, 2192-05-12...|  NULL|      NULL|           NULL|     NULL|   NULL|{NULL, NULL, NULL...|[{NULL, {NULL, Lo...|{NULL, Organizati...|  NULL|1311109288|        {}|MimicEncounter|\n",
      "+--------------------+--------------------+--------------------+-------------+--------+----+--------------------+--------+-------------+--------------------+------------+--------------------+--------------------+--------------------+--------------------+-------------+-------+-----------+-----------+--------------------+------+----------+---------------+---------+-------+--------------------+--------------------+--------------------+------+----------+----------+--------------+\n",
      "only showing top 20 rows\n",
      "\n"
     ]
    }
   ],
   "execution_count": 9
  }
 ],
 "metadata": {
  "kernelspec": {
   "display_name": "Python 3",
   "language": "python",
   "name": "python3"
  },
  "language_info": {
   "codemirror_mode": {
    "name": "ipython",
    "version": 2
   },
   "file_extension": ".py",
   "mimetype": "text/x-python",
   "name": "python",
   "nbconvert_exporter": "python",
   "pygments_lexer": "ipython2",
   "version": "2.7.6"
  }
 },
 "nbformat": 4,
 "nbformat_minor": 5
}
