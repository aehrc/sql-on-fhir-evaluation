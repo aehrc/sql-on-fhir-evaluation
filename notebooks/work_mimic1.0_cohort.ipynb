{
 "cells": [
  {
   "cell_type": "code",
   "id": "initial_id",
   "metadata": {
    "collapsed": true,
    "ExecuteTime": {
     "end_time": "2024-09-08T23:01:19.152622Z",
     "start_time": "2024-09-08T23:01:19.027214Z"
    }
   },
   "source": [
    "import duckdb\n",
    "duckdb.sql(\"ATTACH 'dbname=mimic1 user=szu004' AS db (TYPE POSTGRES, READ_ONLY)\")\n",
    "duckdb.sql(\"USE db\")"
   ],
   "outputs": [],
   "execution_count": 1
  },
  {
   "metadata": {
    "ExecuteTime": {
     "end_time": "2024-09-08T23:01:19.184251Z",
     "start_time": "2024-09-08T23:01:19.157614Z"
    }
   },
   "cell_type": "code",
   "source": [
    "# ALL ICU stays (paper reports 765,40)\n",
    "duckdb.sql(\"SELECT COUNT(*) as icu_stay_count FROM mimic_derived.icustay_detail\")"
   ],
   "id": "8ae337447f0cc273",
   "outputs": [
    {
     "data": {
      "text/plain": [
       "┌────────────────┐\n",
       "│ icu_stay_count │\n",
       "│     int64      │\n",
       "├────────────────┤\n",
       "│          76540 │\n",
       "└────────────────┘"
      ]
     },
     "execution_count": 2,
     "metadata": {},
     "output_type": "execute_result"
    }
   ],
   "execution_count": 2
  },
  {
   "metadata": {
    "ExecuteTime": {
     "end_time": "2024-09-08T23:01:19.279893Z",
     "start_time": "2024-09-08T23:01:19.253337Z"
    }
   },
   "cell_type": "code",
   "source": "duckdb.sql(\"SELECT COUNT(DISTINCT subject_id) as icu_stay_count FROM mimic_derived.icustay_detail\")",
   "id": "303a47b51fce8476",
   "outputs": [
    {
     "data": {
      "text/plain": [
       "┌────────────────┐\n",
       "│ icu_stay_count │\n",
       "│     int64      │\n",
       "├────────────────┤\n",
       "│          53150 │\n",
       "└────────────────┘"
      ]
     },
     "execution_count": 3,
     "metadata": {},
     "output_type": "execute_result"
    }
   ],
   "execution_count": 3
  },
  {
   "metadata": {
    "ExecuteTime": {
     "end_time": "2024-09-08T23:01:19.395205Z",
     "start_time": "2024-09-08T23:01:19.342209Z"
    }
   },
   "cell_type": "code",
   "source": [
    "# Ventilation interventions\n",
    "stays_with_interventions = duckdb.sql(\"\"\"\n",
    "WITH iws AS (\n",
    "    SELECT stay_id, starttime as  inttime, ventilation_status AS int_type, row_number() OVER (PARTITION BY stay_id ORDER BY starttime) AS int_sequence\n",
    "    FROM mimic_derived.ventilation\n",
    "    WHERE ventilation_status NOT in ('None', 'SupplementalOxygen')\n",
    ")\n",
    "SELECT stay_id, inttime, int_type FROM iws WHERE int_sequence = 1\n",
    "\"\"\")\n",
    "stays_with_interventions.count(\"*\")"
   ],
   "id": "4b1c97b7a4a8f57a",
   "outputs": [
    {
     "data": {
      "text/plain": [
       "┌──────────────┐\n",
       "│ count_star() │\n",
       "│    int64     │\n",
       "├──────────────┤\n",
       "│        27096 │\n",
       "└──────────────┘"
      ]
     },
     "execution_count": 4,
     "metadata": {},
     "output_type": "execute_result"
    }
   ],
   "execution_count": 4
  },
  {
   "metadata": {
    "ExecuteTime": {
     "end_time": "2024-09-08T23:01:20.104889Z",
     "start_time": "2024-09-08T23:01:19.520346Z"
    }
   },
   "cell_type": "code",
   "source": [
    "# Patients with index period\n",
    "patient_with_index_period=duckdb.sql(\"\"\"\n",
    "WITH patient_with_intervention AS (\n",
    "    SELECT isd.*, v.inttime, v.int_type FROM mimic_derived.icustay_detail AS isd\n",
    "    LEFT OUTER JOIN stays_with_interventions AS v ON isd.stay_id = v.stay_id\n",
    "    WHERE first_icu_stay AND first_hosp_stay\n",
    ")\n",
    "SELECT subject_id, stay_id, gender, ethnicity, \n",
    "    admittime AS ip_starttime,\n",
    "    GREATEST(admittime, LEAST( dischtime, inttime, admittime + interval '5 days')) AS ip_endtime,\n",
    "    inttime, int_type\n",
    "    FROM patient_with_intervention\n",
    "\"\"\")\n",
    "patient_with_index_period.df()                     "
   ],
   "id": "cdab9b017617f1b5",
   "outputs": [
    {
     "data": {
      "text/plain": [
       "       subject_id   stay_id gender               ethnicity  \\\n",
       "0        10001884  37510196      F  BLACK/AFRICAN AMERICAN   \n",
       "1        10002430  38392119      M                   WHITE   \n",
       "2        10002495  36753294      M                 UNKNOWN   \n",
       "3        10002760  31831386      M        UNABLE TO OBTAIN   \n",
       "4        10003400  32128372      F  BLACK/AFRICAN AMERICAN   \n",
       "...           ...       ...    ...                     ...   \n",
       "53145    19960743  31609242      F                   WHITE   \n",
       "53146    19968075  31756531      M                 UNKNOWN   \n",
       "53147    19970265  38356273      M                   WHITE   \n",
       "53148    19995780  36805359      M                   WHITE   \n",
       "53149    19991538  39801924      M                   WHITE   \n",
       "\n",
       "             ip_starttime          ip_endtime             inttime  \\\n",
       "0     2131-01-07 20:39:00 2131-01-11 04:00:00 2131-01-11 04:00:00   \n",
       "1     2129-06-13 00:00:00 2129-06-13 07:00:00 2129-06-13 07:00:00   \n",
       "2     2141-05-22 20:17:00 2141-05-23 20:22:00 2141-05-23 20:22:00   \n",
       "3     2141-04-20 07:15:00 2141-04-20 14:36:00 2141-04-20 14:36:00   \n",
       "4     2137-02-24 10:00:00 2137-02-25 23:37:00 2137-02-25 23:37:00   \n",
       "...                   ...                 ...                 ...   \n",
       "53145 2141-01-28 12:45:00 2141-01-29 12:09:00 2141-01-29 12:09:00   \n",
       "53146 2153-04-22 09:27:00 2153-04-22 15:00:00 2153-04-22 15:00:00   \n",
       "53147 2115-03-28 17:37:00 2115-03-28 18:32:00 2115-03-28 18:32:00   \n",
       "53148 2125-10-20 11:30:00 2125-10-20 13:00:00 2125-10-20 13:00:00   \n",
       "53149 2188-11-24 07:01:00 2188-11-24 07:01:00 2188-11-24 07:00:00   \n",
       "\n",
       "              int_type  \n",
       "0         InvasiveVent  \n",
       "1                 HFNC  \n",
       "2      NonInvasiveVent  \n",
       "3         InvasiveVent  \n",
       "4         InvasiveVent  \n",
       "...                ...  \n",
       "53145     InvasiveVent  \n",
       "53146     InvasiveVent  \n",
       "53147     InvasiveVent  \n",
       "53148     InvasiveVent  \n",
       "53149     InvasiveVent  \n",
       "\n",
       "[53150 rows x 8 columns]"
      ],
      "text/html": [
       "<div>\n",
       "<style scoped>\n",
       "    .dataframe tbody tr th:only-of-type {\n",
       "        vertical-align: middle;\n",
       "    }\n",
       "\n",
       "    .dataframe tbody tr th {\n",
       "        vertical-align: top;\n",
       "    }\n",
       "\n",
       "    .dataframe thead th {\n",
       "        text-align: right;\n",
       "    }\n",
       "</style>\n",
       "<table border=\"1\" class=\"dataframe\">\n",
       "  <thead>\n",
       "    <tr style=\"text-align: right;\">\n",
       "      <th></th>\n",
       "      <th>subject_id</th>\n",
       "      <th>stay_id</th>\n",
       "      <th>gender</th>\n",
       "      <th>ethnicity</th>\n",
       "      <th>ip_starttime</th>\n",
       "      <th>ip_endtime</th>\n",
       "      <th>inttime</th>\n",
       "      <th>int_type</th>\n",
       "    </tr>\n",
       "  </thead>\n",
       "  <tbody>\n",
       "    <tr>\n",
       "      <th>0</th>\n",
       "      <td>10001884</td>\n",
       "      <td>37510196</td>\n",
       "      <td>F</td>\n",
       "      <td>BLACK/AFRICAN AMERICAN</td>\n",
       "      <td>2131-01-07 20:39:00</td>\n",
       "      <td>2131-01-11 04:00:00</td>\n",
       "      <td>2131-01-11 04:00:00</td>\n",
       "      <td>InvasiveVent</td>\n",
       "    </tr>\n",
       "    <tr>\n",
       "      <th>1</th>\n",
       "      <td>10002430</td>\n",
       "      <td>38392119</td>\n",
       "      <td>M</td>\n",
       "      <td>WHITE</td>\n",
       "      <td>2129-06-13 00:00:00</td>\n",
       "      <td>2129-06-13 07:00:00</td>\n",
       "      <td>2129-06-13 07:00:00</td>\n",
       "      <td>HFNC</td>\n",
       "    </tr>\n",
       "    <tr>\n",
       "      <th>2</th>\n",
       "      <td>10002495</td>\n",
       "      <td>36753294</td>\n",
       "      <td>M</td>\n",
       "      <td>UNKNOWN</td>\n",
       "      <td>2141-05-22 20:17:00</td>\n",
       "      <td>2141-05-23 20:22:00</td>\n",
       "      <td>2141-05-23 20:22:00</td>\n",
       "      <td>NonInvasiveVent</td>\n",
       "    </tr>\n",
       "    <tr>\n",
       "      <th>3</th>\n",
       "      <td>10002760</td>\n",
       "      <td>31831386</td>\n",
       "      <td>M</td>\n",
       "      <td>UNABLE TO OBTAIN</td>\n",
       "      <td>2141-04-20 07:15:00</td>\n",
       "      <td>2141-04-20 14:36:00</td>\n",
       "      <td>2141-04-20 14:36:00</td>\n",
       "      <td>InvasiveVent</td>\n",
       "    </tr>\n",
       "    <tr>\n",
       "      <th>4</th>\n",
       "      <td>10003400</td>\n",
       "      <td>32128372</td>\n",
       "      <td>F</td>\n",
       "      <td>BLACK/AFRICAN AMERICAN</td>\n",
       "      <td>2137-02-24 10:00:00</td>\n",
       "      <td>2137-02-25 23:37:00</td>\n",
       "      <td>2137-02-25 23:37:00</td>\n",
       "      <td>InvasiveVent</td>\n",
       "    </tr>\n",
       "    <tr>\n",
       "      <th>...</th>\n",
       "      <td>...</td>\n",
       "      <td>...</td>\n",
       "      <td>...</td>\n",
       "      <td>...</td>\n",
       "      <td>...</td>\n",
       "      <td>...</td>\n",
       "      <td>...</td>\n",
       "      <td>...</td>\n",
       "    </tr>\n",
       "    <tr>\n",
       "      <th>53145</th>\n",
       "      <td>19960743</td>\n",
       "      <td>31609242</td>\n",
       "      <td>F</td>\n",
       "      <td>WHITE</td>\n",
       "      <td>2141-01-28 12:45:00</td>\n",
       "      <td>2141-01-29 12:09:00</td>\n",
       "      <td>2141-01-29 12:09:00</td>\n",
       "      <td>InvasiveVent</td>\n",
       "    </tr>\n",
       "    <tr>\n",
       "      <th>53146</th>\n",
       "      <td>19968075</td>\n",
       "      <td>31756531</td>\n",
       "      <td>M</td>\n",
       "      <td>UNKNOWN</td>\n",
       "      <td>2153-04-22 09:27:00</td>\n",
       "      <td>2153-04-22 15:00:00</td>\n",
       "      <td>2153-04-22 15:00:00</td>\n",
       "      <td>InvasiveVent</td>\n",
       "    </tr>\n",
       "    <tr>\n",
       "      <th>53147</th>\n",
       "      <td>19970265</td>\n",
       "      <td>38356273</td>\n",
       "      <td>M</td>\n",
       "      <td>WHITE</td>\n",
       "      <td>2115-03-28 17:37:00</td>\n",
       "      <td>2115-03-28 18:32:00</td>\n",
       "      <td>2115-03-28 18:32:00</td>\n",
       "      <td>InvasiveVent</td>\n",
       "    </tr>\n",
       "    <tr>\n",
       "      <th>53148</th>\n",
       "      <td>19995780</td>\n",
       "      <td>36805359</td>\n",
       "      <td>M</td>\n",
       "      <td>WHITE</td>\n",
       "      <td>2125-10-20 11:30:00</td>\n",
       "      <td>2125-10-20 13:00:00</td>\n",
       "      <td>2125-10-20 13:00:00</td>\n",
       "      <td>InvasiveVent</td>\n",
       "    </tr>\n",
       "    <tr>\n",
       "      <th>53149</th>\n",
       "      <td>19991538</td>\n",
       "      <td>39801924</td>\n",
       "      <td>M</td>\n",
       "      <td>WHITE</td>\n",
       "      <td>2188-11-24 07:01:00</td>\n",
       "      <td>2188-11-24 07:01:00</td>\n",
       "      <td>2188-11-24 07:00:00</td>\n",
       "      <td>InvasiveVent</td>\n",
       "    </tr>\n",
       "  </tbody>\n",
       "</table>\n",
       "<p>53150 rows × 8 columns</p>\n",
       "</div>"
      ]
     },
     "execution_count": 5,
     "metadata": {},
     "output_type": "execute_result"
    }
   ],
   "execution_count": 5
  },
  {
   "metadata": {
    "ExecuteTime": {
     "end_time": "2024-09-08T23:01:20.676788Z",
     "start_time": "2024-09-08T23:01:20.420492Z"
    }
   },
   "cell_type": "code",
   "source": [
    "## VALIDATE: Patients with index period\n",
    "# Unique patients (subject id)\n",
    "assert duckdb.sql(\"SELECT subject_id, COUNT(*) FROM patient_with_index_period GROUP BY subject_id HAVING COUNT(*) > 1\").fetchone() is None\n",
    "# Unique stays (stay id)\n",
    "assert duckdb.sql(\"SELECT stay_id, COUNT(*) FROM patient_with_index_period GROUP BY stay_id HAVING COUNT(*) > 1\").fetchone() is None\n",
    "# valid index period (ip_endtime >= ip_starttime)\n",
    "assert duckdb.sql(\"SELECT * FROM patient_with_index_period WHERE ip_endtime < ip_starttime\").fetchone() is None\n",
    "# max lenth of index period is 5 days\n",
    "assert duckdb.sql(\"SELECT * FROM patient_with_index_period WHERE ip_endtime - ip_starttime > interval '5 days'\").fetchone() is None"
   ],
   "id": "b02e572afa2c3a01",
   "outputs": [],
   "execution_count": 6
  },
  {
   "metadata": {
    "ExecuteTime": {
     "end_time": "2024-09-08T23:01:20.824423Z",
     "start_time": "2024-09-08T23:01:20.692086Z"
    }
   },
   "cell_type": "code",
   "source": [
    "# Valida nasal canula o2 flow\n",
    "nasal_canula_o2_flow = duckdb.sql(\"\"\"\n",
    "WITH nc_o2 AS (\n",
    "    SELECT *, LEAST(o2_flow, o2_flow_additional) AS o2_flow_nc FROM mimic_derived.oxygen_delivery WHERE o2_delivery_device_1 = 'Nasal cannula' AND o2_delivery_device_2 IS NULL\n",
    ") \n",
    "SELECT subject_id, stay_id, charttime, o2_flow_nc AS o2_flow FROM nc_o2 WHERE o2_flow_nc <= 6\n",
    "\"\"\")\n",
    "nasal_canula_o2_flow"
   ],
   "id": "5c3b1d3e83663b29",
   "outputs": [
    {
     "data": {
      "text/plain": [
       "┌────────────┬──────────┬─────────────────────┬─────────┐\n",
       "│ subject_id │ stay_id  │      charttime      │ o2_flow │\n",
       "│   int32    │  int32   │      timestamp      │ double  │\n",
       "├────────────┼──────────┼─────────────────────┼─────────┤\n",
       "│   10000032 │ 39553978 │ 2180-07-23 14:20:00 │     2.0 │\n",
       "│   10000032 │ 39553978 │ 2180-07-23 18:00:00 │     2.0 │\n",
       "│   10000032 │ 39553978 │ 2180-07-23 20:00:00 │     2.0 │\n",
       "│   10000980 │ 39765666 │ 2189-06-27 10:00:00 │     3.0 │\n",
       "│   10001217 │ 37067082 │ 2157-11-20 19:47:00 │     2.0 │\n",
       "│   10001217 │ 37067082 │ 2157-11-20 22:00:00 │     2.0 │\n",
       "│   10001217 │ 37067082 │ 2157-11-21 00:00:00 │     2.0 │\n",
       "│   10001217 │ 37067082 │ 2157-11-21 02:00:00 │     2.0 │\n",
       "│   10001217 │ 37067082 │ 2157-11-21 08:00:00 │     2.0 │\n",
       "│   10001217 │ 37067082 │ 2157-11-21 18:00:00 │     3.0 │\n",
       "│       ·    │     ·    │          ·          │      ·  │\n",
       "│       ·    │     ·    │          ·          │      ·  │\n",
       "│       ·    │     ·    │          ·          │      ·  │\n",
       "│   10254774 │ 38236413 │ 2119-02-15 18:00:00 │     4.0 │\n",
       "│   10254774 │ 38236413 │ 2119-02-15 19:00:00 │     4.0 │\n",
       "│   10254774 │ 38236413 │ 2119-02-15 20:00:00 │     4.0 │\n",
       "│   10254774 │ 38236413 │ 2119-02-16 00:00:00 │     4.0 │\n",
       "│   10254774 │ 38236413 │ 2119-02-16 04:00:00 │     4.0 │\n",
       "│   10254774 │ 38236413 │ 2119-02-16 08:00:00 │     4.0 │\n",
       "│   10254774 │ 38236413 │ 2119-02-16 12:00:00 │     4.0 │\n",
       "│   10254774 │ 38236413 │ 2119-02-16 16:00:00 │     4.0 │\n",
       "│   10254774 │ 38236413 │ 2119-02-16 18:00:00 │     3.0 │\n",
       "│   10254774 │ 38236413 │ 2119-02-16 20:00:00 │     3.0 │\n",
       "├────────────┴──────────┴─────────────────────┴─────────┤\n",
       "│ ? rows (>9999 rows, 20 shown)               4 columns │\n",
       "└───────────────────────────────────────────────────────┘"
      ]
     },
     "execution_count": 7,
     "metadata": {},
     "output_type": "execute_result"
    }
   ],
   "execution_count": 7
  },
  {
   "metadata": {
    "ExecuteTime": {
     "end_time": "2024-09-08T23:01:20.843620Z",
     "start_time": "2024-09-08T23:01:20.842509Z"
    }
   },
   "cell_type": "code",
   "source": "",
   "id": "aec8f4b40e569081",
   "outputs": [],
   "execution_count": null
  },
  {
   "metadata": {
    "ExecuteTime": {
     "end_time": "2024-09-08T23:01:21.503883Z",
     "start_time": "2024-09-08T23:01:21.329557Z"
    }
   },
   "cell_type": "code",
   "source": [
    "patient_with_o2_data = duckdb.sql(\"\"\"\n",
    "SELECT * FROM patient_with_index_period AS pwi \n",
    "WHERE EXISTS( SELECT 1 FROM nasal_canula_o2_flow AS nco WHERE pwi.stay_id = nco.stay_id AND nco.charttime BETWEEN pwi.ip_starttime AND pwi.ip_endtime)\n",
    "\"\"\")\n",
    "patient_with_o2_data"
   ],
   "id": "38704984c55294c9",
   "outputs": [
    {
     "data": {
      "text/plain": [
       "┌────────────┬──────────┬─────────┬───────────┬───┬─────────────────────┬─────────────────────┬─────────────────┐\n",
       "│ subject_id │ stay_id  │ gender  │ ethnicity │ … │     ip_endtime      │       inttime       │    int_type     │\n",
       "│   int32    │  int32   │ varchar │  varchar  │   │      timestamp      │      timestamp      │     varchar     │\n",
       "├────────────┼──────────┼─────────┼───────────┼───┼─────────────────────┼─────────────────────┼─────────────────┤\n",
       "│   10017531 │ 35526828 │ M       │ WHITE     │ … │ 2159-09-23 17:00:00 │ 2159-09-23 17:00:00 │ InvasiveVent    │\n",
       "│   10157331 │ 35818405 │ M       │ WHITE     │ … │ 2175-05-31 20:00:00 │ 2175-05-31 20:00:00 │ InvasiveVent    │\n",
       "│   10259667 │ 35629197 │ M       │ WHITE     │ … │ 2171-04-21 00:00:00 │ 2171-04-21 00:00:00 │ NonInvasiveVent │\n",
       "│   10026868 │ 31030669 │ M       │ WHITE     │ … │ 2149-10-30 14:42:00 │ NULL                │ NULL            │\n",
       "│   10029514 │ 39053313 │ M       │ UNKNOWN   │ … │ 2112-10-10 21:58:00 │ NULL                │ NULL            │\n",
       "│   10047172 │ 34369439 │ M       │ WHITE     │ … │ 2163-06-20 01:28:00 │ NULL                │ NULL            │\n",
       "│   10048001 │ 31975834 │ M       │ WHITE     │ … │ 2175-02-10 00:14:00 │ NULL                │ NULL            │\n",
       "│   10057218 │ 36369483 │ M       │ WHITE     │ … │ 2152-01-04 19:39:00 │ NULL                │ NULL            │\n",
       "│   10077619 │ 31044655 │ F       │ WHITE     │ … │ 2184-01-18 18:06:00 │ NULL                │ NULL            │\n",
       "│   10078297 │ 32487406 │ F       │ ASIAN     │ … │ 2172-12-07 07:15:00 │ NULL                │ NULL            │\n",
       "│       ·    │     ·    │ ·       │   ·       │ · │          ·          │  ·                  │  ·              │\n",
       "│       ·    │     ·    │ ·       │   ·       │ · │          ·          │  ·                  │  ·              │\n",
       "│       ·    │     ·    │ ·       │   ·       │ · │          ·          │  ·                  │  ·              │\n",
       "│   17414848 │ 34574024 │ F       │ WHITE     │ … │ 2185-11-04 21:49:00 │ NULL                │ NULL            │\n",
       "│   17419338 │ 32139775 │ M       │ WHITE     │ … │ 2155-07-05 17:04:00 │ NULL                │ NULL            │\n",
       "│   17419566 │ 37014871 │ M       │ WHITE     │ … │ 2137-11-13 21:32:00 │ NULL                │ NULL            │\n",
       "│   17434433 │ 35552701 │ M       │ WHITE     │ … │ 2155-09-20 17:40:00 │ NULL                │ NULL            │\n",
       "│   17443681 │ 34728076 │ F       │ WHITE     │ … │ 2184-09-22 22:06:00 │ NULL                │ NULL            │\n",
       "│   17443783 │ 37640648 │ F       │ WHITE     │ … │ 2114-05-14 08:00:00 │ NULL                │ NULL            │\n",
       "│   17448708 │ 37292799 │ F       │ WHITE     │ … │ 2171-04-07 00:39:00 │ NULL                │ NULL            │\n",
       "│   17458908 │ 35462263 │ M       │ WHITE     │ … │ 2157-06-21 00:00:00 │ NULL                │ NULL            │\n",
       "│   17459404 │ 33197181 │ M       │ WHITE     │ … │ 2119-01-23 23:27:00 │ NULL                │ NULL            │\n",
       "│   17465128 │ 36512812 │ F       │ UNKNOWN   │ … │ 2117-07-01 16:57:00 │ NULL                │ NULL            │\n",
       "├────────────┴──────────┴─────────┴───────────┴───┴─────────────────────┴─────────────────────┴─────────────────┤\n",
       "│ ? rows (>9999 rows, 20 shown)                                                             8 columns (7 shown) │\n",
       "└───────────────────────────────────────────────────────────────────────────────────────────────────────────────┘"
      ]
     },
     "execution_count": 8,
     "metadata": {},
     "output_type": "execute_result"
    }
   ],
   "execution_count": 8
  },
  {
   "metadata": {
    "ExecuteTime": {
     "end_time": "2024-09-08T23:01:21.658832Z",
     "start_time": "2024-09-08T23:01:21.509859Z"
    }
   },
   "cell_type": "code",
   "source": [
    "# Initial cohort from the paper: 25,340\n",
    "patient_with_o2_data.count(\"*\")"
   ],
   "id": "bccd2f8275e5f4b2",
   "outputs": [
    {
     "data": {
      "text/plain": [
       "┌──────────────┐\n",
       "│ count_star() │\n",
       "│    int64     │\n",
       "├──────────────┤\n",
       "│        23703 │\n",
       "└──────────────┘"
      ]
     },
     "execution_count": 9,
     "metadata": {},
     "output_type": "execute_result"
    }
   ],
   "execution_count": 9
  },
  {
   "metadata": {
    "ExecuteTime": {
     "end_time": "2024-09-08T23:01:22.629080Z",
     "start_time": "2024-09-08T23:01:22.474513Z"
    }
   },
   "cell_type": "code",
   "source": [
    "patient_with_race = duckdb.sql(\"\"\"\n",
    "WITH patients AS (\n",
    "    SELECT *,\n",
    "    CASE\n",
    "        WHEN ethnicity LIKE 'ASIAN%' THEN 'ASIAN'\n",
    "        WHEN ethnicity LIKE 'BLACK%' THEN 'BLACK'\n",
    "        WHEN ethnicity LIKE 'WHITE%' THEN 'WHITE'\n",
    "        WHEN ethnicity LIKE 'HISPANIC%' THEN 'HISPANIC'\n",
    "        END AS race_category\n",
    "    FROM patient_with_o2_data)\n",
    "SELECT subject_id, stay_id, race_category, gender, ip_starttime, ip_endtime  FROM patients WHERE race_category IS NOT NULL\n",
    "\"\"\")\n",
    "patient_with_race"
   ],
   "id": "341a3fce8a6af209",
   "outputs": [
    {
     "data": {
      "text/plain": [
       "┌────────────┬──────────┬───────────────┬─────────┬─────────────────────┬─────────────────────┐\n",
       "│ subject_id │ stay_id  │ race_category │ gender  │    ip_starttime     │     ip_endtime      │\n",
       "│   int32    │  int32   │    varchar    │ varchar │      timestamp      │      timestamp      │\n",
       "├────────────┼──────────┼───────────────┼─────────┼─────────────────────┼─────────────────────┤\n",
       "│   10017531 │ 35526828 │ WHITE         │ M       │ 2159-09-22 19:30:00 │ 2159-09-23 17:00:00 │\n",
       "│   10157331 │ 35818405 │ WHITE         │ M       │ 2175-05-30 22:31:00 │ 2175-05-31 20:00:00 │\n",
       "│   10259667 │ 35629197 │ WHITE         │ M       │ 2171-04-18 12:35:00 │ 2171-04-21 00:00:00 │\n",
       "│   10026868 │ 31030669 │ WHITE         │ M       │ 2149-10-25 14:42:00 │ 2149-10-30 14:42:00 │\n",
       "│   10047172 │ 34369439 │ WHITE         │ M       │ 2163-06-15 01:28:00 │ 2163-06-20 01:28:00 │\n",
       "│   10048001 │ 31975834 │ WHITE         │ M       │ 2175-02-05 00:14:00 │ 2175-02-10 00:14:00 │\n",
       "│   10057218 │ 36369483 │ WHITE         │ M       │ 2151-12-30 19:39:00 │ 2152-01-04 19:39:00 │\n",
       "│   10077619 │ 31044655 │ WHITE         │ F       │ 2184-01-15 18:12:00 │ 2184-01-18 18:06:00 │\n",
       "│   10078297 │ 32487406 │ ASIAN         │ F       │ 2172-12-02 07:15:00 │ 2172-12-07 07:15:00 │\n",
       "│   10078309 │ 37147713 │ BLACK         │ M       │ 2177-11-18 00:00:00 │ 2177-11-19 14:19:00 │\n",
       "│       ·    │     ·    │   ·           │ ·       │          ·          │          ·          │\n",
       "│       ·    │     ·    │   ·           │ ·       │          ·          │          ·          │\n",
       "│       ·    │     ·    │   ·           │ ·       │          ·          │          ·          │\n",
       "│   19052091 │ 34572459 │ WHITE         │ M       │ 2129-06-27 23:32:00 │ 2129-06-29 15:20:00 │\n",
       "│   19068480 │ 33738567 │ HISPANIC      │ M       │ 2159-06-22 19:57:00 │ 2159-06-27 19:57:00 │\n",
       "│   19079053 │ 39771895 │ WHITE         │ F       │ 2141-11-22 08:00:00 │ 2141-11-27 08:00:00 │\n",
       "│   19091380 │ 33889507 │ BLACK         │ F       │ 2161-06-10 03:22:00 │ 2161-06-15 03:22:00 │\n",
       "│   19180207 │ 37297923 │ WHITE         │ F       │ 2139-04-09 02:54:00 │ 2139-04-09 17:00:00 │\n",
       "│   19271961 │ 33238485 │ WHITE         │ M       │ 2110-11-28 21:44:00 │ 2110-11-29 15:00:00 │\n",
       "│   19096334 │ 34310443 │ WHITE         │ F       │ 2164-07-09 01:46:00 │ 2164-07-14 01:46:00 │\n",
       "│   19100069 │ 38674748 │ WHITE         │ M       │ 2187-06-05 12:58:00 │ 2187-06-10 12:58:00 │\n",
       "│   19105779 │ 30887916 │ WHITE         │ F       │ 2166-12-23 23:37:00 │ 2166-12-28 23:37:00 │\n",
       "│   19134199 │ 39949005 │ WHITE         │ M       │ 2187-07-23 07:15:00 │ 2187-07-28 07:15:00 │\n",
       "├────────────┴──────────┴───────────────┴─────────┴─────────────────────┴─────────────────────┤\n",
       "│ ? rows (>9999 rows, 20 shown)                                                     6 columns │\n",
       "└─────────────────────────────────────────────────────────────────────────────────────────────┘"
      ]
     },
     "execution_count": 10,
     "metadata": {},
     "output_type": "execute_result"
    }
   ],
   "execution_count": 10
  },
  {
   "metadata": {
    "ExecuteTime": {
     "end_time": "2024-09-08T23:01:24.196898Z",
     "start_time": "2024-09-08T23:01:24.041678Z"
    }
   },
   "cell_type": "code",
   "source": [
    "# Patients with documented rare/enthnicity by race\n",
    "duckdb.sql(\"\"\"\n",
    "SELECT race_category, COUNT(*) FROM patient_with_race \n",
    "GROUP BY race_category\n",
    "\"\"\")"
   ],
   "id": "bb9e344d1369dc29",
   "outputs": [
    {
     "data": {
      "text/plain": [
       "┌───────────────┬──────────────┐\n",
       "│ race_category │ count_star() │\n",
       "│    varchar    │    int64     │\n",
       "├───────────────┼──────────────┤\n",
       "│ BLACK         │         1970 │\n",
       "│ HISPANIC      │          751 │\n",
       "│ WHITE         │        17024 │\n",
       "│ ASIAN         │          609 │\n",
       "└───────────────┴──────────────┘"
      ]
     },
     "execution_count": 11,
     "metadata": {},
     "output_type": "execute_result"
    }
   ],
   "execution_count": 11
  },
  {
   "metadata": {
    "ExecuteTime": {
     "end_time": "2024-09-08T23:01:26.789842Z",
     "start_time": "2024-09-08T23:01:26.648202Z"
    }
   },
   "cell_type": "code",
   "source": [
    "reading_o2_flow = duckdb.sql(\"\"\"\n",
    "SELECT pwr.subject_id, od.charttime as chart_time, od.o2_flow FROM patient_with_index_period AS pwr\n",
    "JOIN nasal_canula_o2_flow AS od ON  pwr.stay_id = od.stay_id\n",
    "WHERE od.charttime BETWEEN pwr.ip_starttime AND pwr.ip_endtime AND od.o2_flow IS NOT NULL\n",
    "ORDER BY pwr.subject_id, od.charttime\n",
    "\"\"\")\n",
    "reading_o2_flow"
   ],
   "id": "333733e34d2fac93",
   "outputs": [
    {
     "data": {
      "text/plain": [
       "┌────────────┬─────────────────────┬─────────┐\n",
       "│ subject_id │     chart_time      │ o2_flow │\n",
       "│   int32    │      timestamp      │ double  │\n",
       "├────────────┼─────────────────────┼─────────┤\n",
       "│   10000032 │ 2180-07-23 14:20:00 │     2.0 │\n",
       "│   10000032 │ 2180-07-23 18:00:00 │     2.0 │\n",
       "│   10000032 │ 2180-07-23 20:00:00 │     2.0 │\n",
       "│   10000980 │ 2189-06-27 10:00:00 │     3.0 │\n",
       "│   10001217 │ 2157-11-20 19:47:00 │     2.0 │\n",
       "│   10001217 │ 2157-11-20 22:00:00 │     2.0 │\n",
       "│   10001217 │ 2157-11-21 00:00:00 │     2.0 │\n",
       "│   10001217 │ 2157-11-21 02:00:00 │     2.0 │\n",
       "│   10001217 │ 2157-11-21 08:00:00 │     2.0 │\n",
       "│   10001217 │ 2157-11-21 18:00:00 │     3.0 │\n",
       "│       ·    │          ·          │      ·  │\n",
       "│       ·    │          ·          │      ·  │\n",
       "│       ·    │          ·          │      ·  │\n",
       "│   10634612 │ 2132-02-14 11:00:00 │     1.5 │\n",
       "│   10634612 │ 2132-02-14 14:00:00 │     1.5 │\n",
       "│   10635271 │ 2137-08-10 21:11:00 │     4.0 │\n",
       "│   10635271 │ 2137-08-11 01:00:00 │     4.0 │\n",
       "│   10635271 │ 2137-08-11 04:00:00 │     4.0 │\n",
       "│   10635271 │ 2137-08-11 08:00:00 │     4.0 │\n",
       "│   10635271 │ 2137-08-11 10:00:00 │     6.0 │\n",
       "│   10635271 │ 2137-08-11 12:00:00 │     6.0 │\n",
       "│   10635271 │ 2137-08-11 16:00:00 │     6.0 │\n",
       "│   10635271 │ 2137-08-11 20:00:00 │     6.0 │\n",
       "├────────────┴─────────────────────┴─────────┤\n",
       "│ ? rows (>9999 rows, 20 shown)    3 columns │\n",
       "└────────────────────────────────────────────┘"
      ]
     },
     "execution_count": 12,
     "metadata": {},
     "output_type": "execute_result"
    }
   ],
   "execution_count": 12
  },
  {
   "metadata": {},
   "cell_type": "markdown",
   "source": "### Sp02",
   "id": "b8b2e7f63e74d192"
  },
  {
   "metadata": {
    "ExecuteTime": {
     "end_time": "2024-09-08T23:01:28.264002Z",
     "start_time": "2024-09-08T23:01:26.795292Z"
    }
   },
   "cell_type": "code",
   "source": [
    "reading_spo2 = duckdb.sql(\"\"\"\n",
    "SELECT pwr.subject_id, vs.charttime as chart_time, vs.spo2 FROM patient_with_index_period AS pwr\n",
    "JOIN mimic_derived.vitalsign AS vs ON  pwr.stay_id = vs.stay_id\n",
    "WHERE vs.charttime BETWEEN pwr.ip_starttime AND pwr.ip_endtime AND vs.spo2 IS NOT NULL\n",
    "ORDER BY pwr.subject_id, vs.charttime\n",
    "\"\"\")\n",
    "reading_spo2"
   ],
   "id": "83a7067d7c69214c",
   "outputs": [
    {
     "data": {
      "text/plain": [
       "┌────────────┬─────────────────────┬────────┐\n",
       "│ subject_id │     chart_time      │  spo2  │\n",
       "│   int32    │      timestamp      │ double │\n",
       "├────────────┼─────────────────────┼────────┤\n",
       "│   10000032 │ 2180-07-23 14:13:00 │   98.0 │\n",
       "│   10000032 │ 2180-07-23 14:30:00 │   97.0 │\n",
       "│   10000032 │ 2180-07-23 15:00:00 │   97.0 │\n",
       "│   10000032 │ 2180-07-23 16:00:00 │   94.0 │\n",
       "│   10000032 │ 2180-07-23 17:00:00 │   95.0 │\n",
       "│   10000032 │ 2180-07-23 18:00:00 │   95.0 │\n",
       "│   10000032 │ 2180-07-23 19:00:00 │   98.0 │\n",
       "│   10000032 │ 2180-07-23 20:00:00 │   99.0 │\n",
       "│   10000032 │ 2180-07-23 21:00:00 │   95.0 │\n",
       "│   10000032 │ 2180-07-23 22:00:00 │   95.0 │\n",
       "│       ·    │          ·          │     ·  │\n",
       "│       ·    │          ·          │     ·  │\n",
       "│       ·    │          ·          │     ·  │\n",
       "│   10063848 │ 2177-07-29 13:00:00 │   97.0 │\n",
       "│   10063848 │ 2177-07-29 14:00:00 │   96.0 │\n",
       "│   10063848 │ 2177-07-29 15:00:00 │   96.0 │\n",
       "│   10063848 │ 2177-07-29 16:00:00 │   98.0 │\n",
       "│   10063848 │ 2177-07-29 17:00:00 │   93.0 │\n",
       "│   10063848 │ 2177-07-29 18:00:00 │   96.0 │\n",
       "│   10063848 │ 2177-07-29 19:00:00 │   95.0 │\n",
       "│   10063848 │ 2177-07-29 20:00:00 │   96.0 │\n",
       "│   10063848 │ 2177-07-29 21:00:00 │   98.0 │\n",
       "│   10063848 │ 2177-07-29 22:00:00 │   98.0 │\n",
       "├────────────┴─────────────────────┴────────┤\n",
       "│ ? rows (>9999 rows, 20 shown)   3 columns │\n",
       "└───────────────────────────────────────────┘"
      ]
     },
     "execution_count": 13,
     "metadata": {},
     "output_type": "execute_result"
    }
   ],
   "execution_count": 13
  },
  {
   "metadata": {
    "ExecuteTime": {
     "end_time": "2024-09-08T23:01:33.046964Z",
     "start_time": "2024-09-08T23:01:32.841321Z"
    }
   },
   "cell_type": "code",
   "source": [
    "reading_so2 = duckdb.sql(\"\"\"\n",
    "SELECT pwr.subject_id, bg.charttime as chart_time, bg.so2 FROM patient_with_index_period AS pwr\n",
    "JOIN mimic_derived.bg AS bg ON  pwr.subject_id = bg.subject_id\n",
    "WHERE bg.charttime BETWEEN pwr.ip_starttime AND pwr.ip_endtime AND bg.so2 IS NOT NULL AND bg.specimen = 'ART.'\n",
    "ORDER BY pwr.subject_id, bg.charttime\n",
    "\"\"\")\n",
    "reading_so2"
   ],
   "id": "eee4188b9a27ad1f",
   "outputs": [
    {
     "data": {
      "text/plain": [
       "┌────────────┬─────────────────────┬────────┐\n",
       "│ subject_id │     chart_time      │  so2   │\n",
       "│   int32    │      timestamp      │ double │\n",
       "├────────────┼─────────────────────┼────────┤\n",
       "│   10002155 │ 2129-08-05 07:48:00 │   94.0 │\n",
       "│   10002443 │ 2183-10-18 02:35:00 │   90.0 │\n",
       "│   10003046 │ 2154-01-02 08:57:00 │   98.0 │\n",
       "│   10003046 │ 2154-01-02 10:33:00 │   98.0 │\n",
       "│   10004235 │ 2196-02-24 16:25:00 │   96.0 │\n",
       "│   10004401 │ 2144-01-27 02:39:00 │   95.0 │\n",
       "│   10005817 │ 2132-12-15 16:34:00 │   97.0 │\n",
       "│   10005817 │ 2132-12-15 18:47:00 │   97.0 │\n",
       "│   10005817 │ 2132-12-15 20:20:00 │   95.0 │\n",
       "│   10006053 │ 2111-11-14 05:00:00 │   98.0 │\n",
       "│       ·    │          ·          │     ·  │\n",
       "│       ·    │          ·          │     ·  │\n",
       "│       ·    │          ·          │     ·  │\n",
       "│   17970921 │ 2144-06-20 09:02:00 │   99.0 │\n",
       "│   17973277 │ 2167-08-21 00:24:00 │   98.0 │\n",
       "│   17974379 │ 2132-04-20 18:59:00 │   93.0 │\n",
       "│   17975221 │ 2120-06-24 15:24:00 │   96.0 │\n",
       "│   17975345 │ 2179-06-20 16:49:00 │   99.0 │\n",
       "│   17975345 │ 2179-06-21 03:18:00 │   98.0 │\n",
       "│   17975717 │ 2127-12-28 23:32:00 │   98.0 │\n",
       "│   17976153 │ 2164-02-27 00:56:00 │   99.0 │\n",
       "│   17978572 │ 2195-10-12 13:16:00 │   10.0 │\n",
       "│   17978664 │ 2116-05-15 13:00:00 │   98.0 │\n",
       "├────────────┴─────────────────────┴────────┤\n",
       "│ ? rows (>9999 rows, 20 shown)   3 columns │\n",
       "└───────────────────────────────────────────┘"
      ]
     },
     "execution_count": 14,
     "metadata": {},
     "output_type": "execute_result"
    }
   ],
   "execution_count": 14
  },
  {
   "metadata": {},
   "cell_type": "markdown",
   "source": "## Perform final extract",
   "id": "8424c8d886752c6d"
  },
  {
   "metadata": {
    "ExecuteTime": {
     "end_time": "2024-09-08T23:01:39.247150Z",
     "start_time": "2024-09-08T23:01:37.882647Z"
    }
   },
   "cell_type": "code",
   "source": [
    "coh_subject = duckdb.sql(\"\"\"\n",
    "SELECT subject_id, gender, race_category FROM patient_with_race AS pwr\n",
    "WHERE \n",
    "    EXISTS( SELECT 1 FROM reading_o2_flow AS rof WHERE pwr.subject_id = rof.subject_id)\n",
    "    AND EXISTS( SELECT 1 FROM reading_spo2 AS rs WHERE pwr.subject_id = rs.subject_id)\n",
    "    AND EXISTS( SELECT 1 FROM reading_so2 AS rso WHERE pwr.subject_id = rso.subject_id)\n",
    "\"\"\")\n",
    "coh_subject"
   ],
   "id": "ed0647389feb98e2",
   "outputs": [
    {
     "data": {
      "text/plain": [
       "┌────────────┬─────────┬───────────────┐\n",
       "│ subject_id │ gender  │ race_category │\n",
       "│   int32    │ varchar │    varchar    │\n",
       "├────────────┼─────────┼───────────────┤\n",
       "│   11236474 │ F       │ BLACK         │\n",
       "│   12538134 │ F       │ ASIAN         │\n",
       "│   13678296 │ M       │ WHITE         │\n",
       "│   18227591 │ F       │ WHITE         │\n",
       "│   18322840 │ M       │ WHITE         │\n",
       "│   18440411 │ F       │ WHITE         │\n",
       "│   10318354 │ F       │ WHITE         │\n",
       "│   10980779 │ F       │ WHITE         │\n",
       "│   11726221 │ M       │ WHITE         │\n",
       "│   12680785 │ M       │ WHITE         │\n",
       "│       ·    │ ·       │   ·           │\n",
       "│       ·    │ ·       │   ·           │\n",
       "│       ·    │ ·       │   ·           │\n",
       "│   18588825 │ F       │ WHITE         │\n",
       "│   11765665 │ F       │ HISPANIC      │\n",
       "│   11852913 │ M       │ WHITE         │\n",
       "│   14992632 │ M       │ WHITE         │\n",
       "│   15202347 │ M       │ WHITE         │\n",
       "│   15588339 │ M       │ WHITE         │\n",
       "│   15921116 │ M       │ WHITE         │\n",
       "│   15968932 │ M       │ WHITE         │\n",
       "│   18483313 │ F       │ WHITE         │\n",
       "│   18871604 │ M       │ BLACK         │\n",
       "├────────────┴─────────┴───────────────┤\n",
       "│ 3618 rows (20 shown)       3 columns │\n",
       "└──────────────────────────────────────┘"
      ]
     },
     "execution_count": 15,
     "metadata": {},
     "output_type": "execute_result"
    }
   ],
   "execution_count": 15
  },
  {
   "metadata": {
    "ExecuteTime": {
     "end_time": "2024-09-08T23:01:49.221583Z",
     "start_time": "2024-09-08T23:01:47.936361Z"
    }
   },
   "cell_type": "code",
   "source": [
    "duckdb.sql(\"\"\"\n",
    "SELECT race_category, COUNT(*) FROM coh_subject GROUP BY  race_category\n",
    "\"\"\")"
   ],
   "id": "ffe3ee8dc9bfd6d7",
   "outputs": [
    {
     "data": {
      "text/plain": [
       "┌───────────────┬──────────────┐\n",
       "│ race_category │ count_star() │\n",
       "│    varchar    │    int64     │\n",
       "├───────────────┼──────────────┤\n",
       "│ BLACK         │          272 │\n",
       "│ HISPANIC      │          126 │\n",
       "│ ASIAN         │          111 │\n",
       "│ WHITE         │         3109 │\n",
       "└───────────────┴──────────────┘"
      ]
     },
     "execution_count": 16,
     "metadata": {},
     "output_type": "execute_result"
    }
   ],
   "execution_count": 16
  },
  {
   "metadata": {
    "ExecuteTime": {
     "end_time": "2024-09-08T23:01:57.616579Z",
     "start_time": "2024-09-08T23:01:57.574996Z"
    }
   },
   "cell_type": "code",
   "source": [
    "coh_reading_o2_flow = duckdb.sql(\"\"\"\n",
    "SELECT * FROM reading_o2_flow AS rd WHERE EXISTS( SELECT 1 FROM coh_subject AS cs WHERE rd.subject_id = cs.subject_id)\n",
    "\"\"\")\n",
    "coh_reading_spo2 = duckdb.sql(\"\"\"\n",
    "SELECT * FROM reading_spo2 AS rd WHERE EXISTS( SELECT 1 FROM coh_subject AS cs WHERE rd.subject_id = cs.subject_id)\n",
    "\"\"\")\n",
    "coh_reading_so2 = duckdb.sql(\"\"\"\n",
    "SELECT * FROM reading_so2 AS rd WHERE EXISTS( SELECT 1 FROM coh_subject AS cs WHERE rd.subject_id = cs.subject_id)\n",
    "\"\"\")"
   ],
   "id": "6fd5607d4d4f8ff0",
   "outputs": [],
   "execution_count": 17
  },
  {
   "metadata": {},
   "cell_type": "markdown",
   "source": "### Save the extreact to cvs",
   "id": "32cbc1affd19e620"
  },
  {
   "metadata": {
    "ExecuteTime": {
     "end_time": "2024-09-08T23:02:34.346221Z",
     "start_time": "2024-09-08T23:02:27.437819Z"
    }
   },
   "cell_type": "code",
   "source": [
    "coh_subject.to_csv('../data/psql_mimic-1.0/subject.csv')\n",
    "coh_reading_o2_flow.to_csv('../data/psql_mimic-1.0/reading_o2_flow.csv')\n",
    "coh_reading_spo2.to_csv('../data/psql_mimic-1.0/reading_spo2.csv')\n",
    "coh_reading_so2.to_csv('../data/psql_mimic-1.0/reading_so2.csv')"
   ],
   "id": "e2868963d334de86",
   "outputs": [
    {
     "data": {
      "text/plain": [
       "FloatProgress(value=0.0, layout=Layout(width='auto'), style=ProgressStyle(bar_color='black'))"
      ],
      "application/vnd.jupyter.widget-view+json": {
       "version_major": 2,
       "version_minor": 0,
       "model_id": "80c0e6a0c44f4b049222cb1e14c6e479"
      }
     },
     "metadata": {},
     "output_type": "display_data"
    }
   ],
   "execution_count": 18
  }
 ],
 "metadata": {
  "kernelspec": {
   "display_name": "Python 3",
   "language": "python",
   "name": "python3"
  },
  "language_info": {
   "codemirror_mode": {
    "name": "ipython",
    "version": 2
   },
   "file_extension": ".py",
   "mimetype": "text/x-python",
   "name": "python",
   "nbconvert_exporter": "python",
   "pygments_lexer": "ipython2",
   "version": "2.7.6"
  }
 },
 "nbformat": 4,
 "nbformat_minor": 5
}
