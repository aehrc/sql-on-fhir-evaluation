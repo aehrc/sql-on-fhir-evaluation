{
 "cells": [
  {
   "cell_type": "code",
   "id": "initial_id",
   "metadata": {
    "collapsed": true,
    "ExecuteTime": {
     "end_time": "2024-09-08T23:29:34.887673Z",
     "start_time": "2024-09-08T23:29:34.752970Z"
    }
   },
   "source": [
    "import duckdb\n",
    "duckdb.sql(\"ATTACH 'dbname=mimic1 user=szu004' AS db (TYPE POSTGRES, READ_ONLY)\")\n",
    "duckdb.sql(\"USE db\")"
   ],
   "outputs": [],
   "execution_count": 1
  },
  {
   "metadata": {
    "ExecuteTime": {
     "end_time": "2024-09-08T23:29:34.920826Z",
     "start_time": "2024-09-08T23:29:34.894659Z"
    }
   },
   "cell_type": "code",
   "source": [
    "# ALL ICU stays (paper reports 765,40)\n",
    "duckdb.sql(\"SELECT COUNT(*) as icu_stay_count FROM mimic_derived.icustay_detail\")"
   ],
   "id": "8ae337447f0cc273",
   "outputs": [
    {
     "data": {
      "text/plain": [
       "┌────────────────┐\n",
       "│ icu_stay_count │\n",
       "│     int64      │\n",
       "├────────────────┤\n",
       "│          76540 │\n",
       "└────────────────┘"
      ]
     },
     "execution_count": 2,
     "metadata": {},
     "output_type": "execute_result"
    }
   ],
   "execution_count": 2
  },
  {
   "metadata": {
    "ExecuteTime": {
     "end_time": "2024-09-08T23:29:35.013050Z",
     "start_time": "2024-09-08T23:29:34.986603Z"
    }
   },
   "cell_type": "code",
   "source": "duckdb.sql(\"SELECT COUNT(DISTINCT subject_id) as icu_stay_count FROM mimic_derived.icustay_detail\")",
   "id": "303a47b51fce8476",
   "outputs": [
    {
     "data": {
      "text/plain": [
       "┌────────────────┐\n",
       "│ icu_stay_count │\n",
       "│     int64      │\n",
       "├────────────────┤\n",
       "│          53150 │\n",
       "└────────────────┘"
      ]
     },
     "execution_count": 3,
     "metadata": {},
     "output_type": "execute_result"
    }
   ],
   "execution_count": 3
  },
  {
   "metadata": {
    "ExecuteTime": {
     "end_time": "2024-09-08T23:29:35.161333Z",
     "start_time": "2024-09-08T23:29:35.113094Z"
    }
   },
   "cell_type": "code",
   "source": [
    "# Ventilation interventions\n",
    "stays_with_interventions_org = duckdb.sql(\"\"\"\n",
    "WITH iws AS (\n",
    "    SELECT stay_id, starttime as  inttime, ventilation_status AS int_type, row_number() OVER (PARTITION BY stay_id ORDER BY starttime) AS int_sequence\n",
    "    FROM mimic_derived.ventilation\n",
    "    WHERE ventilation_status NOT in ('None', 'SupplementalOxygen')\n",
    ")\n",
    "SELECT stay_id, inttime, int_type FROM iws WHERE int_sequence = 1\n",
    "\"\"\")\n",
    "stays_with_interventions_org.count(\"*\")"
   ],
   "id": "4b1c97b7a4a8f57a",
   "outputs": [
    {
     "data": {
      "text/plain": [
       "┌──────────────┐\n",
       "│ count_star() │\n",
       "│    int64     │\n",
       "├──────────────┤\n",
       "│        27096 │\n",
       "└──────────────┘"
      ]
     },
     "execution_count": 4,
     "metadata": {},
     "output_type": "execute_result"
    }
   ],
   "execution_count": 4
  },
  {
   "metadata": {
    "ExecuteTime": {
     "end_time": "2024-09-08T23:29:35.336803Z",
     "start_time": "2024-09-08T23:29:35.334382Z"
    }
   },
   "cell_type": "code",
   "source": [
    "# # Alternative way to get the first intervention\n",
    "# ventilation_type = duckdb.sql(\"\"\"\n",
    "# WITH odd AS (\n",
    "#     SELECT subject_id, stay_id, charttime, o2_delivery_device_1 AS o2_delivery_device FROM mimic_derived.oxygen_delivery\n",
    "# --    UNION SELECT subject_id, stay_id, charttime, o2_delivery_device_2 AS o2_delivery_device FROM mimic_derived.oxygen_delivery\n",
    "# --    UNION SELECT subject_id, stay_id, charttime, o2_delivery_device_3 AS o2_delivery_device FROM mimic_derived.oxygen_delivery\n",
    "# --    UNION SELECT subject_id, stay_id, charttime, o2_delivery_device_4 AS o2_delivery_device FROM mimic_derived.oxygen_delivery\n",
    "# ), odd1 AS (SELECT *, \n",
    "#     CASE\n",
    "#     -- tracheostomy\n",
    "#     WHEN o2_delivery_device IN (\n",
    "#         'Tracheostomy tube',\n",
    "#         'Trach mask ' -- 16435 observations\n",
    "#         -- 'T-piece', -- 1135 observations (T-piece could be either InvasiveVent or Tracheostomy)\n",
    "#         ) THEN 5\n",
    "#     -- mechanical / invasive ventilation\n",
    "#     WHEN o2_delivery_device IN (\n",
    "#         'Endotracheal tube'\n",
    "#         ) THEN 4\n",
    "#     -- NIV\n",
    "#     WHEN o2_delivery_device IN (\n",
    "#         'Bipap mask ', -- 8997 observations\n",
    "#         'CPAP mask ' -- 5568 observations\n",
    "#         ) THEN 3\n",
    "#     -- high flow nasal cannula\n",
    "#     when o2_delivery_device IN (\n",
    "#         'High flow nasal cannula' -- 925 observations\n",
    "#         ) THEN 2\n",
    "#     -- non rebreather\n",
    "#     WHEN o2_delivery_device IN ( \n",
    "#         'Non-rebreather', -- 5182 observations\n",
    "#         'Face tent', -- 24601 observations\n",
    "#         'Aerosol-cool', -- 24560 observations\n",
    "#         'Venti mask ', -- 1947 observations\n",
    "#         'Medium conc mask ', -- 1888 observations\n",
    "#         'Ultrasonic neb', -- 9 observations\n",
    "#         'Vapomist', -- 3 observations\n",
    "#         'Oxymizer', -- 1301 observations\n",
    "#         'High flow neb', -- 10785 observations\n",
    "#         'Nasal cannula'\n",
    "#         ) THEN 1\n",
    "#     WHEN o2_delivery_device in (\n",
    "#         'None'\n",
    "#      ) THEN 0\n",
    "#     -- not categorized: other\n",
    "#     ELSE NULL END AS ventilation_kind\n",
    "# FROM odd WHERE o2_delivery_device  IS NOT NULL\n",
    "# ), odd2 AS (\n",
    "#     SELECT subject_id, stay_id, charttime, MAX(ventilation_kind) AS ventilation_class FROM odd1\n",
    "#     WHERE ventilation_kind IS NOT NULL\n",
    "#     GROUP BY subject_id, stay_id, charttime\n",
    "# )\n",
    "# SELECT subject_id, stay_id, charttime AS starttime,\n",
    "#     CASE\n",
    "#     WHEN ventilation_class = 5 THEN 'Tracheostomy'\n",
    "#     WHEN ventilation_class = 4 THEN 'InvasiveVent'\n",
    "#     WHEN ventilation_class = 3 THEN 'NonInvasiveVent'\n",
    "#     when ventilation_class = 2 THEN 'HFNC'\n",
    "#     WHEN ventilation_class = 1 THEN 'SupplementalOxygen'\n",
    "#     WHEN ventilation_class = 0 THEN 'None'\n",
    "#     ELSE NULL END AS ventilation_status\n",
    "# FROM odd2\n",
    "# UNION SELECT subject_id, stay_id, charttime AS starttime, 'InvasiveVent' AS ventilation_status FROM mimic_derived.ventilator_setting\n",
    "# WHERE ventilator_mode IN\n",
    "# (\n",
    "#     '(S) CMV'\n",
    "#     , 'APRV'\n",
    "#     , 'APRV/Biphasic+ApnPress'\n",
    "#     , 'APRV/Biphasic+ApnVol'\n",
    "#     , 'APV (cmv)'\n",
    "#     , 'Ambient'\n",
    "#     , 'Apnea Ventilation'\n",
    "#     , 'CMV'\n",
    "#     , 'CMV/ASSIST'\n",
    "#     , 'CMV/ASSIST/AutoFlow'\n",
    "#     , 'CMV/AutoFlow'\n",
    "#     , 'CPAP/PPS'\n",
    "#     , 'CPAP/PSV'\n",
    "#     , 'CPAP/PSV+Apn TCPL'\n",
    "#     , 'CPAP/PSV+ApnPres'\n",
    "#     , 'CPAP/PSV+ApnVol'\n",
    "#     , 'MMV'\n",
    "#     , 'MMV/AutoFlow'\n",
    "#     , 'MMV/PSV'\n",
    "#     , 'MMV/PSV/AutoFlow'\n",
    "#     , 'P-CMV'\n",
    "#     , 'PCV+'\n",
    "#     , 'PCV+/PSV'\n",
    "#     , 'PCV+Assist'\n",
    "#     , 'PRES/AC'\n",
    "#     , 'PRVC/AC'\n",
    "#     , 'PRVC/SIMV'\n",
    "#     , 'PSV/SBT'\n",
    "#     , 'SIMV'\n",
    "#     , 'SIMV/AutoFlow'\n",
    "#     , 'SIMV/PRES'\n",
    "#     , 'SIMV/PSV'\n",
    "#     , 'SIMV/PSV/AutoFlow'\n",
    "#     , 'SIMV/VOL'\n",
    "#     , 'SYNCHRON MASTER'\n",
    "#     , 'SYNCHRON SLAVE'\n",
    "#     , 'VOL/AC'\n",
    "# )\n",
    "# OR ventilator_mode_hamilton IN\n",
    "# (\n",
    "#     'APRV'\n",
    "#     , 'APV (cmv)'\n",
    "#     , 'Ambient'\n",
    "#     , '(S) CMV'\n",
    "#     , 'P-CMV'\n",
    "#     , 'SIMV'\n",
    "#     , 'APV (simv)'\n",
    "#     , 'P-SIMV'\n",
    "#     , 'VS'\n",
    "#     , 'ASV'\n",
    "# )\n",
    "# \"\"\")\n",
    "# # UNION SELECT subject_id, stay_id, charttime AS starttime, 'NonInvasiveVent' AS ventilation_status FROM mimic_derived.ventilator_setting\n",
    "# # WHERE ventilator_mode_hamilton IN\n",
    "# # (\n",
    "# #     'DuoPaP'\n",
    "# #     , 'NIV'\n",
    "# #     , 'NIV-ST'\n",
    "# # )\n",
    "# \n",
    "# ventilation_type"
   ],
   "id": "b34f8b916e2205b6",
   "outputs": [],
   "execution_count": 5
  },
  {
   "metadata": {
    "ExecuteTime": {
     "end_time": "2024-09-08T23:29:35.547699Z",
     "start_time": "2024-09-08T23:29:35.340298Z"
    }
   },
   "cell_type": "code",
   "source": [
    "# Alternative way to get the first intervention\n",
    "ventilation_type = duckdb.sql(\"\"\"\n",
    "WITH odd AS (\n",
    "    SELECT subject_id, stay_id, charttime, o2_delivery_device_1 AS o2_delivery_device FROM mimic_derived.oxygen_delivery\n",
    "    UNION SELECT subject_id, stay_id, charttime, o2_delivery_device_2 AS o2_delivery_device FROM mimic_derived.oxygen_delivery\n",
    "    UNION SELECT subject_id, stay_id, charttime, o2_delivery_device_3 AS o2_delivery_device FROM mimic_derived.oxygen_delivery\n",
    "    UNION SELECT subject_id, stay_id, charttime, o2_delivery_device_4 AS o2_delivery_device FROM mimic_derived.oxygen_delivery\n",
    "), odd1 AS (SELECT *, \n",
    "    CASE\n",
    "    -- tracheostomy\n",
    "    WHEN o2_delivery_device IN (\n",
    "        'Tracheostomy tube',\n",
    "        'Trach mask ' -- 16435 observations\n",
    "        -- 'T-piece', -- 1135 observations (T-piece could be either InvasiveVent or Tracheostomy)\n",
    "        ) THEN 'Tracheostomy'\n",
    "    -- mechanical / invasive ventilation\n",
    "    WHEN o2_delivery_device IN (\n",
    "        'Endotracheal tube'\n",
    "        ) THEN 'InvasiveVent'\n",
    "    -- NIV\n",
    "    WHEN o2_delivery_device IN (\n",
    "        'Bipap mask ', -- 8997 observations\n",
    "        'CPAP mask ' -- 5568 observations\n",
    "        ) THEN 'NonInvasiveVent'\n",
    "    -- high flow nasal cannula\n",
    "    when o2_delivery_device IN (\n",
    "        'High flow nasal cannula' -- 925 observations\n",
    "        ) THEN 'HFNC'\n",
    "    -- non rebreather\n",
    "    WHEN o2_delivery_device IN ( \n",
    "        'Non-rebreather', -- 5182 observations\n",
    "        'Face tent', -- 24601 observations\n",
    "        'Aerosol-cool', -- 24560 observations\n",
    "        'Venti mask ', -- 1947 observations\n",
    "        'Medium conc mask ', -- 1888 observations\n",
    "        'Ultrasonic neb', -- 9 observations\n",
    "        'Vapomist', -- 3 observations\n",
    "        'Oxymizer', -- 1301 observations\n",
    "        'High flow neb', -- 10785 observations\n",
    "        'Nasal cannula'\n",
    "        ) THEN 'SupplementalOxygen'\n",
    "    WHEN o2_delivery_device in (\n",
    "        'None'\n",
    "     ) THEN 'None'\n",
    "    -- not categorized: other\n",
    "    ELSE NULL END AS ventilation_status\n",
    "FROM odd WHERE o2_delivery_device  IS NOT NULL\n",
    ")\n",
    "SELECT subject_id, stay_id, charttime AS starttime, ventilation_status FROM odd1\n",
    "\"\"\")\n",
    "ventilation_type\n",
    "stays_with_interventions = duckdb.sql(\"\"\"\n",
    "WITH iws AS (\n",
    "    SELECT stay_id, starttime as  inttime, ventilation_status AS int_type,\n",
    "row_number() OVER (PARTITION BY stay_id ORDER BY starttime) AS int_sequence\n",
    "FROM ventilation_type\n",
    "WHERE ventilation_status NOT in ('None', 'SupplementalOxygen') AND ventilation_status IS NOT NULL\n",
    ")\n",
    "SELECT stay_id, inttime, int_type FROM iws WHERE int_sequence = 1\n",
    "\"\"\")\n",
    "stays_with_interventions.count(\"*\")"
   ],
   "id": "122f61d1affc7993",
   "outputs": [
    {
     "data": {
      "text/plain": [
       "┌──────────────┐\n",
       "│ count_star() │\n",
       "│    int64     │\n",
       "├──────────────┤\n",
       "│         9757 │\n",
       "└──────────────┘"
      ]
     },
     "execution_count": 6,
     "metadata": {},
     "output_type": "execute_result"
    }
   ],
   "execution_count": 6
  },
  {
   "metadata": {
    "ExecuteTime": {
     "end_time": "2024-09-08T23:29:37.142286Z",
     "start_time": "2024-09-08T23:29:37.141007Z"
    }
   },
   "cell_type": "code",
   "source": "",
   "id": "ec8e39ee15316e1d",
   "outputs": [],
   "execution_count": null
  },
  {
   "metadata": {
    "ExecuteTime": {
     "end_time": "2024-09-08T23:29:40.198184Z",
     "start_time": "2024-09-08T23:29:39.714340Z"
    }
   },
   "cell_type": "code",
   "source": [
    "# Ventilation interventions\n",
    "stays_with_interventions_full = duckdb.sql(\"\"\"\n",
    "WITH tm AS\n",
    "(\n",
    "  SELECT stay_id, charttime\n",
    "  FROM mimic_derived.ventilator_setting\n",
    "  UNION DISTINCT\n",
    "  SELECT stay_id, charttime\n",
    "  FROM mimic_derived.oxygen_delivery\n",
    ")\n",
    ", vs AS\n",
    "(\n",
    "    SELECT tm.stay_id, tm.charttime\n",
    "    -- source data columns, here for debug\n",
    "    , o2_delivery_device_1\n",
    "    , COALESCE(ventilator_mode, ventilator_mode_hamilton) AS vent_mode\n",
    "    -- case statement determining the type of intervention\n",
    "    -- done in order of priority: trach > mech vent > NIV > high flow > o2\n",
    "    , CASE\n",
    "    -- tracheostomy\n",
    "    WHEN o2_delivery_device_1 IN\n",
    "    (\n",
    "        'Tracheostomy tube',\n",
    "        'Trach mask ' -- 16435 observations\n",
    "        -- 'T-piece', -- 1135 observations (T-piece could be either InvasiveVent or Tracheostomy)\n",
    "\n",
    "    )\n",
    "        THEN 'Tracheostomy'\n",
    "    -- mechanical / invasive ventilation\n",
    "    WHEN o2_delivery_device_1 IN\n",
    "    (\n",
    "        'Endotracheal tube'\n",
    "    )\n",
    "    OR ventilator_mode IN\n",
    "    (\n",
    "        '(S) CMV',\n",
    "        'APRV',\n",
    "        'APRV/Biphasic+ApnPress',\n",
    "        'APRV/Biphasic+ApnVol',\n",
    "        'APV (cmv)',\n",
    "        'Ambient',\n",
    "        'Apnea Ventilation',\n",
    "        'CMV',\n",
    "        'CMV/ASSIST',\n",
    "        'CMV/ASSIST/AutoFlow',\n",
    "        'CMV/AutoFlow',\n",
    "        'CPAP/PPS',\n",
    "        'CPAP/PSV+Apn TCPL',\n",
    "        'CPAP/PSV+ApnPres',\n",
    "        'CPAP/PSV+ApnVol',\n",
    "        'MMV',\n",
    "        'MMV/AutoFlow',\n",
    "        'MMV/PSV',\n",
    "        'MMV/PSV/AutoFlow',\n",
    "        'P-CMV',\n",
    "        'PCV+',\n",
    "        'PCV+/PSV',\n",
    "        'PCV+Assist',\n",
    "        'PRES/AC',\n",
    "        'PRVC/AC',\n",
    "        'PRVC/SIMV',\n",
    "        'PSV/SBT',\n",
    "        'SIMV',\n",
    "        'SIMV/AutoFlow',\n",
    "        'SIMV/PRES',\n",
    "        'SIMV/PSV',\n",
    "        'SIMV/PSV/AutoFlow',\n",
    "        'SIMV/VOL',\n",
    "        'SYNCHRON MASTER',\n",
    "        'SYNCHRON SLAVE',\n",
    "        'VOL/AC'\n",
    "    )\n",
    "    OR ventilator_mode_hamilton IN\n",
    "    (\n",
    "        'APRV',\n",
    "        'APV (cmv)',\n",
    "        'Ambient',\n",
    "        '(S) CMV',\n",
    "        'P-CMV',\n",
    "        'SIMV',\n",
    "        'APV (simv)',\n",
    "        'P-SIMV',\n",
    "        'VS',\n",
    "        'ASV'\n",
    "    )\n",
    "        THEN 'InvasiveVent'\n",
    "    -- NIV\n",
    "    WHEN o2_delivery_device_1 IN\n",
    "    (\n",
    "        'Bipap mask ', -- 8997 observations\n",
    "        'CPAP mask ' -- 5568 observations\n",
    "    )\n",
    "    OR ventilator_mode_hamilton IN\n",
    "    (\n",
    "        'DuoPaP',\n",
    "        'NIV',\n",
    "        'NIV-ST'\n",
    "    )\n",
    "        THEN 'NonInvasiveVent'\n",
    "    -- high flow nasal cannula\n",
    "    when o2_delivery_device_1 IN\n",
    "    (\n",
    "        'High flow nasal cannula' -- 925 observations\n",
    "    )\n",
    "        THEN 'HFNC'\n",
    "    -- non rebreather\n",
    "    WHEN o2_delivery_device_1 in\n",
    "    ( \n",
    "        'Non-rebreather', -- 5182 observations\n",
    "        'Face tent', -- 24601 observations\n",
    "        'Aerosol-cool', -- 24560 observations\n",
    "        'Venti mask ', -- 1947 observations\n",
    "        'Medium conc mask ', -- 1888 observations\n",
    "        'Ultrasonic neb', -- 9 observations\n",
    "        'Vapomist', -- 3 observations\n",
    "        'Oxymizer', -- 1301 observations\n",
    "        'High flow neb', -- 10785 observations\n",
    "        'Nasal cannula'\n",
    "    )\n",
    "        THEN 'SupplementalOxygen'\n",
    "    WHEN o2_delivery_device_1 in \n",
    "    (\n",
    "        'None'\n",
    "    )\n",
    "        THEN 'None'\n",
    "    -- not categorized: other\n",
    "    ELSE NULL END AS ventilation_status\n",
    "  FROM tm\n",
    "  LEFT JOIN mimic_derived.ventilator_setting vs\n",
    "      ON tm.stay_id = vs.stay_id\n",
    "      AND tm.charttime = vs.charttime\n",
    "  LEFT JOIN mimic_derived.oxygen_delivery od\n",
    "      ON tm.stay_id = od.stay_id\n",
    "      AND tm.charttime = od.charttime\n",
    ")\n",
    ", vd0 AS\n",
    "(\n",
    "    SELECT\n",
    "      stay_id, charttime\n",
    "      -- source data columns, here for debug\n",
    "      -- , o2_delivery_device_1\n",
    "      -- , vent_mode\n",
    "      -- carry over the previous charttime which had the same state\n",
    "      , LAG(charttime, 1) OVER (PARTITION BY stay_id, ventilation_status ORDER BY charttime) AS charttime_lag\n",
    "      -- bring back the next charttime, regardless of the state\n",
    "      -- this will be used as the end time for state transitions\n",
    "      , LEAD(charttime, 1) OVER w AS charttime_lead\n",
    "      , ventilation_status\n",
    "      , LAG(ventilation_status, 1) OVER w AS ventilation_status_lag\n",
    "    FROM vs\n",
    "    WHERE ventilation_status IS NOT NULL\n",
    "    WINDOW w AS (PARTITION BY stay_id ORDER BY charttime)\n",
    ")\n",
    ", vd1 as\n",
    "(\n",
    "    SELECT\n",
    "        stay_id\n",
    "        , charttime\n",
    "        , charttime_lag\n",
    "        , charttime_lead\n",
    "        , ventilation_status\n",
    "\n",
    "        -- source data columns, here for debug\n",
    "        -- , o2_delivery_device_1\n",
    "        -- , vent_mode\n",
    "\n",
    "        -- calculate the time since the last event\n",
    "        , (charttime - charttime_lag)  as ventduration\n",
    "\n",
    "        -- now we determine if the current ventilation status is \"new\", or continuing the previous\n",
    "        , CASE\n",
    "            -- if lag is null, this is the first event for the patient\n",
    "            WHEN ventilation_status_lag IS NULL THEN 1\n",
    "            -- a 14 hour gap always initiates a new event\n",
    "            WHEN (charttime - charttime_lag) >= INTERVAL '14 h' THEN 1\n",
    "            -- not a new event if identical to the last row\n",
    "            WHEN ventilation_status_lag != ventilation_status THEN 1\n",
    "          ELSE 0\n",
    "          END AS new_ventilation_event\n",
    "    FROM vd0\n",
    ")\n",
    ", vd2 as\n",
    "(\n",
    "    SELECT vd1.stay_id, vd1.charttime\n",
    "    , vd1.charttime_lead, vd1.ventilation_status\n",
    "    , ventduration, new_ventilation_event\n",
    "    -- create a cumulative sum of the instances of new ventilation\n",
    "    -- this results in a monotonically increasing integer assigned \n",
    "    -- to each instance of ventilation\n",
    "    , SUM(new_ventilation_event) OVER\n",
    "    (\n",
    "        PARTITION BY stay_id\n",
    "        ORDER BY charttime\n",
    "    ) AS vent_seq\n",
    "    FROM vd1\n",
    "), ventilation_type AS (\n",
    "-- create the durations for each ventilation instance\n",
    "SELECT stay_id\n",
    "  , MIN(charttime) AS starttime\n",
    "  -- for the end time of the ventilation event, the time of the *next* setting\n",
    "  -- i.e. if we go NIV -> O2, the end time of NIV is the first row with a documented O2 device\n",
    "  -- ... unless it's been over 14 hours, in which case it's the last row with a documented NIV.\n",
    "  , MAX(\n",
    "        CASE\n",
    "            WHEN charttime_lead IS NULL\n",
    "            OR (charttime_lead - charttime) >= INTERVAL '14 h'\n",
    "                THEN charttime\n",
    "        ELSE charttime_lead\n",
    "        END\n",
    "   ) AS endtime\n",
    "   -- all rows with the same vent_num will have the same ventilation_status\n",
    "   -- for efficiency, we use an aggregate here,\n",
    "   -- but we could equally well group by this column\n",
    "  , MAX(ventilation_status) AS ventilation_status\n",
    "FROM vd2\n",
    "GROUP BY stay_id, vent_seq\n",
    "HAVING min(charttime) != max(charttime)\n",
    ") , iws AS (\n",
    "    SELECT stay_id, starttime as  inttime, ventilation_status AS int_type, \n",
    "    row_number() OVER (PARTITION BY stay_id ORDER BY starttime) AS int_sequence\n",
    "    FROM ventilation_type\n",
    "    WHERE ventilation_status NOT in ('None', 'SupplementalOxygen') AND ventilation_status IS NOT NULL\n",
    ")\n",
    "SELECT stay_id, inttime, int_type FROM iws WHERE int_sequence = 1\n",
    "\"\"\")\n",
    "stays_with_interventions_full.count(\"*\")"
   ],
   "id": "ca7502849b137fb6",
   "outputs": [
    {
     "data": {
      "text/plain": [
       "┌──────────────┐\n",
       "│ count_star() │\n",
       "│    int64     │\n",
       "├──────────────┤\n",
       "│        27096 │\n",
       "└──────────────┘"
      ]
     },
     "execution_count": 7,
     "metadata": {},
     "output_type": "execute_result"
    }
   ],
   "execution_count": 7
  },
  {
   "metadata": {
    "ExecuteTime": {
     "end_time": "2024-09-08T23:29:40.771347Z",
     "start_time": "2024-09-08T23:29:40.204965Z"
    }
   },
   "cell_type": "code",
   "source": [
    "# Patients with index period\n",
    "patient_with_index_period=duckdb.sql(\"\"\"\n",
    "WITH patient_with_intervention AS (\n",
    "    SELECT isd.*, v.inttime, v.int_type FROM mimic_derived.icustay_detail AS isd\n",
    "    LEFT OUTER JOIN stays_with_interventions AS v ON isd.stay_id = v.stay_id\n",
    "    WHERE first_icu_stay AND first_hosp_stay\n",
    ")\n",
    "SELECT subject_id, stay_id, gender, ethnicity, \n",
    "    admittime AS ip_starttime,\n",
    "    GREATEST(admittime, LEAST( dischtime, inttime, admittime + interval '5 days')) AS ip_endtime,\n",
    "    inttime, int_type\n",
    "    FROM patient_with_intervention\n",
    "\"\"\")\n",
    "patient_with_index_period.df()                     "
   ],
   "id": "cdab9b017617f1b5",
   "outputs": [
    {
     "data": {
      "text/plain": [
       "       subject_id   stay_id gender               ethnicity  \\\n",
       "0        10001884  37510196      F  BLACK/AFRICAN AMERICAN   \n",
       "1        10002155  33685454      F                   WHITE   \n",
       "2        10002348  32610785      F                   WHITE   \n",
       "3        10002430  38392119      M                   WHITE   \n",
       "4        10004401  32773003      M                   WHITE   \n",
       "...           ...       ...    ...                     ...   \n",
       "53145    19975121  33599105      F                   WHITE   \n",
       "53146    19984860  31082854      F         HISPANIC/LATINO   \n",
       "53147    19991538  39801924      M                   WHITE   \n",
       "53148    19911351  30936772      M                 UNKNOWN   \n",
       "53149    19952522  35489970      F                   WHITE   \n",
       "\n",
       "             ip_starttime          ip_endtime             inttime  \\\n",
       "0     2131-01-07 20:39:00 2131-01-12 20:39:00 2131-01-19 18:40:00   \n",
       "1     2129-08-04 12:44:00 2129-08-08 12:00:00 2129-08-08 12:00:00   \n",
       "2     2112-11-30 22:22:00 2112-12-05 02:45:00 2112-12-05 02:45:00   \n",
       "3     2129-06-13 00:00:00 2129-06-13 07:00:00 2129-06-13 07:00:00   \n",
       "4     2144-01-23 07:58:00 2144-01-28 07:58:00 2144-02-03 08:00:00   \n",
       "...                   ...                 ...                 ...   \n",
       "53145 2118-01-18 00:58:00 2118-01-21 08:00:00 2118-01-21 08:00:00   \n",
       "53146 2114-03-04 20:59:00 2114-03-09 00:15:00 2114-03-09 00:15:00   \n",
       "53147 2188-11-24 07:01:00 2188-11-29 07:01:00 2188-12-13 11:00:00   \n",
       "53148 2139-02-27 20:07:00 2139-03-04 20:07:00 2139-03-06 15:00:00   \n",
       "53149 2171-11-30 15:52:00 2171-12-05 15:52:00 2171-12-06 20:00:00   \n",
       "\n",
       "           int_type  \n",
       "0      InvasiveVent  \n",
       "1              HFNC  \n",
       "2      Tracheostomy  \n",
       "3              HFNC  \n",
       "4      Tracheostomy  \n",
       "...             ...  \n",
       "53145          HFNC  \n",
       "53146  InvasiveVent  \n",
       "53147  Tracheostomy  \n",
       "53148  InvasiveVent  \n",
       "53149          HFNC  \n",
       "\n",
       "[53150 rows x 8 columns]"
      ],
      "text/html": [
       "<div>\n",
       "<style scoped>\n",
       "    .dataframe tbody tr th:only-of-type {\n",
       "        vertical-align: middle;\n",
       "    }\n",
       "\n",
       "    .dataframe tbody tr th {\n",
       "        vertical-align: top;\n",
       "    }\n",
       "\n",
       "    .dataframe thead th {\n",
       "        text-align: right;\n",
       "    }\n",
       "</style>\n",
       "<table border=\"1\" class=\"dataframe\">\n",
       "  <thead>\n",
       "    <tr style=\"text-align: right;\">\n",
       "      <th></th>\n",
       "      <th>subject_id</th>\n",
       "      <th>stay_id</th>\n",
       "      <th>gender</th>\n",
       "      <th>ethnicity</th>\n",
       "      <th>ip_starttime</th>\n",
       "      <th>ip_endtime</th>\n",
       "      <th>inttime</th>\n",
       "      <th>int_type</th>\n",
       "    </tr>\n",
       "  </thead>\n",
       "  <tbody>\n",
       "    <tr>\n",
       "      <th>0</th>\n",
       "      <td>10001884</td>\n",
       "      <td>37510196</td>\n",
       "      <td>F</td>\n",
       "      <td>BLACK/AFRICAN AMERICAN</td>\n",
       "      <td>2131-01-07 20:39:00</td>\n",
       "      <td>2131-01-12 20:39:00</td>\n",
       "      <td>2131-01-19 18:40:00</td>\n",
       "      <td>InvasiveVent</td>\n",
       "    </tr>\n",
       "    <tr>\n",
       "      <th>1</th>\n",
       "      <td>10002155</td>\n",
       "      <td>33685454</td>\n",
       "      <td>F</td>\n",
       "      <td>WHITE</td>\n",
       "      <td>2129-08-04 12:44:00</td>\n",
       "      <td>2129-08-08 12:00:00</td>\n",
       "      <td>2129-08-08 12:00:00</td>\n",
       "      <td>HFNC</td>\n",
       "    </tr>\n",
       "    <tr>\n",
       "      <th>2</th>\n",
       "      <td>10002348</td>\n",
       "      <td>32610785</td>\n",
       "      <td>F</td>\n",
       "      <td>WHITE</td>\n",
       "      <td>2112-11-30 22:22:00</td>\n",
       "      <td>2112-12-05 02:45:00</td>\n",
       "      <td>2112-12-05 02:45:00</td>\n",
       "      <td>Tracheostomy</td>\n",
       "    </tr>\n",
       "    <tr>\n",
       "      <th>3</th>\n",
       "      <td>10002430</td>\n",
       "      <td>38392119</td>\n",
       "      <td>M</td>\n",
       "      <td>WHITE</td>\n",
       "      <td>2129-06-13 00:00:00</td>\n",
       "      <td>2129-06-13 07:00:00</td>\n",
       "      <td>2129-06-13 07:00:00</td>\n",
       "      <td>HFNC</td>\n",
       "    </tr>\n",
       "    <tr>\n",
       "      <th>4</th>\n",
       "      <td>10004401</td>\n",
       "      <td>32773003</td>\n",
       "      <td>M</td>\n",
       "      <td>WHITE</td>\n",
       "      <td>2144-01-23 07:58:00</td>\n",
       "      <td>2144-01-28 07:58:00</td>\n",
       "      <td>2144-02-03 08:00:00</td>\n",
       "      <td>Tracheostomy</td>\n",
       "    </tr>\n",
       "    <tr>\n",
       "      <th>...</th>\n",
       "      <td>...</td>\n",
       "      <td>...</td>\n",
       "      <td>...</td>\n",
       "      <td>...</td>\n",
       "      <td>...</td>\n",
       "      <td>...</td>\n",
       "      <td>...</td>\n",
       "      <td>...</td>\n",
       "    </tr>\n",
       "    <tr>\n",
       "      <th>53145</th>\n",
       "      <td>19975121</td>\n",
       "      <td>33599105</td>\n",
       "      <td>F</td>\n",
       "      <td>WHITE</td>\n",
       "      <td>2118-01-18 00:58:00</td>\n",
       "      <td>2118-01-21 08:00:00</td>\n",
       "      <td>2118-01-21 08:00:00</td>\n",
       "      <td>HFNC</td>\n",
       "    </tr>\n",
       "    <tr>\n",
       "      <th>53146</th>\n",
       "      <td>19984860</td>\n",
       "      <td>31082854</td>\n",
       "      <td>F</td>\n",
       "      <td>HISPANIC/LATINO</td>\n",
       "      <td>2114-03-04 20:59:00</td>\n",
       "      <td>2114-03-09 00:15:00</td>\n",
       "      <td>2114-03-09 00:15:00</td>\n",
       "      <td>InvasiveVent</td>\n",
       "    </tr>\n",
       "    <tr>\n",
       "      <th>53147</th>\n",
       "      <td>19991538</td>\n",
       "      <td>39801924</td>\n",
       "      <td>M</td>\n",
       "      <td>WHITE</td>\n",
       "      <td>2188-11-24 07:01:00</td>\n",
       "      <td>2188-11-29 07:01:00</td>\n",
       "      <td>2188-12-13 11:00:00</td>\n",
       "      <td>Tracheostomy</td>\n",
       "    </tr>\n",
       "    <tr>\n",
       "      <th>53148</th>\n",
       "      <td>19911351</td>\n",
       "      <td>30936772</td>\n",
       "      <td>M</td>\n",
       "      <td>UNKNOWN</td>\n",
       "      <td>2139-02-27 20:07:00</td>\n",
       "      <td>2139-03-04 20:07:00</td>\n",
       "      <td>2139-03-06 15:00:00</td>\n",
       "      <td>InvasiveVent</td>\n",
       "    </tr>\n",
       "    <tr>\n",
       "      <th>53149</th>\n",
       "      <td>19952522</td>\n",
       "      <td>35489970</td>\n",
       "      <td>F</td>\n",
       "      <td>WHITE</td>\n",
       "      <td>2171-11-30 15:52:00</td>\n",
       "      <td>2171-12-05 15:52:00</td>\n",
       "      <td>2171-12-06 20:00:00</td>\n",
       "      <td>HFNC</td>\n",
       "    </tr>\n",
       "  </tbody>\n",
       "</table>\n",
       "<p>53150 rows × 8 columns</p>\n",
       "</div>"
      ]
     },
     "execution_count": 8,
     "metadata": {},
     "output_type": "execute_result"
    }
   ],
   "execution_count": 8
  },
  {
   "metadata": {
    "ExecuteTime": {
     "end_time": "2024-09-08T23:29:45.838593Z",
     "start_time": "2024-09-08T23:29:44.873985Z"
    }
   },
   "cell_type": "code",
   "source": [
    "## VALIDATE: Patients with index period\n",
    "# Unique patients (subject id)\n",
    "assert duckdb.sql(\"SELECT subject_id, COUNT(*) FROM patient_with_index_period GROUP BY subject_id HAVING COUNT(*) > 1\").fetchone() is None\n",
    "# Unique stays (stay id)\n",
    "assert duckdb.sql(\"SELECT stay_id, COUNT(*) FROM patient_with_index_period GROUP BY stay_id HAVING COUNT(*) > 1\").fetchone() is None\n",
    "# valid index period (ip_endtime >= ip_starttime)\n",
    "assert duckdb.sql(\"SELECT * FROM patient_with_index_period WHERE ip_endtime < ip_starttime\").fetchone() is None\n",
    "# max lenth of index period is 5 days\n",
    "assert duckdb.sql(\"SELECT * FROM patient_with_index_period WHERE ip_endtime - ip_starttime > interval '5 days'\").fetchone() is None"
   ],
   "id": "b02e572afa2c3a01",
   "outputs": [],
   "execution_count": 9
  },
  {
   "metadata": {
    "ExecuteTime": {
     "end_time": "2024-09-08T23:29:45.970Z",
     "start_time": "2024-09-08T23:29:45.851835Z"
    }
   },
   "cell_type": "code",
   "source": [
    "# Valida nasal canula o2 flow\n",
    "nasal_canula_o2_flow = duckdb.sql(\"\"\"\n",
    "WITH nc_o2 AS (\n",
    "    SELECT *, LEAST(o2_flow, o2_flow_additional) AS o2_flow_nc FROM mimic_derived.oxygen_delivery WHERE o2_delivery_device_1 = 'Nasal cannula' AND o2_delivery_device_2 IS NULL\n",
    ") \n",
    "SELECT subject_id, stay_id, charttime, o2_flow_nc AS o2_flow FROM nc_o2 WHERE o2_flow_nc <= 6\n",
    "\"\"\")\n",
    "nasal_canula_o2_flow"
   ],
   "id": "5c3b1d3e83663b29",
   "outputs": [
    {
     "data": {
      "text/plain": [
       "┌────────────┬──────────┬─────────────────────┬─────────┐\n",
       "│ subject_id │ stay_id  │      charttime      │ o2_flow │\n",
       "│   int32    │  int32   │      timestamp      │ double  │\n",
       "├────────────┼──────────┼─────────────────────┼─────────┤\n",
       "│   10000032 │ 39553978 │ 2180-07-23 14:20:00 │     2.0 │\n",
       "│   10000032 │ 39553978 │ 2180-07-23 18:00:00 │     2.0 │\n",
       "│   10000032 │ 39553978 │ 2180-07-23 20:00:00 │     2.0 │\n",
       "│   10000980 │ 39765666 │ 2189-06-27 10:00:00 │     3.0 │\n",
       "│   10001217 │ 37067082 │ 2157-11-20 19:47:00 │     2.0 │\n",
       "│   10001217 │ 37067082 │ 2157-11-20 22:00:00 │     2.0 │\n",
       "│   10001217 │ 37067082 │ 2157-11-21 00:00:00 │     2.0 │\n",
       "│   10001217 │ 37067082 │ 2157-11-21 02:00:00 │     2.0 │\n",
       "│   10001217 │ 37067082 │ 2157-11-21 08:00:00 │     2.0 │\n",
       "│   10001217 │ 37067082 │ 2157-11-21 18:00:00 │     3.0 │\n",
       "│       ·    │     ·    │          ·          │      ·  │\n",
       "│       ·    │     ·    │          ·          │      ·  │\n",
       "│       ·    │     ·    │          ·          │      ·  │\n",
       "│   10254774 │ 38236413 │ 2119-02-15 18:00:00 │     4.0 │\n",
       "│   10254774 │ 38236413 │ 2119-02-15 19:00:00 │     4.0 │\n",
       "│   10254774 │ 38236413 │ 2119-02-15 20:00:00 │     4.0 │\n",
       "│   10254774 │ 38236413 │ 2119-02-16 00:00:00 │     4.0 │\n",
       "│   10254774 │ 38236413 │ 2119-02-16 04:00:00 │     4.0 │\n",
       "│   10254774 │ 38236413 │ 2119-02-16 08:00:00 │     4.0 │\n",
       "│   10254774 │ 38236413 │ 2119-02-16 12:00:00 │     4.0 │\n",
       "│   10254774 │ 38236413 │ 2119-02-16 16:00:00 │     4.0 │\n",
       "│   10254774 │ 38236413 │ 2119-02-16 18:00:00 │     3.0 │\n",
       "│   10254774 │ 38236413 │ 2119-02-16 20:00:00 │     3.0 │\n",
       "├────────────┴──────────┴─────────────────────┴─────────┤\n",
       "│ ? rows (>9999 rows, 20 shown)               4 columns │\n",
       "└───────────────────────────────────────────────────────┘"
      ]
     },
     "execution_count": 10,
     "metadata": {},
     "output_type": "execute_result"
    }
   ],
   "execution_count": 10
  },
  {
   "metadata": {
    "ExecuteTime": {
     "end_time": "2024-09-08T23:29:45.988699Z",
     "start_time": "2024-09-08T23:29:45.986842Z"
    }
   },
   "cell_type": "code",
   "source": "",
   "id": "aec8f4b40e569081",
   "outputs": [],
   "execution_count": null
  },
  {
   "metadata": {
    "ExecuteTime": {
     "end_time": "2024-09-08T23:29:46.377720Z",
     "start_time": "2024-09-08T23:29:46.014691Z"
    }
   },
   "cell_type": "code",
   "source": [
    "patient_with_o2_data = duckdb.sql(\"\"\"\n",
    "SELECT * FROM patient_with_index_period AS pwi \n",
    "WHERE EXISTS( SELECT 1 FROM nasal_canula_o2_flow AS nco WHERE pwi.stay_id = nco.stay_id AND nco.charttime BETWEEN pwi.ip_starttime AND pwi.ip_endtime)\n",
    "\"\"\")\n",
    "patient_with_o2_data"
   ],
   "id": "38704984c55294c9",
   "outputs": [
    {
     "data": {
      "text/plain": [
       "┌────────────┬──────────┬─────────┬──────────────────┬───┬─────────────────────┬─────────────────────┬─────────────────┐\n",
       "│ subject_id │ stay_id  │ gender  │    ethnicity     │ … │     ip_endtime      │       inttime       │    int_type     │\n",
       "│   int32    │  int32   │ varchar │     varchar      │   │      timestamp      │      timestamp      │     varchar     │\n",
       "├────────────┼──────────┼─────────┼──────────────────┼───┼─────────────────────┼─────────────────────┼─────────────────┤\n",
       "│   10103795 │ 31411464 │ M       │ WHITE            │ … │ 2176-07-06 16:56:00 │ 2176-07-09 22:00:00 │ Tracheostomy    │\n",
       "│   10119017 │ 31009936 │ M       │ ASIAN            │ … │ 2159-08-13 15:00:00 │ 2159-08-13 15:00:00 │ HFNC            │\n",
       "│   10259667 │ 35629197 │ M       │ WHITE            │ … │ 2171-04-21 00:00:00 │ 2171-04-21 00:00:00 │ NonInvasiveVent │\n",
       "│   10005606 │ 38740124 │ M       │ WHITE            │ … │ 2143-12-11 00:54:00 │ NULL                │ NULL            │\n",
       "│   10026868 │ 31030669 │ M       │ WHITE            │ … │ 2149-10-30 14:42:00 │ NULL                │ NULL            │\n",
       "│   10027704 │ 36187473 │ M       │ WHITE            │ … │ 2149-04-08 10:39:00 │ NULL                │ NULL            │\n",
       "│   10029514 │ 39053313 │ M       │ UNKNOWN          │ … │ 2112-10-10 21:58:00 │ NULL                │ NULL            │\n",
       "│   10035787 │ 36110350 │ M       │ WHITE            │ … │ 2115-06-10 16:27:00 │ NULL                │ NULL            │\n",
       "│   10046234 │ 32902460 │ M       │ WHITE            │ … │ 2166-05-01 19:02:00 │ NULL                │ NULL            │\n",
       "│   10047172 │ 34369439 │ M       │ WHITE            │ … │ 2163-06-20 01:28:00 │ NULL                │ NULL            │\n",
       "│       ·    │     ·    │ ·       │   ·              │ · │          ·          │  ·                  │  ·              │\n",
       "│       ·    │     ·    │ ·       │   ·              │ · │          ·          │  ·                  │  ·              │\n",
       "│       ·    │     ·    │ ·       │   ·              │ · │          ·          │  ·                  │  ·              │\n",
       "│   12539479 │ 32405811 │ M       │ WHITE            │ … │ 2129-12-31 10:45:00 │ NULL                │ NULL            │\n",
       "│   12544783 │ 36727026 │ M       │ WHITE            │ … │ 2180-05-11 10:57:00 │ NULL                │ NULL            │\n",
       "│   12553477 │ 35371896 │ F       │ UNABLE TO OBTAIN │ … │ 2181-11-06 04:46:00 │ NULL                │ NULL            │\n",
       "│   12555865 │ 35294648 │ F       │ UNKNOWN          │ … │ 2162-01-03 04:41:00 │ NULL                │ NULL            │\n",
       "│   12556596 │ 39596624 │ M       │ WHITE            │ … │ 2120-02-28 17:28:00 │ NULL                │ NULL            │\n",
       "│   12557373 │ 39507414 │ M       │ WHITE            │ … │ 2174-03-16 19:14:00 │ NULL                │ NULL            │\n",
       "│   12558806 │ 34962172 │ M       │ WHITE            │ … │ 2159-02-21 17:44:00 │ NULL                │ NULL            │\n",
       "│   12559894 │ 36957843 │ M       │ ASIAN            │ … │ 2192-07-08 18:03:00 │ NULL                │ NULL            │\n",
       "│   12566498 │ 30410162 │ M       │ WHITE            │ … │ 2159-07-12 22:04:00 │ NULL                │ NULL            │\n",
       "│   12573085 │ 37331256 │ M       │ ASIAN            │ … │ 2138-04-16 00:00:00 │ NULL                │ NULL            │\n",
       "├────────────┴──────────┴─────────┴──────────────────┴───┴─────────────────────┴─────────────────────┴─────────────────┤\n",
       "│ ? rows (>9999 rows, 20 shown)                                                                    8 columns (7 shown) │\n",
       "└──────────────────────────────────────────────────────────────────────────────────────────────────────────────────────┘"
      ]
     },
     "execution_count": 11,
     "metadata": {},
     "output_type": "execute_result"
    }
   ],
   "execution_count": 11
  },
  {
   "metadata": {
    "ExecuteTime": {
     "end_time": "2024-09-08T23:29:51.168206Z",
     "start_time": "2024-09-08T23:29:50.853516Z"
    }
   },
   "cell_type": "code",
   "source": [
    "# Initial cohort from the paper: 25,340\n",
    "patient_with_o2_data.count(\"*\")"
   ],
   "id": "bccd2f8275e5f4b2",
   "outputs": [
    {
     "data": {
      "text/plain": [
       "┌──────────────┐\n",
       "│ count_star() │\n",
       "│    int64     │\n",
       "├──────────────┤\n",
       "│        30300 │\n",
       "└──────────────┘"
      ]
     },
     "execution_count": 12,
     "metadata": {},
     "output_type": "execute_result"
    }
   ],
   "execution_count": 12
  },
  {
   "metadata": {
    "ExecuteTime": {
     "end_time": "2024-09-08T23:29:55.969497Z",
     "start_time": "2024-09-08T23:29:55.637314Z"
    }
   },
   "cell_type": "code",
   "source": [
    "patient_with_race = duckdb.sql(\"\"\"\n",
    "WITH patients AS (\n",
    "    SELECT *,\n",
    "    CASE\n",
    "        WHEN ethnicity LIKE 'ASIAN%' THEN 'ASIAN'\n",
    "        WHEN ethnicity LIKE 'BLACK%' THEN 'BLACK'\n",
    "        WHEN ethnicity LIKE 'WHITE%' THEN 'WHITE'\n",
    "        WHEN ethnicity LIKE 'HISPANIC%' THEN 'HISPANIC'\n",
    "        END AS race_category\n",
    "    FROM patient_with_o2_data)\n",
    "SELECT subject_id, stay_id, race_category, gender, ip_starttime, ip_endtime  FROM patients WHERE race_category IS NOT NULL\n",
    "\"\"\")\n",
    "patient_with_race"
   ],
   "id": "341a3fce8a6af209",
   "outputs": [
    {
     "data": {
      "text/plain": [
       "┌────────────┬──────────┬───────────────┬─────────┬─────────────────────┬─────────────────────┐\n",
       "│ subject_id │ stay_id  │ race_category │ gender  │    ip_starttime     │     ip_endtime      │\n",
       "│   int32    │  int32   │    varchar    │ varchar │      timestamp      │      timestamp      │\n",
       "├────────────┼──────────┼───────────────┼─────────┼─────────────────────┼─────────────────────┤\n",
       "│   10103795 │ 31411464 │ WHITE         │ M       │ 2176-07-01 16:56:00 │ 2176-07-06 16:56:00 │\n",
       "│   10119017 │ 31009936 │ ASIAN         │ M       │ 2159-08-10 23:55:00 │ 2159-08-13 15:00:00 │\n",
       "│   10259667 │ 35629197 │ WHITE         │ M       │ 2171-04-18 12:35:00 │ 2171-04-21 00:00:00 │\n",
       "│   10005606 │ 38740124 │ WHITE         │ M       │ 2143-12-06 00:54:00 │ 2143-12-11 00:54:00 │\n",
       "│   10026868 │ 31030669 │ WHITE         │ M       │ 2149-10-25 14:42:00 │ 2149-10-30 14:42:00 │\n",
       "│   10027704 │ 36187473 │ WHITE         │ M       │ 2149-04-03 10:39:00 │ 2149-04-08 10:39:00 │\n",
       "│   10035787 │ 36110350 │ WHITE         │ M       │ 2115-06-06 00:00:00 │ 2115-06-10 16:27:00 │\n",
       "│   10046234 │ 32902460 │ WHITE         │ M       │ 2166-04-26 19:02:00 │ 2166-05-01 19:02:00 │\n",
       "│   10047172 │ 34369439 │ WHITE         │ M       │ 2163-06-15 01:28:00 │ 2163-06-20 01:28:00 │\n",
       "│   10048001 │ 31975834 │ WHITE         │ M       │ 2175-02-05 00:14:00 │ 2175-02-10 00:14:00 │\n",
       "│       ·    │     ·    │   ·           │ ·       │          ·          │          ·          │\n",
       "│       ·    │     ·    │   ·           │ ·       │          ·          │          ·          │\n",
       "│       ·    │     ·    │   ·           │ ·       │          ·          │          ·          │\n",
       "│   12898018 │ 38828155 │ WHITE         │ M       │ 2186-12-06 20:18:00 │ 2186-12-11 20:18:00 │\n",
       "│   12928422 │ 34569680 │ BLACK         │ M       │ 2175-09-12 01:41:00 │ 2175-09-16 17:06:00 │\n",
       "│   12940989 │ 31516522 │ WHITE         │ M       │ 2171-11-10 20:36:00 │ 2171-11-12 17:33:00 │\n",
       "│   12943080 │ 30791561 │ WHITE         │ M       │ 2144-12-14 18:27:00 │ 2144-12-15 17:30:00 │\n",
       "│   12945435 │ 32601945 │ WHITE         │ M       │ 2155-01-15 15:13:00 │ 2155-01-20 15:13:00 │\n",
       "│   12954889 │ 36750781 │ WHITE         │ F       │ 2121-11-25 00:00:00 │ 2121-11-26 04:00:00 │\n",
       "│   13092399 │ 30022287 │ HISPANIC      │ M       │ 2118-08-04 05:57:00 │ 2118-08-06 01:00:00 │\n",
       "│   13144697 │ 37714884 │ WHITE         │ F       │ 2134-01-25 14:00:00 │ 2134-01-30 04:00:00 │\n",
       "│   12943458 │ 33884935 │ WHITE         │ F       │ 2165-01-06 01:23:00 │ 2165-01-09 16:50:00 │\n",
       "│   12947350 │ 31997538 │ WHITE         │ M       │ 2170-09-24 17:41:00 │ 2170-09-26 12:12:00 │\n",
       "├────────────┴──────────┴───────────────┴─────────┴─────────────────────┴─────────────────────┤\n",
       "│ ? rows (>9999 rows, 20 shown)                                                     6 columns │\n",
       "└─────────────────────────────────────────────────────────────────────────────────────────────┘"
      ]
     },
     "execution_count": 13,
     "metadata": {},
     "output_type": "execute_result"
    }
   ],
   "execution_count": 13
  },
  {
   "metadata": {
    "ExecuteTime": {
     "end_time": "2024-09-08T23:30:01.772788Z",
     "start_time": "2024-09-08T23:30:01.467787Z"
    }
   },
   "cell_type": "code",
   "source": [
    "# Patients with documented rare/enthnicity by race\n",
    "duckdb.sql(\"\"\"\n",
    "SELECT race_category, COUNT(*) FROM patient_with_race \n",
    "GROUP BY race_category\n",
    "\"\"\")"
   ],
   "id": "bb9e344d1369dc29",
   "outputs": [
    {
     "data": {
      "text/plain": [
       "┌───────────────┬──────────────┐\n",
       "│ race_category │ count_star() │\n",
       "│    varchar    │    int64     │\n",
       "├───────────────┼──────────────┤\n",
       "│ BLACK         │         2361 │\n",
       "│ HISPANIC      │          955 │\n",
       "│ WHITE         │        21455 │\n",
       "│ ASIAN         │          774 │\n",
       "└───────────────┴──────────────┘"
      ]
     },
     "execution_count": 14,
     "metadata": {},
     "output_type": "execute_result"
    }
   ],
   "execution_count": 14
  },
  {
   "metadata": {
    "ExecuteTime": {
     "end_time": "2024-09-08T23:30:07.546610Z",
     "start_time": "2024-09-08T23:30:07.249560Z"
    }
   },
   "cell_type": "code",
   "source": [
    "reading_o2_flow = duckdb.sql(\"\"\"\n",
    "SELECT pwr.subject_id, od.charttime as chart_time, od.o2_flow FROM patient_with_index_period AS pwr\n",
    "JOIN nasal_canula_o2_flow AS od ON  pwr.stay_id = od.stay_id\n",
    "WHERE od.charttime BETWEEN pwr.ip_starttime AND pwr.ip_endtime AND od.o2_flow IS NOT NULL\n",
    "ORDER BY pwr.subject_id, od.charttime\n",
    "\"\"\")\n",
    "reading_o2_flow"
   ],
   "id": "333733e34d2fac93",
   "outputs": [
    {
     "data": {
      "text/plain": [
       "┌────────────┬─────────────────────┬─────────┐\n",
       "│ subject_id │     chart_time      │ o2_flow │\n",
       "│   int32    │      timestamp      │ double  │\n",
       "├────────────┼─────────────────────┼─────────┤\n",
       "│   10000032 │ 2180-07-23 14:20:00 │     2.0 │\n",
       "│   10000032 │ 2180-07-23 18:00:00 │     2.0 │\n",
       "│   10000032 │ 2180-07-23 20:00:00 │     2.0 │\n",
       "│   10000980 │ 2189-06-27 10:00:00 │     3.0 │\n",
       "│   10001217 │ 2157-11-20 19:47:00 │     2.0 │\n",
       "│   10001217 │ 2157-11-20 22:00:00 │     2.0 │\n",
       "│   10001217 │ 2157-11-21 00:00:00 │     2.0 │\n",
       "│   10001217 │ 2157-11-21 02:00:00 │     2.0 │\n",
       "│   10001217 │ 2157-11-21 08:00:00 │     2.0 │\n",
       "│   10001217 │ 2157-11-21 18:00:00 │     3.0 │\n",
       "│       ·    │          ·          │      ·  │\n",
       "│       ·    │          ·          │      ·  │\n",
       "│       ·    │          ·          │      ·  │\n",
       "│   10500453 │ 2131-07-01 06:00:00 │     2.0 │\n",
       "│   10500453 │ 2131-07-01 09:00:00 │     2.0 │\n",
       "│   10500453 │ 2131-07-01 12:00:00 │     2.0 │\n",
       "│   10500453 │ 2131-07-02 03:45:00 │     2.0 │\n",
       "│   10500792 │ 2143-07-09 04:00:00 │     2.0 │\n",
       "│   10500792 │ 2143-07-09 05:00:00 │     3.0 │\n",
       "│   10500792 │ 2143-07-09 07:00:00 │     3.0 │\n",
       "│   10500792 │ 2143-07-09 12:00:00 │     3.0 │\n",
       "│   10500792 │ 2143-07-09 16:00:00 │     3.0 │\n",
       "│   10501044 │ 2162-12-17 02:28:00 │     4.0 │\n",
       "├────────────┴─────────────────────┴─────────┤\n",
       "│ ? rows (>9999 rows, 20 shown)    3 columns │\n",
       "└────────────────────────────────────────────┘"
      ]
     },
     "execution_count": 15,
     "metadata": {},
     "output_type": "execute_result"
    }
   ],
   "execution_count": 15
  },
  {
   "metadata": {},
   "cell_type": "markdown",
   "source": "### Sp02",
   "id": "b8b2e7f63e74d192"
  },
  {
   "metadata": {
    "ExecuteTime": {
     "end_time": "2024-09-08T23:30:14.234499Z",
     "start_time": "2024-09-08T23:30:13.561837Z"
    }
   },
   "cell_type": "code",
   "source": [
    "reading_spo2 = duckdb.sql(\"\"\"\n",
    "SELECT pwr.subject_id, vs.charttime as chart_time, vs.spo2 FROM patient_with_index_period AS pwr\n",
    "JOIN mimic_derived.vitalsign AS vs ON  pwr.stay_id = vs.stay_id\n",
    "WHERE vs.charttime BETWEEN pwr.ip_starttime AND pwr.ip_endtime AND vs.spo2 IS NOT NULL\n",
    "ORDER BY pwr.subject_id, vs.charttime\n",
    "\"\"\")\n",
    "reading_spo2"
   ],
   "id": "83a7067d7c69214c",
   "outputs": [
    {
     "data": {
      "text/plain": [
       "┌────────────┬─────────────────────┬────────┐\n",
       "│ subject_id │     chart_time      │  spo2  │\n",
       "│   int32    │      timestamp      │ double │\n",
       "├────────────┼─────────────────────┼────────┤\n",
       "│   10000032 │ 2180-07-23 14:13:00 │   98.0 │\n",
       "│   10000032 │ 2180-07-23 14:30:00 │   97.0 │\n",
       "│   10000032 │ 2180-07-23 15:00:00 │   97.0 │\n",
       "│   10000032 │ 2180-07-23 16:00:00 │   94.0 │\n",
       "│   10000032 │ 2180-07-23 17:00:00 │   95.0 │\n",
       "│   10000032 │ 2180-07-23 18:00:00 │   95.0 │\n",
       "│   10000032 │ 2180-07-23 19:00:00 │   98.0 │\n",
       "│   10000032 │ 2180-07-23 20:00:00 │   99.0 │\n",
       "│   10000032 │ 2180-07-23 21:00:00 │   95.0 │\n",
       "│   10000032 │ 2180-07-23 22:00:00 │   95.0 │\n",
       "│       ·    │          ·          │     ·  │\n",
       "│       ·    │          ·          │     ·  │\n",
       "│       ·    │          ·          │     ·  │\n",
       "│   10032409 │ 2128-10-12 04:00:00 │   96.0 │\n",
       "│   10032409 │ 2128-10-12 05:00:00 │   96.0 │\n",
       "│   10032409 │ 2128-10-12 06:00:00 │   96.0 │\n",
       "│   10032409 │ 2128-10-12 07:00:00 │   96.0 │\n",
       "│   10032409 │ 2128-10-12 08:00:00 │   95.0 │\n",
       "│   10032409 │ 2128-10-12 09:00:00 │  100.0 │\n",
       "│   10032409 │ 2128-10-12 10:00:00 │   98.0 │\n",
       "│   10032409 │ 2128-10-12 11:00:00 │   96.0 │\n",
       "│   10032409 │ 2128-10-12 12:00:00 │   98.0 │\n",
       "│   10032409 │ 2128-10-12 13:00:00 │   96.0 │\n",
       "├────────────┴─────────────────────┴────────┤\n",
       "│ ? rows (>9999 rows, 20 shown)   3 columns │\n",
       "└───────────────────────────────────────────┘"
      ]
     },
     "execution_count": 16,
     "metadata": {},
     "output_type": "execute_result"
    }
   ],
   "execution_count": 16
  },
  {
   "metadata": {
    "ExecuteTime": {
     "end_time": "2024-09-08T23:30:22.459525Z",
     "start_time": "2024-09-08T23:30:22.174138Z"
    }
   },
   "cell_type": "code",
   "source": [
    "reading_so2 = duckdb.sql(\"\"\"\n",
    "SELECT pwr.subject_id, bg.charttime as chart_time, bg.so2 FROM patient_with_index_period AS pwr\n",
    "JOIN mimic_derived.bg AS bg ON  pwr.subject_id = bg.subject_id\n",
    "WHERE bg.charttime BETWEEN pwr.ip_starttime AND pwr.ip_endtime AND bg.so2 IS NOT NULL AND bg.specimen = 'ART.'\n",
    "ORDER BY pwr.subject_id, bg.charttime\n",
    "\"\"\")\n",
    "reading_so2"
   ],
   "id": "eee4188b9a27ad1f",
   "outputs": [
    {
     "data": {
      "text/plain": [
       "┌────────────┬─────────────────────┬────────┐\n",
       "│ subject_id │     chart_time      │  so2   │\n",
       "│   int32    │      timestamp      │ double │\n",
       "├────────────┼─────────────────────┼────────┤\n",
       "│   10002013 │ 2160-05-18 16:03:00 │   99.0 │\n",
       "│   10002013 │ 2160-05-18 17:42:00 │   96.0 │\n",
       "│   10002013 │ 2160-05-18 21:32:00 │   97.0 │\n",
       "│   10002155 │ 2129-08-05 07:48:00 │   94.0 │\n",
       "│   10002443 │ 2183-10-18 02:35:00 │   90.0 │\n",
       "│   10002760 │ 2141-04-20 16:10:00 │   97.0 │\n",
       "│   10002760 │ 2141-04-20 18:18:00 │   99.0 │\n",
       "│   10002760 │ 2141-04-21 02:04:00 │   99.0 │\n",
       "│   10002760 │ 2141-04-21 04:03:00 │   99.0 │\n",
       "│   10002760 │ 2141-04-21 06:04:00 │   98.0 │\n",
       "│       ·    │          ·          │     ·  │\n",
       "│       ·    │          ·          │     ·  │\n",
       "│       ·    │          ·          │     ·  │\n",
       "│   12290376 │ 2160-08-08 01:20:00 │   99.0 │\n",
       "│   12294267 │ 2166-03-31 21:42:00 │   88.0 │\n",
       "│   12294554 │ 2178-02-03 23:52:00 │   97.0 │\n",
       "│   12296431 │ 2133-09-28 15:08:00 │   99.0 │\n",
       "│   12296431 │ 2133-09-28 19:39:00 │   98.0 │\n",
       "│   12296431 │ 2133-09-28 22:30:00 │   96.0 │\n",
       "│   12297844 │ 2112-11-29 07:51:00 │   98.0 │\n",
       "│   12297844 │ 2112-11-29 14:21:00 │   95.0 │\n",
       "│   12297844 │ 2112-11-29 17:28:00 │   98.0 │\n",
       "│   12297844 │ 2112-11-29 19:01:00 │   95.0 │\n",
       "├────────────┴─────────────────────┴────────┤\n",
       "│ ? rows (>9999 rows, 20 shown)   3 columns │\n",
       "└───────────────────────────────────────────┘"
      ]
     },
     "execution_count": 17,
     "metadata": {},
     "output_type": "execute_result"
    }
   ],
   "execution_count": 17
  },
  {
   "metadata": {},
   "cell_type": "markdown",
   "source": "## Perform final extract",
   "id": "8424c8d886752c6d"
  },
  {
   "metadata": {
    "ExecuteTime": {
     "end_time": "2024-09-08T23:30:32.689802Z",
     "start_time": "2024-09-08T23:30:31.331645Z"
    }
   },
   "cell_type": "code",
   "source": [
    "coh_subject = duckdb.sql(\"\"\"\n",
    "SELECT subject_id, gender, race_category FROM patient_with_race AS pwr\n",
    "WHERE \n",
    "    EXISTS( SELECT 1 FROM reading_o2_flow AS rof WHERE pwr.subject_id = rof.subject_id)\n",
    "    AND EXISTS( SELECT 1 FROM reading_spo2 AS rs WHERE pwr.subject_id = rs.subject_id)\n",
    "    AND EXISTS( SELECT 1 FROM reading_so2 AS rso WHERE pwr.subject_id = rso.subject_id)\n",
    "\"\"\")\n",
    "coh_subject"
   ],
   "id": "ed0647389feb98e2",
   "outputs": [
    {
     "data": {
      "text/plain": [
       "┌────────────┬─────────┬───────────────┐\n",
       "│ subject_id │ gender  │ race_category │\n",
       "│   int32    │ varchar │    varchar    │\n",
       "├────────────┼─────────┼───────────────┤\n",
       "│   10746848 │ F       │ WHITE         │\n",
       "│   11124859 │ M       │ WHITE         │\n",
       "│   11236474 │ F       │ BLACK         │\n",
       "│   12538134 │ F       │ ASIAN         │\n",
       "│   13299872 │ F       │ WHITE         │\n",
       "│   13678296 │ M       │ WHITE         │\n",
       "│   14393652 │ M       │ WHITE         │\n",
       "│   15583708 │ M       │ WHITE         │\n",
       "│   16003671 │ M       │ HISPANIC      │\n",
       "│   16979799 │ M       │ WHITE         │\n",
       "│       ·    │ ·       │   ·           │\n",
       "│       ·    │ ·       │   ·           │\n",
       "│       ·    │ ·       │   ·           │\n",
       "│   15588339 │ M       │ WHITE         │\n",
       "│   15921116 │ M       │ WHITE         │\n",
       "│   15942459 │ F       │ WHITE         │\n",
       "│   15968932 │ M       │ WHITE         │\n",
       "│   16297202 │ M       │ WHITE         │\n",
       "│   17841897 │ M       │ WHITE         │\n",
       "│   17902431 │ M       │ WHITE         │\n",
       "│   18483313 │ F       │ WHITE         │\n",
       "│   18782148 │ M       │ WHITE         │\n",
       "│   18871604 │ M       │ BLACK         │\n",
       "├────────────┴─────────┴───────────────┤\n",
       "│ 7140 rows (20 shown)       3 columns │\n",
       "└──────────────────────────────────────┘"
      ]
     },
     "execution_count": 18,
     "metadata": {},
     "output_type": "execute_result"
    }
   ],
   "execution_count": 18
  },
  {
   "metadata": {
    "ExecuteTime": {
     "end_time": "2024-09-08T23:30:46.960839Z",
     "start_time": "2024-09-08T23:30:45.588394Z"
    }
   },
   "cell_type": "code",
   "source": [
    "duckdb.sql(\"\"\"\n",
    "SELECT race_category, COUNT(*) FROM coh_subject GROUP BY  race_category\n",
    "\"\"\")"
   ],
   "id": "ffe3ee8dc9bfd6d7",
   "outputs": [
    {
     "data": {
      "text/plain": [
       "┌───────────────┬──────────────┐\n",
       "│ race_category │ count_star() │\n",
       "│    varchar    │    int64     │\n",
       "├───────────────┼──────────────┤\n",
       "│ HISPANIC      │          237 │\n",
       "│ BLACK         │          499 │\n",
       "│ WHITE         │         6184 │\n",
       "│ ASIAN         │          220 │\n",
       "└───────────────┴──────────────┘"
      ]
     },
     "execution_count": 19,
     "metadata": {},
     "output_type": "execute_result"
    }
   ],
   "execution_count": 19
  },
  {
   "metadata": {
    "ExecuteTime": {
     "end_time": "2024-09-08T23:30:59.870848Z",
     "start_time": "2024-09-08T23:30:59.828270Z"
    }
   },
   "cell_type": "code",
   "source": [
    "coh_reading_o2_flow = duckdb.sql(\"\"\"\n",
    "SELECT * FROM reading_o2_flow AS rd WHERE EXISTS( SELECT 1 FROM coh_subject AS cs WHERE rd.subject_id = cs.subject_id)\n",
    "\"\"\")\n",
    "coh_reading_spo2 = duckdb.sql(\"\"\"\n",
    "SELECT * FROM reading_spo2 AS rd WHERE EXISTS( SELECT 1 FROM coh_subject AS cs WHERE rd.subject_id = cs.subject_id)\n",
    "\"\"\")\n",
    "coh_reading_so2 = duckdb.sql(\"\"\"\n",
    "SELECT * FROM reading_so2 AS rd WHERE EXISTS( SELECT 1 FROM coh_subject AS cs WHERE rd.subject_id = cs.subject_id)\n",
    "\"\"\")"
   ],
   "id": "6fd5607d4d4f8ff0",
   "outputs": [],
   "execution_count": 20
  },
  {
   "metadata": {},
   "cell_type": "markdown",
   "source": "### Save the extreact to cvs",
   "id": "32cbc1affd19e620"
  },
  {
   "metadata": {
    "ExecuteTime": {
     "end_time": "2024-09-08T23:31:40.252231Z",
     "start_time": "2024-09-08T23:31:33.540220Z"
    }
   },
   "cell_type": "code",
   "source": [
    "coh_subject.to_csv('../data/psql_mimic-1.0_alt/subject.csv')\n",
    "coh_reading_o2_flow.to_csv('../data/psql_mimic-1.0_alt/reading_o2_flow.csv')\n",
    "coh_reading_spo2.to_csv('../data/psql_mimic-1.0_alt/reading_spo2.csv')\n",
    "coh_reading_so2.to_csv('../data/psql_mimic-1.0_alt/reading_so2.csv')"
   ],
   "id": "e2868963d334de86",
   "outputs": [
    {
     "data": {
      "text/plain": [
       "FloatProgress(value=0.0, layout=Layout(width='auto'), style=ProgressStyle(bar_color='black'))"
      ],
      "application/vnd.jupyter.widget-view+json": {
       "version_major": 2,
       "version_minor": 0,
       "model_id": "aa5f4dd2ab8d42bda978319c8ca8abf9"
      }
     },
     "metadata": {},
     "output_type": "display_data"
    }
   ],
   "execution_count": 21
  }
 ],
 "metadata": {
  "kernelspec": {
   "display_name": "Python 3",
   "language": "python",
   "name": "python3"
  },
  "language_info": {
   "codemirror_mode": {
    "name": "ipython",
    "version": 2
   },
   "file_extension": ".py",
   "mimetype": "text/x-python",
   "name": "python",
   "nbconvert_exporter": "python",
   "pygments_lexer": "ipython2",
   "version": "2.7.6"
  }
 },
 "nbformat": 4,
 "nbformat_minor": 5
}
