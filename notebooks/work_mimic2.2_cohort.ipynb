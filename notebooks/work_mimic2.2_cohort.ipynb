{
 "cells": [
  {
   "cell_type": "code",
   "id": "initial_id",
   "metadata": {
    "collapsed": true,
    "ExecuteTime": {
     "end_time": "2024-09-08T23:36:21.560332Z",
     "start_time": "2024-09-08T23:36:21.423042Z"
    }
   },
   "source": [
    "import duckdb\n",
    "duckdb.sql(\"ATTACH 'dbname=mimic4 user=szu004' AS db (TYPE POSTGRES, READ_ONLY)\")\n",
    "duckdb.sql(\"USE db\")"
   ],
   "outputs": [],
   "execution_count": 1
  },
  {
   "metadata": {
    "ExecuteTime": {
     "end_time": "2024-09-08T23:36:21.588470Z",
     "start_time": "2024-09-08T23:36:21.564731Z"
    }
   },
   "cell_type": "code",
   "source": [
    "# ALL ICU stays (paper reports 765,40)\n",
    "duckdb.sql(\"SELECT COUNT(*) as icu_stay_count FROM mimiciv_derived.icustay_detail\")"
   ],
   "id": "8ae337447f0cc273",
   "outputs": [
    {
     "data": {
      "text/plain": [
       "┌────────────────┐\n",
       "│ icu_stay_count │\n",
       "│     int64      │\n",
       "├────────────────┤\n",
       "│          73181 │\n",
       "└────────────────┘"
      ]
     },
     "execution_count": 2,
     "metadata": {},
     "output_type": "execute_result"
    }
   ],
   "execution_count": 2
  },
  {
   "metadata": {
    "ExecuteTime": {
     "end_time": "2024-09-08T23:36:21.686874Z",
     "start_time": "2024-09-08T23:36:21.657614Z"
    }
   },
   "cell_type": "code",
   "source": "duckdb.sql(\"SELECT COUNT(DISTINCT subject_id) as icu_stay_count FROM mimiciv_derived.icustay_detail\")",
   "id": "303a47b51fce8476",
   "outputs": [
    {
     "data": {
      "text/plain": [
       "┌────────────────┐\n",
       "│ icu_stay_count │\n",
       "│     int64      │\n",
       "├────────────────┤\n",
       "│          50920 │\n",
       "└────────────────┘"
      ]
     },
     "execution_count": 3,
     "metadata": {},
     "output_type": "execute_result"
    }
   ],
   "execution_count": 3
  },
  {
   "metadata": {
    "ExecuteTime": {
     "end_time": "2024-09-08T23:36:21.803401Z",
     "start_time": "2024-09-08T23:36:21.756534Z"
    }
   },
   "cell_type": "code",
   "source": [
    "# Ventilation interventions\n",
    "stays_with_interventions_org = duckdb.sql(\"\"\"\n",
    "WITH iws AS (\n",
    "    SELECT stay_id, starttime as  inttime, ventilation_status AS int_type, row_number() OVER (PARTITION BY stay_id ORDER BY starttime) AS int_sequence\n",
    "    FROM mimiciv_derived.ventilation\n",
    "    WHERE ventilation_status NOT in ('None', 'SupplementalOxygen')\n",
    ")\n",
    "SELECT stay_id, inttime, int_type FROM iws WHERE int_sequence = 1\n",
    "\"\"\")\n",
    "stays_with_interventions_org.count(\"*\")"
   ],
   "id": "4b1c97b7a4a8f57a",
   "outputs": [
    {
     "data": {
      "text/plain": [
       "┌──────────────┐\n",
       "│ count_star() │\n",
       "│    int64     │\n",
       "├──────────────┤\n",
       "│        29367 │\n",
       "└──────────────┘"
      ]
     },
     "execution_count": 4,
     "metadata": {},
     "output_type": "execute_result"
    }
   ],
   "execution_count": 4
  },
  {
   "metadata": {
    "ExecuteTime": {
     "end_time": "2024-09-08T23:36:22.071070Z",
     "start_time": "2024-09-08T23:36:21.897082Z"
    }
   },
   "cell_type": "code",
   "source": [
    "# Alternative way to get the first intervention\n",
    "ventilation_type = duckdb.sql(\"\"\"\n",
    "WITH odd AS (\n",
    "    SELECT subject_id, stay_id, charttime, o2_delivery_device_1 AS o2_delivery_device FROM mimiciv_derived.oxygen_delivery\n",
    "    UNION SELECT subject_id, stay_id, charttime, o2_delivery_device_2 AS o2_delivery_device FROM mimiciv_derived.oxygen_delivery\n",
    "    UNION SELECT subject_id, stay_id, charttime, o2_delivery_device_3 AS o2_delivery_device FROM mimiciv_derived.oxygen_delivery\n",
    "    UNION SELECT subject_id, stay_id, charttime, o2_delivery_device_4 AS o2_delivery_device FROM mimiciv_derived.oxygen_delivery\n",
    "), odd1 AS (SELECT *, \n",
    "    CASE\n",
    "    -- tracheostomy\n",
    "    WHEN o2_delivery_device IN (\n",
    "        'Tracheostomy tube',\n",
    "        'Trach mask ' -- 16435 observations\n",
    "        -- 'T-piece', -- 1135 observations (T-piece could be either InvasiveVent or Tracheostomy)\n",
    "        ) THEN 'Tracheostomy'\n",
    "    -- mechanical / invasive ventilation\n",
    "    WHEN o2_delivery_device IN (\n",
    "        'Endotracheal tube'\n",
    "        ) THEN 'InvasiveVent'\n",
    "    -- NIV\n",
    "    WHEN o2_delivery_device IN (\n",
    "        'Bipap mask ', -- 8997 observations\n",
    "        'CPAP mask ' -- 5568 observations\n",
    "        ) THEN 'NonInvasiveVent'\n",
    "    -- high flow nasal cannula\n",
    "    when o2_delivery_device IN (\n",
    "        'High flow nasal cannula' -- 925 observations\n",
    "        ) THEN 'HFNC'\n",
    "    -- non rebreather\n",
    "    WHEN o2_delivery_device IN ( \n",
    "        'Non-rebreather', -- 5182 observations\n",
    "        'Face tent', -- 24601 observations\n",
    "        'Aerosol-cool', -- 24560 observations\n",
    "        'Venti mask ', -- 1947 observations\n",
    "        'Medium conc mask ', -- 1888 observations\n",
    "        'Ultrasonic neb', -- 9 observations\n",
    "        'Vapomist', -- 3 observations\n",
    "        'Oxymizer', -- 1301 observations\n",
    "        'High flow neb', -- 10785 observations\n",
    "        'Nasal cannula'\n",
    "        ) THEN 'SupplementalOxygen'\n",
    "    WHEN o2_delivery_device in (\n",
    "        'None'\n",
    "     ) THEN 'None'\n",
    "    -- not categorized: other\n",
    "    ELSE NULL END AS ventilation_status\n",
    "FROM odd WHERE o2_delivery_device  IS NOT NULL\n",
    ")\n",
    "SELECT subject_id, stay_id, charttime AS starttime, ventilation_status FROM odd1\n",
    "\"\"\")\n",
    "ventilation_type\n",
    "stays_with_interventions = duckdb.sql(\"\"\"\n",
    "WITH iws AS (\n",
    "    SELECT stay_id, starttime as  inttime, ventilation_status AS int_type,\n",
    "row_number() OVER (PARTITION BY stay_id ORDER BY starttime) AS int_sequence\n",
    "FROM ventilation_type\n",
    "WHERE ventilation_status NOT in ('None', 'SupplementalOxygen') AND ventilation_status IS NOT NULL\n",
    ")\n",
    "SELECT stay_id, inttime, int_type FROM iws WHERE int_sequence = 1\n",
    "\"\"\")\n",
    "stays_with_interventions.count(\"*\")"
   ],
   "id": "15fac9a10557f4e8",
   "outputs": [
    {
     "data": {
      "text/plain": [
       "┌──────────────┐\n",
       "│ count_star() │\n",
       "│    int64     │\n",
       "├──────────────┤\n",
       "│         9263 │\n",
       "└──────────────┘"
      ]
     },
     "execution_count": 5,
     "metadata": {},
     "output_type": "execute_result"
    }
   ],
   "execution_count": 5
  },
  {
   "metadata": {
    "ExecuteTime": {
     "end_time": "2024-09-08T23:36:24.012092Z",
     "start_time": "2024-09-08T23:36:23.547146Z"
    }
   },
   "cell_type": "code",
   "source": [
    "# Patients with index period\n",
    "patient_with_index_period=duckdb.sql(\"\"\"\n",
    "WITH patient_with_intervention AS (\n",
    "    SELECT isd.*, v.inttime, v.int_type FROM mimiciv_derived.icustay_detail AS isd\n",
    "    LEFT OUTER JOIN stays_with_interventions AS v ON isd.stay_id = v.stay_id\n",
    "    WHERE first_icu_stay AND first_hosp_stay\n",
    ")\n",
    "SELECT subject_id, stay_id, gender, race AS ethnicity, \n",
    "    admittime AS ip_starttime,\n",
    "    GREATEST(admittime, LEAST( dischtime, inttime, admittime + interval '5 days')) AS ip_endtime,\n",
    "    inttime, int_type\n",
    "    FROM patient_with_intervention\n",
    "\"\"\")\n",
    "patient_with_index_period.df()                     "
   ],
   "id": "cdab9b017617f1b5",
   "outputs": [
    {
     "data": {
      "text/plain": [
       "       subject_id   stay_id gender                       ethnicity  \\\n",
       "0        10001884  37510196      F          BLACK/AFRICAN AMERICAN   \n",
       "1        10002155  33685454      F                           WHITE   \n",
       "2        10002348  32610785      F                           WHITE   \n",
       "3        10002430  38392119      M                           WHITE   \n",
       "4        10004401  32773003      M                           WHITE   \n",
       "...           ...       ...    ...                             ...   \n",
       "50915    19975121  33599105      F                           WHITE   \n",
       "50916    19984860  31082854      F              HISPANIC OR LATINO   \n",
       "50917    19857813  36271025      F  HISPANIC/LATINO - PUERTO RICAN   \n",
       "50918    19858302  35257959      M                           WHITE   \n",
       "50919    19911351  30936772      M                         UNKNOWN   \n",
       "\n",
       "             ip_starttime          ip_endtime             inttime  \\\n",
       "0     2131-01-07 20:39:00 2131-01-12 20:39:00 2131-01-19 18:40:00   \n",
       "1     2129-08-04 12:44:00 2129-08-08 12:00:00 2129-08-08 12:00:00   \n",
       "2     2112-11-30 22:22:00 2112-12-05 02:45:00 2112-12-05 02:45:00   \n",
       "3     2129-06-13 00:00:00 2129-06-13 07:00:00 2129-06-13 07:00:00   \n",
       "4     2144-01-23 07:58:00 2144-01-28 07:58:00 2144-02-03 08:00:00   \n",
       "...                   ...                 ...                 ...   \n",
       "50915 2118-01-18 00:58:00 2118-01-21 08:00:00 2118-01-21 08:00:00   \n",
       "50916 2114-03-04 20:59:00 2114-03-09 00:15:00 2114-03-09 00:15:00   \n",
       "50917 2129-06-14 02:18:00 2129-06-14 09:00:00 2129-06-14 09:00:00   \n",
       "50918 2182-07-24 22:05:00 2182-07-25 11:00:00 2182-07-25 11:00:00   \n",
       "50919 2139-02-27 20:07:00 2139-03-04 20:07:00 2139-03-06 15:00:00   \n",
       "\n",
       "           int_type  \n",
       "0      InvasiveVent  \n",
       "1              HFNC  \n",
       "2      Tracheostomy  \n",
       "3              HFNC  \n",
       "4      Tracheostomy  \n",
       "...             ...  \n",
       "50915          HFNC  \n",
       "50916  InvasiveVent  \n",
       "50917          HFNC  \n",
       "50918  InvasiveVent  \n",
       "50919  InvasiveVent  \n",
       "\n",
       "[50920 rows x 8 columns]"
      ],
      "text/html": [
       "<div>\n",
       "<style scoped>\n",
       "    .dataframe tbody tr th:only-of-type {\n",
       "        vertical-align: middle;\n",
       "    }\n",
       "\n",
       "    .dataframe tbody tr th {\n",
       "        vertical-align: top;\n",
       "    }\n",
       "\n",
       "    .dataframe thead th {\n",
       "        text-align: right;\n",
       "    }\n",
       "</style>\n",
       "<table border=\"1\" class=\"dataframe\">\n",
       "  <thead>\n",
       "    <tr style=\"text-align: right;\">\n",
       "      <th></th>\n",
       "      <th>subject_id</th>\n",
       "      <th>stay_id</th>\n",
       "      <th>gender</th>\n",
       "      <th>ethnicity</th>\n",
       "      <th>ip_starttime</th>\n",
       "      <th>ip_endtime</th>\n",
       "      <th>inttime</th>\n",
       "      <th>int_type</th>\n",
       "    </tr>\n",
       "  </thead>\n",
       "  <tbody>\n",
       "    <tr>\n",
       "      <th>0</th>\n",
       "      <td>10001884</td>\n",
       "      <td>37510196</td>\n",
       "      <td>F</td>\n",
       "      <td>BLACK/AFRICAN AMERICAN</td>\n",
       "      <td>2131-01-07 20:39:00</td>\n",
       "      <td>2131-01-12 20:39:00</td>\n",
       "      <td>2131-01-19 18:40:00</td>\n",
       "      <td>InvasiveVent</td>\n",
       "    </tr>\n",
       "    <tr>\n",
       "      <th>1</th>\n",
       "      <td>10002155</td>\n",
       "      <td>33685454</td>\n",
       "      <td>F</td>\n",
       "      <td>WHITE</td>\n",
       "      <td>2129-08-04 12:44:00</td>\n",
       "      <td>2129-08-08 12:00:00</td>\n",
       "      <td>2129-08-08 12:00:00</td>\n",
       "      <td>HFNC</td>\n",
       "    </tr>\n",
       "    <tr>\n",
       "      <th>2</th>\n",
       "      <td>10002348</td>\n",
       "      <td>32610785</td>\n",
       "      <td>F</td>\n",
       "      <td>WHITE</td>\n",
       "      <td>2112-11-30 22:22:00</td>\n",
       "      <td>2112-12-05 02:45:00</td>\n",
       "      <td>2112-12-05 02:45:00</td>\n",
       "      <td>Tracheostomy</td>\n",
       "    </tr>\n",
       "    <tr>\n",
       "      <th>3</th>\n",
       "      <td>10002430</td>\n",
       "      <td>38392119</td>\n",
       "      <td>M</td>\n",
       "      <td>WHITE</td>\n",
       "      <td>2129-06-13 00:00:00</td>\n",
       "      <td>2129-06-13 07:00:00</td>\n",
       "      <td>2129-06-13 07:00:00</td>\n",
       "      <td>HFNC</td>\n",
       "    </tr>\n",
       "    <tr>\n",
       "      <th>4</th>\n",
       "      <td>10004401</td>\n",
       "      <td>32773003</td>\n",
       "      <td>M</td>\n",
       "      <td>WHITE</td>\n",
       "      <td>2144-01-23 07:58:00</td>\n",
       "      <td>2144-01-28 07:58:00</td>\n",
       "      <td>2144-02-03 08:00:00</td>\n",
       "      <td>Tracheostomy</td>\n",
       "    </tr>\n",
       "    <tr>\n",
       "      <th>...</th>\n",
       "      <td>...</td>\n",
       "      <td>...</td>\n",
       "      <td>...</td>\n",
       "      <td>...</td>\n",
       "      <td>...</td>\n",
       "      <td>...</td>\n",
       "      <td>...</td>\n",
       "      <td>...</td>\n",
       "    </tr>\n",
       "    <tr>\n",
       "      <th>50915</th>\n",
       "      <td>19975121</td>\n",
       "      <td>33599105</td>\n",
       "      <td>F</td>\n",
       "      <td>WHITE</td>\n",
       "      <td>2118-01-18 00:58:00</td>\n",
       "      <td>2118-01-21 08:00:00</td>\n",
       "      <td>2118-01-21 08:00:00</td>\n",
       "      <td>HFNC</td>\n",
       "    </tr>\n",
       "    <tr>\n",
       "      <th>50916</th>\n",
       "      <td>19984860</td>\n",
       "      <td>31082854</td>\n",
       "      <td>F</td>\n",
       "      <td>HISPANIC OR LATINO</td>\n",
       "      <td>2114-03-04 20:59:00</td>\n",
       "      <td>2114-03-09 00:15:00</td>\n",
       "      <td>2114-03-09 00:15:00</td>\n",
       "      <td>InvasiveVent</td>\n",
       "    </tr>\n",
       "    <tr>\n",
       "      <th>50917</th>\n",
       "      <td>19857813</td>\n",
       "      <td>36271025</td>\n",
       "      <td>F</td>\n",
       "      <td>HISPANIC/LATINO - PUERTO RICAN</td>\n",
       "      <td>2129-06-14 02:18:00</td>\n",
       "      <td>2129-06-14 09:00:00</td>\n",
       "      <td>2129-06-14 09:00:00</td>\n",
       "      <td>HFNC</td>\n",
       "    </tr>\n",
       "    <tr>\n",
       "      <th>50918</th>\n",
       "      <td>19858302</td>\n",
       "      <td>35257959</td>\n",
       "      <td>M</td>\n",
       "      <td>WHITE</td>\n",
       "      <td>2182-07-24 22:05:00</td>\n",
       "      <td>2182-07-25 11:00:00</td>\n",
       "      <td>2182-07-25 11:00:00</td>\n",
       "      <td>InvasiveVent</td>\n",
       "    </tr>\n",
       "    <tr>\n",
       "      <th>50919</th>\n",
       "      <td>19911351</td>\n",
       "      <td>30936772</td>\n",
       "      <td>M</td>\n",
       "      <td>UNKNOWN</td>\n",
       "      <td>2139-02-27 20:07:00</td>\n",
       "      <td>2139-03-04 20:07:00</td>\n",
       "      <td>2139-03-06 15:00:00</td>\n",
       "      <td>InvasiveVent</td>\n",
       "    </tr>\n",
       "  </tbody>\n",
       "</table>\n",
       "<p>50920 rows × 8 columns</p>\n",
       "</div>"
      ]
     },
     "execution_count": 6,
     "metadata": {},
     "output_type": "execute_result"
    }
   ],
   "execution_count": 6
  },
  {
   "metadata": {
    "ExecuteTime": {
     "end_time": "2024-09-08T23:36:26.730212Z",
     "start_time": "2024-09-08T23:36:25.865639Z"
    }
   },
   "cell_type": "code",
   "source": [
    "## VALIDATE: Patients with index period\n",
    "# Unique patients (subject id)\n",
    "assert duckdb.sql(\"SELECT subject_id, COUNT(*) FROM patient_with_index_period GROUP BY subject_id HAVING COUNT(*) > 1\").fetchone() is None\n",
    "# Unique stays (stay id)\n",
    "assert duckdb.sql(\"SELECT stay_id, COUNT(*) FROM patient_with_index_period GROUP BY stay_id HAVING COUNT(*) > 1\").fetchone() is None\n",
    "# valid index period (ip_endtime >= ip_starttime)\n",
    "assert duckdb.sql(\"SELECT * FROM patient_with_index_period WHERE ip_endtime < ip_starttime\").fetchone() is None\n",
    "# max lenth of index period is 5 days\n",
    "assert duckdb.sql(\"SELECT * FROM patient_with_index_period WHERE ip_endtime - ip_starttime > interval '5 days'\").fetchone() is None"
   ],
   "id": "b02e572afa2c3a01",
   "outputs": [],
   "execution_count": 7
  },
  {
   "metadata": {
    "ExecuteTime": {
     "end_time": "2024-09-08T23:36:26.808279Z",
     "start_time": "2024-09-08T23:36:26.744885Z"
    }
   },
   "cell_type": "code",
   "source": [
    "# Valida nasal canula o2 flow\n",
    "nasal_canula_o2_flow = duckdb.sql(\"\"\"\n",
    "WITH nc_o2 AS (\n",
    "    SELECT *, LEAST(o2_flow, o2_flow_additional) AS o2_flow_nc FROM mimiciv_derived.oxygen_delivery WHERE o2_delivery_device_1 = 'Nasal cannula' AND o2_delivery_device_2 IS NULL\n",
    ") \n",
    "SELECT subject_id, stay_id, charttime, o2_flow_nc AS o2_flow FROM nc_o2 WHERE o2_flow_nc <= 6\n",
    "\"\"\")\n",
    "nasal_canula_o2_flow"
   ],
   "id": "5c3b1d3e83663b29",
   "outputs": [
    {
     "data": {
      "text/plain": [
       "┌────────────┬──────────┬─────────────────────┬─────────┐\n",
       "│ subject_id │ stay_id  │      charttime      │ o2_flow │\n",
       "│   int32    │  int32   │      timestamp      │ double  │\n",
       "├────────────┼──────────┼─────────────────────┼─────────┤\n",
       "│   10000032 │ 39553978 │ 2180-07-23 14:20:00 │     2.0 │\n",
       "│   10000032 │ 39553978 │ 2180-07-23 18:00:00 │     2.0 │\n",
       "│   10000032 │ 39553978 │ 2180-07-23 20:00:00 │     2.0 │\n",
       "│   10000980 │ 39765666 │ 2189-06-27 10:00:00 │     3.0 │\n",
       "│   10001217 │ 37067082 │ 2157-11-20 19:47:00 │     2.0 │\n",
       "│   10001217 │ 37067082 │ 2157-11-20 22:00:00 │     2.0 │\n",
       "│   10001217 │ 37067082 │ 2157-11-21 00:00:00 │     2.0 │\n",
       "│   10001217 │ 37067082 │ 2157-11-21 02:00:00 │     2.0 │\n",
       "│   10001217 │ 37067082 │ 2157-11-21 08:00:00 │     2.0 │\n",
       "│   10001217 │ 37067082 │ 2157-11-21 18:00:00 │     3.0 │\n",
       "│       ·    │     ·    │          ·          │      ·  │\n",
       "│       ·    │     ·    │          ·          │      ·  │\n",
       "│       ·    │     ·    │          ·          │      ·  │\n",
       "│   10269842 │ 35288254 │ 2147-02-25 00:00:00 │     4.0 │\n",
       "│   10269842 │ 35288254 │ 2147-02-25 04:00:00 │     4.0 │\n",
       "│   10269842 │ 35288254 │ 2147-02-25 10:00:00 │     4.0 │\n",
       "│   10269842 │ 35288254 │ 2147-02-25 12:39:00 │     2.0 │\n",
       "│   10270170 │ 32662650 │ 2175-01-09 10:00:00 │     4.0 │\n",
       "│   10270170 │ 32662650 │ 2175-01-09 13:00:00 │     2.0 │\n",
       "│   10270200 │ 33554322 │ 2122-01-26 07:57:00 │     1.0 │\n",
       "│   10270200 │ 33554322 │ 2122-01-26 08:00:00 │     1.0 │\n",
       "│   10270200 │ 33554322 │ 2122-01-26 21:00:00 │     2.0 │\n",
       "│   10270200 │ 33554322 │ 2122-01-27 04:00:00 │     2.0 │\n",
       "├────────────┴──────────┴─────────────────────┴─────────┤\n",
       "│ ? rows (>9999 rows, 20 shown)               4 columns │\n",
       "└───────────────────────────────────────────────────────┘"
      ]
     },
     "execution_count": 8,
     "metadata": {},
     "output_type": "execute_result"
    }
   ],
   "execution_count": 8
  },
  {
   "metadata": {
    "ExecuteTime": {
     "end_time": "2024-09-08T23:36:26.814128Z",
     "start_time": "2024-09-08T23:36:26.812747Z"
    }
   },
   "cell_type": "code",
   "source": "",
   "id": "aec8f4b40e569081",
   "outputs": [],
   "execution_count": null
  },
  {
   "metadata": {
    "ExecuteTime": {
     "end_time": "2024-09-08T23:36:28.898467Z",
     "start_time": "2024-09-08T23:36:28.612999Z"
    }
   },
   "cell_type": "code",
   "source": [
    "patient_with_o2_data = duckdb.sql(\"\"\"\n",
    "SELECT * FROM patient_with_index_period AS pwi \n",
    "WHERE EXISTS( SELECT 1 FROM nasal_canula_o2_flow AS nco WHERE pwi.stay_id = nco.stay_id AND nco.charttime BETWEEN pwi.ip_starttime AND pwi.ip_endtime)\n",
    "\"\"\")\n",
    "patient_with_o2_data"
   ],
   "id": "38704984c55294c9",
   "outputs": [
    {
     "data": {
      "text/plain": [
       "┌────────────┬──────────┬─────────┬───┬─────────────────────┬─────────────────────┬─────────────────┐\n",
       "│ subject_id │ stay_id  │ gender  │ … │     ip_endtime      │       inttime       │    int_type     │\n",
       "│   int32    │  int32   │ varchar │   │      timestamp      │      timestamp      │     varchar     │\n",
       "├────────────┼──────────┼─────────┼───┼─────────────────────┼─────────────────────┼─────────────────┤\n",
       "│   10103795 │ 31411464 │ M       │ … │ 2176-07-06 16:56:00 │ 2176-07-09 22:00:00 │ Tracheostomy    │\n",
       "│   10119017 │ 31009936 │ M       │ … │ 2159-08-13 15:00:00 │ 2159-08-13 15:00:00 │ HFNC            │\n",
       "│   10259667 │ 35629197 │ M       │ … │ 2171-04-21 00:00:00 │ 2171-04-21 00:00:00 │ NonInvasiveVent │\n",
       "│   10005606 │ 38740124 │ M       │ … │ 2143-12-11 00:54:00 │ NULL                │ NULL            │\n",
       "│   10026868 │ 31030669 │ M       │ … │ 2149-10-30 14:42:00 │ NULL                │ NULL            │\n",
       "│   10027704 │ 36187473 │ M       │ … │ 2149-04-08 10:39:00 │ NULL                │ NULL            │\n",
       "│   10029514 │ 39053313 │ M       │ … │ 2112-10-10 21:58:00 │ NULL                │ NULL            │\n",
       "│   10035787 │ 36110350 │ M       │ … │ 2115-06-10 16:27:00 │ NULL                │ NULL            │\n",
       "│   10046234 │ 32902460 │ M       │ … │ 2166-05-01 19:02:00 │ NULL                │ NULL            │\n",
       "│   10047172 │ 34369439 │ M       │ … │ 2163-06-20 01:28:00 │ NULL                │ NULL            │\n",
       "│       ·    │     ·    │ ·       │ · │          ·          │  ·                  │  ·              │\n",
       "│       ·    │     ·    │ ·       │ · │          ·          │  ·                  │  ·              │\n",
       "│       ·    │     ·    │ ·       │ · │          ·          │  ·                  │  ·              │\n",
       "│   15499728 │ 34918510 │ F       │ … │ 2187-02-21 20:25:00 │ NULL                │ NULL            │\n",
       "│   15511885 │ 35256136 │ M       │ … │ 2151-06-02 00:00:00 │ NULL                │ NULL            │\n",
       "│   15515859 │ 32210639 │ F       │ … │ 2195-10-12 22:40:00 │ NULL                │ NULL            │\n",
       "│   15518132 │ 30843535 │ M       │ … │ 2126-09-30 14:00:00 │ NULL                │ NULL            │\n",
       "│   15525793 │ 36456437 │ F       │ … │ 2206-09-16 17:02:00 │ NULL                │ NULL            │\n",
       "│   15533391 │ 34816382 │ F       │ … │ 2150-12-28 13:45:00 │ NULL                │ NULL            │\n",
       "│   15537368 │ 31900409 │ F       │ … │ 2135-12-31 02:50:00 │ NULL                │ NULL            │\n",
       "│   15539774 │ 37513850 │ M       │ … │ 2158-06-14 15:48:00 │ NULL                │ NULL            │\n",
       "│   15553160 │ 31226132 │ M       │ … │ 2132-04-17 16:27:00 │ NULL                │ NULL            │\n",
       "│   15567573 │ 31047714 │ M       │ … │ 2180-05-02 17:37:00 │ NULL                │ NULL            │\n",
       "├────────────┴──────────┴─────────┴───┴─────────────────────┴─────────────────────┴─────────────────┤\n",
       "│ ? rows (>9999 rows, 20 shown)                                                 8 columns (6 shown) │\n",
       "└───────────────────────────────────────────────────────────────────────────────────────────────────┘"
      ]
     },
     "execution_count": 9,
     "metadata": {},
     "output_type": "execute_result"
    }
   ],
   "execution_count": 9
  },
  {
   "metadata": {
    "ExecuteTime": {
     "end_time": "2024-09-08T23:36:31.703143Z",
     "start_time": "2024-09-08T23:36:31.443733Z"
    }
   },
   "cell_type": "code",
   "source": [
    "# Initial cohort from the paper: 25,340\n",
    "patient_with_o2_data.count(\"*\")"
   ],
   "id": "bccd2f8275e5f4b2",
   "outputs": [
    {
     "data": {
      "text/plain": [
       "┌──────────────┐\n",
       "│ count_star() │\n",
       "│    int64     │\n",
       "├──────────────┤\n",
       "│        28942 │\n",
       "└──────────────┘"
      ]
     },
     "execution_count": 10,
     "metadata": {},
     "output_type": "execute_result"
    }
   ],
   "execution_count": 10
  },
  {
   "metadata": {
    "ExecuteTime": {
     "end_time": "2024-09-08T23:36:34.549038Z",
     "start_time": "2024-09-08T23:36:34.282419Z"
    }
   },
   "cell_type": "code",
   "source": [
    "patient_with_race = duckdb.sql(\"\"\"\n",
    "WITH patients AS (\n",
    "    SELECT *,\n",
    "    CASE\n",
    "        WHEN ethnicity LIKE 'ASIAN%' THEN 'ASIAN'\n",
    "        WHEN ethnicity LIKE 'BLACK%' THEN 'BLACK'\n",
    "        WHEN ethnicity LIKE 'WHITE%' THEN 'WHITE'\n",
    "        WHEN ethnicity LIKE 'HISPANIC%' THEN 'HISPANIC'\n",
    "        END AS race_category\n",
    "    FROM patient_with_o2_data)\n",
    "SELECT subject_id, stay_id, race_category, gender, ip_starttime, ip_endtime  FROM patients WHERE race_category IS NOT NULL\n",
    "\"\"\")\n",
    "patient_with_race"
   ],
   "id": "341a3fce8a6af209",
   "outputs": [
    {
     "data": {
      "text/plain": [
       "┌────────────┬──────────┬───────────────┬─────────┬─────────────────────┬─────────────────────┐\n",
       "│ subject_id │ stay_id  │ race_category │ gender  │    ip_starttime     │     ip_endtime      │\n",
       "│   int32    │  int32   │    varchar    │ varchar │      timestamp      │      timestamp      │\n",
       "├────────────┼──────────┼───────────────┼─────────┼─────────────────────┼─────────────────────┤\n",
       "│   10103795 │ 31411464 │ WHITE         │ M       │ 2176-07-01 16:56:00 │ 2176-07-06 16:56:00 │\n",
       "│   10119017 │ 31009936 │ ASIAN         │ M       │ 2159-08-10 23:55:00 │ 2159-08-13 15:00:00 │\n",
       "│   10259667 │ 35629197 │ WHITE         │ M       │ 2171-04-18 12:35:00 │ 2171-04-21 00:00:00 │\n",
       "│   10005606 │ 38740124 │ WHITE         │ M       │ 2143-12-06 00:54:00 │ 2143-12-11 00:54:00 │\n",
       "│   10026868 │ 31030669 │ WHITE         │ M       │ 2149-10-25 14:42:00 │ 2149-10-30 14:42:00 │\n",
       "│   10027704 │ 36187473 │ WHITE         │ M       │ 2149-04-03 10:39:00 │ 2149-04-08 10:39:00 │\n",
       "│   10035787 │ 36110350 │ WHITE         │ M       │ 2115-06-06 00:00:00 │ 2115-06-10 16:27:00 │\n",
       "│   10046234 │ 32902460 │ WHITE         │ M       │ 2166-04-26 19:02:00 │ 2166-05-01 19:02:00 │\n",
       "│   10047172 │ 34369439 │ WHITE         │ M       │ 2163-06-15 01:28:00 │ 2163-06-20 01:28:00 │\n",
       "│   10048001 │ 31975834 │ WHITE         │ M       │ 2175-02-05 00:14:00 │ 2175-02-10 00:14:00 │\n",
       "│       ·    │     ·    │   ·           │ ·       │          ·          │          ·          │\n",
       "│       ·    │     ·    │   ·           │ ·       │          ·          │          ·          │\n",
       "│       ·    │     ·    │   ·           │ ·       │          ·          │          ·          │\n",
       "│   16147935 │ 35318623 │ BLACK         │ F       │ 2142-09-18 18:57:00 │ 2142-09-23 18:57:00 │\n",
       "│   16154215 │ 31414281 │ WHITE         │ M       │ 2185-02-26 16:38:00 │ 2185-03-03 16:38:00 │\n",
       "│   16157095 │ 31268865 │ WHITE         │ F       │ 2144-03-03 00:00:00 │ 2144-03-04 14:07:00 │\n",
       "│   16175493 │ 39644183 │ BLACK         │ F       │ 2131-03-04 20:29:00 │ 2131-03-09 20:29:00 │\n",
       "│   16178321 │ 39286106 │ WHITE         │ M       │ 2161-04-08 01:11:00 │ 2161-04-09 18:30:00 │\n",
       "│   16179049 │ 31683355 │ WHITE         │ M       │ 2141-11-19 21:35:00 │ 2141-11-22 21:51:00 │\n",
       "│   16193188 │ 38900173 │ WHITE         │ M       │ 2153-09-27 16:41:00 │ 2153-09-28 16:00:00 │\n",
       "│   16198992 │ 30116733 │ WHITE         │ M       │ 2168-03-23 22:54:00 │ 2168-03-28 16:19:00 │\n",
       "│   16203033 │ 30572338 │ WHITE         │ F       │ 2137-02-08 18:53:00 │ 2137-02-12 15:53:00 │\n",
       "│   16203314 │ 39253734 │ WHITE         │ M       │ 2201-06-19 00:35:00 │ 2201-06-24 00:35:00 │\n",
       "├────────────┴──────────┴───────────────┴─────────┴─────────────────────┴─────────────────────┤\n",
       "│ ? rows (>9999 rows, 20 shown)                                                     6 columns │\n",
       "└─────────────────────────────────────────────────────────────────────────────────────────────┘"
      ]
     },
     "execution_count": 11,
     "metadata": {},
     "output_type": "execute_result"
    }
   ],
   "execution_count": 11
  },
  {
   "metadata": {
    "ExecuteTime": {
     "end_time": "2024-09-08T23:36:38.138329Z",
     "start_time": "2024-09-08T23:36:37.879006Z"
    }
   },
   "cell_type": "code",
   "source": [
    "# Patients with documented rare/enthnicity by race\n",
    "duckdb.sql(\"\"\"\n",
    "SELECT race_category, COUNT(*) FROM patient_with_race \n",
    "GROUP BY race_category\n",
    "\"\"\")"
   ],
   "id": "bb9e344d1369dc29",
   "outputs": [
    {
     "data": {
      "text/plain": [
       "┌───────────────┬──────────────┐\n",
       "│ race_category │ count_star() │\n",
       "│    varchar    │    int64     │\n",
       "├───────────────┼──────────────┤\n",
       "│ HISPANIC      │          915 │\n",
       "│ BLACK         │         2259 │\n",
       "│ WHITE         │        20496 │\n",
       "│ ASIAN         │          738 │\n",
       "└───────────────┴──────────────┘"
      ]
     },
     "execution_count": 12,
     "metadata": {},
     "output_type": "execute_result"
    }
   ],
   "execution_count": 12
  },
  {
   "metadata": {
    "ExecuteTime": {
     "end_time": "2024-09-08T23:36:41.732396Z",
     "start_time": "2024-09-08T23:36:41.459034Z"
    }
   },
   "cell_type": "code",
   "source": [
    "reading_o2_flow = duckdb.sql(\"\"\"\n",
    "SELECT pwr.subject_id, od.charttime as chart_time, od.o2_flow FROM patient_with_index_period AS pwr\n",
    "JOIN nasal_canula_o2_flow AS od ON  pwr.stay_id = od.stay_id\n",
    "WHERE od.charttime BETWEEN pwr.ip_starttime AND pwr.ip_endtime AND od.o2_flow IS NOT NULL\n",
    "ORDER BY pwr.subject_id, od.charttime\n",
    "\"\"\")\n",
    "reading_o2_flow"
   ],
   "id": "333733e34d2fac93",
   "outputs": [
    {
     "data": {
      "text/plain": [
       "┌────────────┬─────────────────────┬─────────┐\n",
       "│ subject_id │     chart_time      │ o2_flow │\n",
       "│   int32    │      timestamp      │ double  │\n",
       "├────────────┼─────────────────────┼─────────┤\n",
       "│   10000032 │ 2180-07-23 14:20:00 │     2.0 │\n",
       "│   10000032 │ 2180-07-23 18:00:00 │     2.0 │\n",
       "│   10000032 │ 2180-07-23 20:00:00 │     2.0 │\n",
       "│   10000980 │ 2189-06-27 10:00:00 │     3.0 │\n",
       "│   10001217 │ 2157-11-20 19:47:00 │     2.0 │\n",
       "│   10001217 │ 2157-11-20 22:00:00 │     2.0 │\n",
       "│   10001217 │ 2157-11-21 00:00:00 │     2.0 │\n",
       "│   10001217 │ 2157-11-21 02:00:00 │     2.0 │\n",
       "│   10001217 │ 2157-11-21 08:00:00 │     2.0 │\n",
       "│   10001217 │ 2157-11-21 18:00:00 │     3.0 │\n",
       "│       ·    │          ·          │      ·  │\n",
       "│       ·    │          ·          │      ·  │\n",
       "│       ·    │          ·          │      ·  │\n",
       "│   10524082 │ 2130-06-26 12:00:00 │     2.0 │\n",
       "│   10524082 │ 2130-06-26 16:00:00 │     2.0 │\n",
       "│   10524082 │ 2130-06-26 20:00:00 │     2.0 │\n",
       "│   10524082 │ 2130-06-26 21:00:00 │     4.0 │\n",
       "│   10524082 │ 2130-06-27 20:00:00 │     2.0 │\n",
       "│   10524082 │ 2130-06-28 00:00:00 │     2.0 │\n",
       "│   10524082 │ 2130-06-28 04:00:00 │     2.0 │\n",
       "│   10524207 │ 2155-10-12 21:00:00 │     3.0 │\n",
       "│   10524207 │ 2155-10-13 00:00:00 │     3.0 │\n",
       "│   10524207 │ 2155-10-13 05:00:00 │     3.0 │\n",
       "├────────────┴─────────────────────┴─────────┤\n",
       "│ ? rows (>9999 rows, 20 shown)    3 columns │\n",
       "└────────────────────────────────────────────┘"
      ]
     },
     "execution_count": 13,
     "metadata": {},
     "output_type": "execute_result"
    }
   ],
   "execution_count": 13
  },
  {
   "metadata": {},
   "cell_type": "markdown",
   "source": "### Sp02",
   "id": "b8b2e7f63e74d192"
  },
  {
   "metadata": {
    "ExecuteTime": {
     "end_time": "2024-09-08T23:36:46.484871Z",
     "start_time": "2024-09-08T23:36:45.873004Z"
    }
   },
   "cell_type": "code",
   "source": [
    "reading_spo2 = duckdb.sql(\"\"\"\n",
    "SELECT pwr.subject_id, vs.charttime as chart_time, vs.spo2 FROM patient_with_index_period AS pwr\n",
    "JOIN mimiciv_derived.vitalsign AS vs ON  pwr.stay_id = vs.stay_id\n",
    "WHERE vs.charttime BETWEEN pwr.ip_starttime AND pwr.ip_endtime AND vs.spo2 IS NOT NULL\n",
    "ORDER BY pwr.subject_id, vs.charttime\n",
    "\"\"\")\n",
    "reading_spo2"
   ],
   "id": "83a7067d7c69214c",
   "outputs": [
    {
     "data": {
      "text/plain": [
       "┌────────────┬─────────────────────┬────────┐\n",
       "│ subject_id │     chart_time      │  spo2  │\n",
       "│   int32    │      timestamp      │ double │\n",
       "├────────────┼─────────────────────┼────────┤\n",
       "│   10000032 │ 2180-07-23 14:13:00 │   98.0 │\n",
       "│   10000032 │ 2180-07-23 14:30:00 │   97.0 │\n",
       "│   10000032 │ 2180-07-23 15:00:00 │   97.0 │\n",
       "│   10000032 │ 2180-07-23 16:00:00 │   94.0 │\n",
       "│   10000032 │ 2180-07-23 17:00:00 │   95.0 │\n",
       "│   10000032 │ 2180-07-23 18:00:00 │   95.0 │\n",
       "│   10000032 │ 2180-07-23 19:00:00 │   98.0 │\n",
       "│   10000032 │ 2180-07-23 20:00:00 │   99.0 │\n",
       "│   10000032 │ 2180-07-23 21:00:00 │   95.0 │\n",
       "│   10000032 │ 2180-07-23 22:00:00 │   95.0 │\n",
       "│       ·    │          ·          │     ·  │\n",
       "│       ·    │          ·          │     ·  │\n",
       "│       ·    │          ·          │     ·  │\n",
       "│   10035185 │ 2120-05-14 02:00:00 │   98.0 │\n",
       "│   10035185 │ 2120-05-14 03:00:00 │   98.0 │\n",
       "│   10035185 │ 2120-05-14 04:00:00 │   98.0 │\n",
       "│   10035185 │ 2120-05-14 05:00:00 │   98.0 │\n",
       "│   10035185 │ 2120-05-14 06:00:00 │   98.0 │\n",
       "│   10035185 │ 2120-05-14 07:00:00 │   99.0 │\n",
       "│   10035185 │ 2120-05-14 08:00:00 │   99.0 │\n",
       "│   10035185 │ 2120-05-14 09:00:00 │   98.0 │\n",
       "│   10035185 │ 2120-05-14 10:00:00 │   99.0 │\n",
       "│   10035185 │ 2120-05-14 11:00:00 │   99.0 │\n",
       "├────────────┴─────────────────────┴────────┤\n",
       "│ ? rows (>9999 rows, 20 shown)   3 columns │\n",
       "└───────────────────────────────────────────┘"
      ]
     },
     "execution_count": 14,
     "metadata": {},
     "output_type": "execute_result"
    }
   ],
   "execution_count": 14
  },
  {
   "metadata": {
    "ExecuteTime": {
     "end_time": "2024-09-08T23:36:52.811430Z",
     "start_time": "2024-09-08T23:36:52.558493Z"
    }
   },
   "cell_type": "code",
   "source": [
    "reading_so2 = duckdb.sql(\"\"\"\n",
    "SELECT pwr.subject_id, bg.charttime as chart_time, bg.so2 FROM patient_with_index_period AS pwr\n",
    "JOIN mimiciv_derived.bg AS bg ON  pwr.subject_id = bg.subject_id\n",
    "WHERE bg.charttime BETWEEN pwr.ip_starttime AND pwr.ip_endtime AND bg.so2 IS NOT NULL AND bg.specimen = 'ART.'\n",
    "ORDER BY pwr.subject_id, bg.charttime\n",
    "\"\"\")\n",
    "reading_so2"
   ],
   "id": "eee4188b9a27ad1f",
   "outputs": [
    {
     "data": {
      "text/plain": [
       "┌────────────┬─────────────────────┬────────┐\n",
       "│ subject_id │     chart_time      │  so2   │\n",
       "│   int32    │      timestamp      │ double │\n",
       "├────────────┼─────────────────────┼────────┤\n",
       "│   10002013 │ 2160-05-18 16:03:00 │   99.0 │\n",
       "│   10002013 │ 2160-05-18 17:42:00 │   96.0 │\n",
       "│   10002013 │ 2160-05-18 21:32:00 │   97.0 │\n",
       "│   10002155 │ 2129-08-05 07:48:00 │   94.0 │\n",
       "│   10002443 │ 2183-10-18 02:35:00 │   90.0 │\n",
       "│   10002760 │ 2141-04-20 16:10:00 │   97.0 │\n",
       "│   10002760 │ 2141-04-20 18:18:00 │   99.0 │\n",
       "│   10002760 │ 2141-04-21 02:04:00 │   99.0 │\n",
       "│   10002760 │ 2141-04-21 04:03:00 │   99.0 │\n",
       "│   10002760 │ 2141-04-21 06:04:00 │   98.0 │\n",
       "│       ·    │          ·          │     ·  │\n",
       "│       ·    │          ·          │     ·  │\n",
       "│       ·    │          ·          │     ·  │\n",
       "│   12412126 │ 2117-10-16 12:22:00 │   99.0 │\n",
       "│   12412126 │ 2117-10-16 15:11:00 │   99.0 │\n",
       "│   12412595 │ 2111-01-07 09:58:00 │   97.0 │\n",
       "│   12412595 │ 2111-01-07 10:56:00 │   97.0 │\n",
       "│   12413618 │ 2187-03-03 20:13:00 │   98.0 │\n",
       "│   12413618 │ 2187-03-03 22:05:00 │   98.0 │\n",
       "│   12413618 │ 2187-03-04 02:21:00 │   98.0 │\n",
       "│   12413618 │ 2187-03-04 05:33:00 │   98.0 │\n",
       "│   12413618 │ 2187-03-05 06:18:00 │   98.0 │\n",
       "│   12413618 │ 2187-03-05 13:32:00 │   97.0 │\n",
       "├────────────┴─────────────────────┴────────┤\n",
       "│ ? rows (>9999 rows, 20 shown)   3 columns │\n",
       "└───────────────────────────────────────────┘"
      ]
     },
     "execution_count": 15,
     "metadata": {},
     "output_type": "execute_result"
    }
   ],
   "execution_count": 15
  },
  {
   "metadata": {},
   "cell_type": "markdown",
   "source": "## Perform final extract",
   "id": "8424c8d886752c6d"
  },
  {
   "metadata": {
    "ExecuteTime": {
     "end_time": "2024-09-08T23:37:00.958750Z",
     "start_time": "2024-09-08T23:36:59.691157Z"
    }
   },
   "cell_type": "code",
   "source": [
    "coh_subject = duckdb.sql(\"\"\"\n",
    "SELECT subject_id, gender, race_category FROM patient_with_race AS pwr\n",
    "WHERE \n",
    "    EXISTS( SELECT 1 FROM reading_o2_flow AS rof WHERE pwr.subject_id = rof.subject_id)\n",
    "    AND EXISTS( SELECT 1 FROM reading_spo2 AS rs WHERE pwr.subject_id = rs.subject_id)\n",
    "    AND EXISTS( SELECT 1 FROM reading_so2 AS rso WHERE pwr.subject_id = rso.subject_id)\n",
    "\"\"\")\n",
    "coh_subject"
   ],
   "id": "ed0647389feb98e2",
   "outputs": [
    {
     "data": {
      "text/plain": [
       "┌────────────┬─────────┬───────────────┐\n",
       "│ subject_id │ gender  │ race_category │\n",
       "│   int32    │ varchar │    varchar    │\n",
       "├────────────┼─────────┼───────────────┤\n",
       "│   10746848 │ F       │ WHITE         │\n",
       "│   11124859 │ M       │ WHITE         │\n",
       "│   11236474 │ F       │ BLACK         │\n",
       "│   12538134 │ F       │ ASIAN         │\n",
       "│   13299872 │ F       │ WHITE         │\n",
       "│   13678296 │ M       │ WHITE         │\n",
       "│   14393652 │ M       │ WHITE         │\n",
       "│   15583708 │ M       │ WHITE         │\n",
       "│   16003671 │ M       │ HISPANIC      │\n",
       "│   16979799 │ M       │ WHITE         │\n",
       "│       ·    │ ·       │   ·           │\n",
       "│       ·    │ ·       │   ·           │\n",
       "│       ·    │ ·       │   ·           │\n",
       "│   15588339 │ M       │ WHITE         │\n",
       "│   15921116 │ M       │ WHITE         │\n",
       "│   15942459 │ F       │ WHITE         │\n",
       "│   15968932 │ M       │ WHITE         │\n",
       "│   16297202 │ M       │ WHITE         │\n",
       "│   17841897 │ M       │ WHITE         │\n",
       "│   17902431 │ M       │ WHITE         │\n",
       "│   18483313 │ F       │ WHITE         │\n",
       "│   18782148 │ M       │ WHITE         │\n",
       "│   18871604 │ M       │ BLACK         │\n",
       "├────────────┴─────────┴───────────────┤\n",
       "│ 6824 rows (20 shown)       3 columns │\n",
       "└──────────────────────────────────────┘"
      ]
     },
     "execution_count": 16,
     "metadata": {},
     "output_type": "execute_result"
    }
   ],
   "execution_count": 16
  },
  {
   "metadata": {
    "ExecuteTime": {
     "end_time": "2024-09-08T23:37:12.897685Z",
     "start_time": "2024-09-08T23:37:11.657584Z"
    }
   },
   "cell_type": "code",
   "source": [
    "duckdb.sql(\"\"\"\n",
    "SELECT race_category, COUNT(*) FROM coh_subject GROUP BY  race_category\n",
    "\"\"\")"
   ],
   "id": "ffe3ee8dc9bfd6d7",
   "outputs": [
    {
     "data": {
      "text/plain": [
       "┌───────────────┬──────────────┐\n",
       "│ race_category │ count_star() │\n",
       "│    varchar    │    int64     │\n",
       "├───────────────┼──────────────┤\n",
       "│ HISPANIC      │          231 │\n",
       "│ BLACK         │          482 │\n",
       "│ WHITE         │         5904 │\n",
       "│ ASIAN         │          207 │\n",
       "└───────────────┴──────────────┘"
      ]
     },
     "execution_count": 17,
     "metadata": {},
     "output_type": "execute_result"
    }
   ],
   "execution_count": 17
  },
  {
   "metadata": {
    "ExecuteTime": {
     "end_time": "2024-09-08T23:37:23.626056Z",
     "start_time": "2024-09-08T23:37:23.584742Z"
    }
   },
   "cell_type": "code",
   "source": [
    "coh_reading_o2_flow = duckdb.sql(\"\"\"\n",
    "SELECT * FROM reading_o2_flow AS rd WHERE EXISTS( SELECT 1 FROM coh_subject AS cs WHERE rd.subject_id = cs.subject_id)\n",
    "\"\"\")\n",
    "coh_reading_spo2 = duckdb.sql(\"\"\"\n",
    "SELECT * FROM reading_spo2 AS rd WHERE EXISTS( SELECT 1 FROM coh_subject AS cs WHERE rd.subject_id = cs.subject_id)\n",
    "\"\"\")\n",
    "coh_reading_so2 = duckdb.sql(\"\"\"\n",
    "SELECT * FROM reading_so2 AS rd WHERE EXISTS( SELECT 1 FROM coh_subject AS cs WHERE rd.subject_id = cs.subject_id)\n",
    "\"\"\")"
   ],
   "id": "6fd5607d4d4f8ff0",
   "outputs": [],
   "execution_count": 18
  },
  {
   "metadata": {},
   "cell_type": "markdown",
   "source": "### Save the extreact to cvs",
   "id": "32cbc1affd19e620"
  },
  {
   "metadata": {
    "ExecuteTime": {
     "end_time": "2024-09-08T23:38:00.603003Z",
     "start_time": "2024-09-08T23:37:54.320033Z"
    }
   },
   "cell_type": "code",
   "source": [
    "coh_subject.to_csv('../data/psql_mimic-2.2/subject.csv')\n",
    "coh_reading_o2_flow.to_csv('../data/psql_mimic-2.2/reading_o2_flow.csv')\n",
    "coh_reading_spo2.to_csv('../data/psql_mimic-2.2/reading_spo2.csv')\n",
    "coh_reading_so2.to_csv('../data/psql_mimic-2.2/reading_so2.csv')"
   ],
   "id": "e2868963d334de86",
   "outputs": [],
   "execution_count": 19
  },
  {
   "metadata": {
    "ExecuteTime": {
     "end_time": "2024-09-08T23:38:28.058374Z",
     "start_time": "2024-09-08T23:38:28.057237Z"
    }
   },
   "cell_type": "code",
   "source": "",
   "id": "d117d63cf21ca655",
   "outputs": [],
   "execution_count": null
  }
 ],
 "metadata": {
  "kernelspec": {
   "display_name": "Python 3",
   "language": "python",
   "name": "python3"
  },
  "language_info": {
   "codemirror_mode": {
    "name": "ipython",
    "version": 2
   },
   "file_extension": ".py",
   "mimetype": "text/x-python",
   "name": "python",
   "nbconvert_exporter": "python",
   "pygments_lexer": "ipython2",
   "version": "2.7.6"
  }
 },
 "nbformat": 4,
 "nbformat_minor": 5
}
