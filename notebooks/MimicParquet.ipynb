{
 "cells": [
  {
   "cell_type": "code",
   "id": "initial_id",
   "metadata": {
    "collapsed": true,
    "ExecuteTime": {
     "end_time": "2024-09-02T07:01:25.709339Z",
     "start_time": "2024-09-02T07:01:25.702578Z"
    }
   },
   "source": [
    "import duckdb\n",
    "#duckdb.sql(\"ATTACH 'dbname=mimic4 user=szu004' AS db (TYPE POSTGRES, READ_ONLY)\")\n",
    "#duckdb.sql(\"USE db\")\n",
    "duckdb.sql(\"\"\"\n",
    "CREATE SCHEMA  IF NOT EXISTS mimiciv_derived;\n",
    "USE mimiciv_derived;\n",
    "CREATE TABLE icustay_detail AS SELECT * FROM read_parquet('../_data/mimic_derrived/icustay_detail.parquet/*.parquet');\n",
    "\"\"\")"
   ],
   "outputs": [],
   "execution_count": 11
  },
  {
   "metadata": {
    "ExecuteTime": {
     "end_time": "2024-09-02T07:01:29.544677Z",
     "start_time": "2024-09-02T07:01:29.523971Z"
    }
   },
   "cell_type": "code",
   "source": [
    "# ALL ICU stays (paper reports 765,40)\n",
    "duckdb.sql(\"SELECT COUNT(*) as icu_stay_count FROM mimiciv_derived.icustay_detail\")"
   ],
   "id": "8ae337447f0cc273",
   "outputs": [
    {
     "data": {
      "text/plain": [
       "┌────────────────┐\n",
       "│ icu_stay_count │\n",
       "│     int64      │\n",
       "├────────────────┤\n",
       "│            140 │\n",
       "└────────────────┘"
      ]
     },
     "execution_count": 12,
     "metadata": {},
     "output_type": "execute_result"
    }
   ],
   "execution_count": 12
  },
  {
   "metadata": {
    "ExecuteTime": {
     "end_time": "2024-09-02T07:01:38.205215Z",
     "start_time": "2024-09-02T07:01:38.192791Z"
    }
   },
   "cell_type": "code",
   "source": [
    "# ALL Unique Patients (paper reports 53,150)\n",
    "duckdb.sql(\"SELECT COUNT(DISTINCT subject_id) as patient_count FROM mimiciv_derived.icustay_detail\")"
   ],
   "id": "b3b2a30eaec41489",
   "outputs": [
    {
     "data": {
      "text/plain": [
       "┌───────────────┐\n",
       "│ patient_count │\n",
       "│     int64     │\n",
       "├───────────────┤\n",
       "│           100 │\n",
       "└───────────────┘"
      ]
     },
     "execution_count": 13,
     "metadata": {},
     "output_type": "execute_result"
    }
   ],
   "execution_count": 13
  },
  {
   "metadata": {
    "ExecuteTime": {
     "end_time": "2024-09-02T07:02:23.885531Z",
     "start_time": "2024-09-02T07:02:23.873706Z"
    }
   },
   "cell_type": "code",
   "source": [
    "# Patients with documented enthicity\n",
    "duckdb.sql(\"\"\"\n",
    "WITH patients AS (\n",
    "    SELECT subject_id,\n",
    "    CASE\n",
    "        WHEN race LIKE 'ASIAN%' THEN 'ASIAN'\n",
    "        WHEN race LIKE 'BLACK%' THEN 'BLACK'\n",
    "        WHEN race LIKE 'WHITE%' THEN 'WHITE'\n",
    "        WHEN race LIKE 'HISPANIC%' THEN 'HISPANIC'\n",
    "        ELSE 'UNKNOWN'\n",
    "        END AS race_category\n",
    "    FROM mimiciv_derived.icustay_detail WHERE icustay_seq = 1)\n",
    "SELECT race_category, COUNT(*) as patient_count FROM patients WHERE RACE_CATEGORY != 'UNKNOWN' GROUP BY race_category ORDER BY race_category\n",
    "\"\"\")"
   ],
   "id": "e547be6390932c2f",
   "outputs": [
    {
     "data": {
      "text/plain": [
       "┌───────────────┬───────────────┐\n",
       "│ race_category │ patient_count │\n",
       "│    varchar    │     int64     │\n",
       "├───────────────┼───────────────┤\n",
       "│ BLACK         │            17 │\n",
       "│ WHITE         │           102 │\n",
       "└───────────────┴───────────────┘"
      ]
     },
     "execution_count": 15,
     "metadata": {},
     "output_type": "execute_result"
    }
   ],
   "execution_count": 15
  },
  {
   "metadata": {
    "ExecuteTime": {
     "end_time": "2024-09-02T07:02:51.095955Z",
     "start_time": "2024-09-02T07:02:51.082588Z"
    }
   },
   "cell_type": "code",
   "source": [
    "patient_with_race = duckdb.sql(\"\"\"\n",
    "WITH patients AS (\n",
    "    SELECT *,\n",
    "    CASE\n",
    "        WHEN race LIKE 'ASIAN%' THEN 'ASIAN'\n",
    "        WHEN race LIKE 'BLACK%' THEN 'BLACK'\n",
    "        WHEN race LIKE 'WHITE%' THEN 'WHITE'\n",
    "        WHEN race LIKE 'HISPANIC%' THEN 'HISPANIC'\n",
    "        END AS race_category\n",
    "    FROM mimiciv_derived.icustay_detail WHERE icustay_seq = 1)\n",
    "SELECT subject_id, stay_id, icu_intime, icu_outtime, race_category  FROM patients WHERE race_category IS NOT NULL\n",
    "\"\"\")\n",
    "patient_with_race"
   ],
   "id": "341a3fce8a6af209",
   "outputs": [
    {
     "data": {
      "text/plain": [
       "┌──────────────────────┬───────────────────────────────────┬─────────────────────┬─────────────────────┬───────────────┐\n",
       "│      subject_id      │              stay_id              │     icu_intime      │     icu_outtime     │ race_category │\n",
       "│       varchar        │              varchar              │      timestamp      │      timestamp      │    varchar    │\n",
       "├──────────────────────┼───────────────────────────────────┼─────────────────────┼─────────────────────┼───────────────┤\n",
       "│ Patient/0a8eebfd-a…  │ Encounter/18f74cab-e07d-5ca6-98…  │ 2180-07-23 14:00:00 │ 2180-07-23 23:50:47 │ WHITE         │\n",
       "│ Patient/0c2243d2-9…  │ Encounter/31c84afa-feb0-5634-95…  │ 2149-10-02 12:48:08 │ 2149-10-04 17:48:36 │ WHITE         │\n",
       "│ Patient/13df78e7-1…  │ Encounter/a50796c8-9e4a-5272-85…  │ 2177-03-15 05:49:26 │ 2177-03-15 22:47:09 │ WHITE         │\n",
       "│ Patient/158f3a39-e…  │ Encounter/497d61a0-1f48-5229-ac…  │ 2144-10-29 23:09:03 │ 2144-11-02 15:24:29 │ WHITE         │\n",
       "│ Patient/1ab119a5-a…  │ Encounter/13a20e28-a0e6-5a15-82…  │ 2148-09-10 13:19:00 │ 2148-09-15 21:50:29 │ WHITE         │\n",
       "│ Patient/1bb918ba-e…  │ Encounter/c0229b65-f599-5108-b1…  │ 2143-03-22 06:42:00 │ 2143-03-25 15:05:33 │ BLACK         │\n",
       "│ Patient/1cf9e585-8…  │ Encounter/36ad3455-d2af-514b-ac…  │ 2192-05-12 09:31:00 │ 2192-05-13 00:55:45 │ WHITE         │\n",
       "│ Patient/1cf9e585-8…  │ Encounter/773e67cd-ddae-55e2-b4…  │ 2186-09-15 17:15:00 │ 2186-09-16 11:17:40 │ WHITE         │\n",
       "│ Patient/22a3e422-6…  │ Encounter/ffce7398-83de-5c56-83…  │ 2172-03-13 01:46:00 │ 2172-03-13 16:33:34 │ WHITE         │\n",
       "│ Patient/23069939-0…  │ Encounter/3f2a8762-541c-5951-87…  │ 2114-06-20 09:32:58 │ 2114-06-21 13:47:44 │ WHITE         │\n",
       "│          ·           │                 ·                 │          ·          │          ·          │   ·           │\n",
       "│          ·           │                 ·                 │          ·          │          ·          │   ·           │\n",
       "│          ·           │                 ·                 │          ·          │          ·          │   ·           │\n",
       "│ Patient/e5408569-9…  │ Encounter/fbcd439d-4b80-5584-ac…  │ 2153-02-13 01:38:00 │ 2153-02-15 15:00:57 │ WHITE         │\n",
       "│ Patient/e635f2dd-a…  │ Encounter/9bc8847f-f587-58e3-99…  │ 2187-07-29 09:41:11 │ 2187-07-30 13:42:51 │ WHITE         │\n",
       "│ Patient/f3fc719c-f…  │ Encounter/99ef446d-7e71-54b3-b8…  │ 2125-02-27 10:03:08 │ 2125-03-01 21:21:37 │ WHITE         │\n",
       "│ Patient/f572075b-1…  │ Encounter/88df0619-e6cd-5900-bb…  │ 2125-09-25 13:23:24 │ 2125-09-30 18:54:33 │ WHITE         │\n",
       "│ Patient/f5a99b42-3…  │ Encounter/ab155bff-0d10-53e8-8e…  │ 2177-03-24 21:48:07 │ 2177-03-29 18:03:36 │ WHITE         │\n",
       "│ Patient/f5a99b42-3…  │ Encounter/dfaa84fc-1104-50a7-85…  │ 2176-11-19 14:24:52 │ 2176-11-20 19:18:13 │ WHITE         │\n",
       "│ Patient/f5a99b42-3…  │ Encounter/fe9b006e-e9db-562e-a2…  │ 2176-12-22 16:24:33 │ 2176-12-23 20:14:53 │ WHITE         │\n",
       "│ Patient/f77a5b72-6…  │ Encounter/b34e83f0-863c-533f-a5…  │ 2176-11-26 02:34:49 │ 2176-11-29 20:58:54 │ BLACK         │\n",
       "│ Patient/fa5fbf9c-2…  │ Encounter/042aabd7-5383-5531-ac…  │ 2177-07-14 20:38:00 │ 2177-07-15 16:08:36 │ WHITE         │\n",
       "│ Patient/fa5fbf9c-2…  │ Encounter/e7c2a847-825a-5434-b7…  │ 2178-12-21 06:05:18 │ 2178-12-22 02:16:08 │ WHITE         │\n",
       "├──────────────────────┴───────────────────────────────────┴─────────────────────┴─────────────────────┴───────────────┤\n",
       "│ 119 rows (20 shown)                                                                                        5 columns │\n",
       "└──────────────────────────────────────────────────────────────────────────────────────────────────────────────────────┘"
      ]
     },
     "execution_count": 17,
     "metadata": {},
     "output_type": "execute_result"
    }
   ],
   "execution_count": 17
  },
  {
   "metadata": {
    "ExecuteTime": {
     "end_time": "2024-09-02T07:04:08.742767Z",
     "start_time": "2024-09-02T07:04:08.726688Z"
    }
   },
   "cell_type": "code",
   "source": [
    "# Make sure that all encounters are unique\n",
    "duckdb.sql(\"\"\"\n",
    "SELECT stay_id, COUNT(*) as patient_count FROM patient_with_race GROUP BY stay_id HAVING COUNT(*) > 1\n",
    "\"\"\")"
   ],
   "id": "bb9e344d1369dc29",
   "outputs": [
    {
     "data": {
      "text/plain": [
       "┌─────────┬───────────────┐\n",
       "│ stay_id │ patient_count │\n",
       "│ varchar │     int64     │\n",
       "├─────────┴───────────────┤\n",
       "│         0 rows          │\n",
       "└─────────────────────────┘"
      ]
     },
     "execution_count": 20,
     "metadata": {},
     "output_type": "execute_result"
    }
   ],
   "execution_count": 20
  },
  {
   "metadata": {
    "ExecuteTime": {
     "end_time": "2024-09-02T07:04:16.414865Z",
     "start_time": "2024-09-02T07:04:16.396531Z"
    }
   },
   "cell_type": "code",
   "source": [
    "# Make sure that patients are unique\n",
    "duckdb.sql(\"\"\"\n",
    "SELECT COUNT(*) FROM patient_with_race\n",
    "\"\"\")"
   ],
   "id": "2c3f6d5ad02ed58e",
   "outputs": [
    {
     "data": {
      "text/plain": [
       "┌──────────────┐\n",
       "│ count_star() │\n",
       "│    int64     │\n",
       "├──────────────┤\n",
       "│          119 │\n",
       "└──────────────┘"
      ]
     },
     "execution_count": 21,
     "metadata": {},
     "output_type": "execute_result"
    }
   ],
   "execution_count": 21
  },
  {
   "metadata": {
    "ExecuteTime": {
     "end_time": "2024-09-02T07:06:53.144991Z",
     "start_time": "2024-09-02T07:06:53.140135Z"
    }
   },
   "cell_type": "code",
   "source": [
    "# Compute patients index period and select valid parient\n",
    "# stays_with_interventions = duckdb.sql(\"\"\"\n",
    "# WITH first_vent_intervention AS (\n",
    "#     SELECT stay_id, MIN(starttime) as  starttime FROM mimiciv_derived.ventilation\n",
    "#     WHERE ventilation_status NOT in ('None', 'SupplementalOxygen') GROUP BY stay_id)\n",
    "# SELECT pwr.*,v.* FROM patient_with_race AS pwr\n",
    "# LEFT OUTER JOIN first_vent_intervention AS v ON pwr.stay_id = v.stay_id\n",
    "# \"\"\")\n",
    "# patient_with_index_period=duckdb.sql(\"\"\"\n",
    "# WITH patient_with_period AS (SELECT subject_id, stay_id, race_category, \n",
    "# icu_intime AS ip_starttime, \n",
    "# LEAST(icu_outtime, starttime, icu_intime + interval '5 days') AS ip_endtime FROM stays_with_interventions)\n",
    "# SELECT *,(ip_endtime-ip_starttime) AS ip_duration FROM patient_with_period \n",
    "# WHERE (ip_endtime-ip_starttime) >= interval '12 hours'\n",
    "# \"\"\")\n",
    "# patient_with_index_period\n",
    "\n",
    "# TODO: join the ventilation table\n",
    "patient_with_index_period=duckdb.sql(\"\"\"\n",
    "WITH patient_with_period AS (SELECT subject_id, stay_id, race_category, \n",
    "icu_intime AS ip_starttime, \n",
    "LEAST(icu_outtime, icu_intime + interval '5 days') AS ip_endtime FROM patient_with_race)\n",
    "SELECT *,(ip_endtime-ip_starttime) AS ip_duration FROM patient_with_period \n",
    "WHERE (ip_endtime-ip_starttime) >= interval '12 hours'\n",
    "\"\"\")\n",
    "patient_with_index_period.show()"
   ],
   "id": "4ab4053626bb4bd4",
   "outputs": [
    {
     "name": "stdout",
     "output_type": "stream",
     "text": [
      "┌──────────────────────┬──────────────────────┬───────────────┬───┬─────────────────────┬─────────────────┐\n",
      "│      subject_id      │       stay_id        │ race_category │ … │     ip_endtime      │   ip_duration   │\n",
      "│       varchar        │       varchar        │    varchar    │   │      timestamp      │    interval     │\n",
      "├──────────────────────┼──────────────────────┼───────────────┼───┼─────────────────────┼─────────────────┤\n",
      "│ Patient/0c2243d2-9…  │ Encounter/31c84afa…  │ WHITE         │ … │ 2149-10-04 17:48:36 │ 2 days 05:00:28 │\n",
      "│ Patient/13df78e7-1…  │ Encounter/a50796c8…  │ WHITE         │ … │ 2177-03-15 22:47:09 │ 16:57:43        │\n",
      "│ Patient/158f3a39-e…  │ Encounter/497d61a0…  │ WHITE         │ … │ 2144-11-02 15:24:29 │ 3 days 16:15:26 │\n",
      "│ Patient/1ab119a5-a…  │ Encounter/13a20e28…  │ WHITE         │ … │ 2148-09-15 13:19:00 │ 5 days          │\n",
      "│ Patient/1bb918ba-e…  │ Encounter/c0229b65…  │ BLACK         │ … │ 2143-03-25 15:05:33 │ 3 days 08:23:33 │\n",
      "│ Patient/1cf9e585-8…  │ Encounter/36ad3455…  │ WHITE         │ … │ 2192-05-13 00:55:45 │ 15:24:45        │\n",
      "│ Patient/1cf9e585-8…  │ Encounter/773e67cd…  │ WHITE         │ … │ 2186-09-16 11:17:40 │ 18:02:40        │\n",
      "│ Patient/22a3e422-6…  │ Encounter/ffce7398…  │ WHITE         │ … │ 2172-03-13 16:33:34 │ 14:47:34        │\n",
      "│ Patient/23069939-0…  │ Encounter/3f2a8762…  │ WHITE         │ … │ 2114-06-21 13:47:44 │ 1 day 04:14:46  │\n",
      "│ Patient/23f959c1-6…  │ Encounter/e2894e68…  │ WHITE         │ … │ 2187-02-15 20:34:00 │ 5 days          │\n",
      "│          ·           │          ·           │   ·           │ · │          ·          │   ·             │\n",
      "│          ·           │          ·           │   ·           │ · │          ·          │   ·             │\n",
      "│          ·           │          ·           │   ·           │ · │          ·          │   ·             │\n",
      "│ Patient/e5408569-9…  │ Encounter/fbcd439d…  │ WHITE         │ … │ 2153-02-15 15:00:57 │ 2 days 13:22:57 │\n",
      "│ Patient/e635f2dd-a…  │ Encounter/9bc8847f…  │ WHITE         │ … │ 2187-07-30 13:42:51 │ 1 day 04:01:40  │\n",
      "│ Patient/f3fc719c-f…  │ Encounter/99ef446d…  │ WHITE         │ … │ 2125-03-01 21:21:37 │ 2 days 11:18:29 │\n",
      "│ Patient/f572075b-1…  │ Encounter/88df0619…  │ WHITE         │ … │ 2125-09-30 13:23:24 │ 5 days          │\n",
      "│ Patient/f5a99b42-3…  │ Encounter/ab155bff…  │ WHITE         │ … │ 2177-03-29 18:03:36 │ 4 days 20:15:29 │\n",
      "│ Patient/f5a99b42-3…  │ Encounter/dfaa84fc…  │ WHITE         │ … │ 2176-11-20 19:18:13 │ 1 day 04:53:21  │\n",
      "│ Patient/f5a99b42-3…  │ Encounter/fe9b006e…  │ WHITE         │ … │ 2176-12-23 20:14:53 │ 1 day 03:50:20  │\n",
      "│ Patient/f77a5b72-6…  │ Encounter/b34e83f0…  │ BLACK         │ … │ 2176-11-29 20:58:54 │ 3 days 18:24:05 │\n",
      "│ Patient/fa5fbf9c-2…  │ Encounter/042aabd7…  │ WHITE         │ … │ 2177-07-15 16:08:36 │ 19:30:36        │\n",
      "│ Patient/fa5fbf9c-2…  │ Encounter/e7c2a847…  │ WHITE         │ … │ 2178-12-22 02:16:08 │ 20:10:50        │\n",
      "├──────────────────────┴──────────────────────┴───────────────┴───┴─────────────────────┴─────────────────┤\n",
      "│ 116 rows (20 shown)                                                                 6 columns (5 shown) │\n",
      "└─────────────────────────────────────────────────────────────────────────────────────────────────────────┘\n",
      "\n"
     ]
    }
   ],
   "execution_count": 24
  },
  {
   "metadata": {
    "ExecuteTime": {
     "end_time": "2024-09-02T07:06:37.154538Z",
     "start_time": "2024-09-02T07:06:37.142364Z"
    }
   },
   "cell_type": "code",
   "source": [
    "duckdb.sql(\"\"\"\n",
    "SELECT COUNT( subject_id) FROM patient_with_index_period\n",
    "\"\"\")"
   ],
   "id": "d7714bc665a4ccff",
   "outputs": [
    {
     "data": {
      "text/plain": [
       "┌───────────────────┐\n",
       "│ count(subject_id) │\n",
       "│       int64       │\n",
       "├───────────────────┤\n",
       "│               116 │\n",
       "└───────────────────┘"
      ]
     },
     "execution_count": 23,
     "metadata": {},
     "output_type": "execute_result"
    }
   ],
   "execution_count": 23
  },
  {
   "metadata": {
    "ExecuteTime": {
     "end_time": "2024-08-27T05:49:38.464967Z",
     "start_time": "2024-08-27T05:49:38.340527Z"
    }
   },
   "cell_type": "code",
   "source": [
    "patients_with_flow = duckdb.sql(\"\"\"\n",
    "SELECT pwr.subject_id, pwr.race_category,od.charttime as flow_time, od.o2_flow FROM patient_with_index_period AS pwr\n",
    "JOIN mimiciv_derived.oxygen_delivery AS od ON  pwr.stay_id = od.stay_id\n",
    "WHERE od.o2_delivery_device_1 = 'Nasal cannula' AND od.charttime BETWEEN pwr.ip_starttime AND pwr.ip_endtime AND od.o2_flow IS NOT NULL\n",
    "ORDER BY pwr.subject_id, od.charttime\n",
    "\"\"\")\n",
    "patients_with_flow"
   ],
   "id": "333733e34d2fac93",
   "outputs": [
    {
     "data": {
      "text/plain": [
       "┌────────────┬───────────────┬─────────────────────┬─────────┐\n",
       "│ subject_id │ race_category │      flow_time      │ o2_flow │\n",
       "│   int32    │    varchar    │      timestamp      │ double  │\n",
       "├────────────┼───────────────┼─────────────────────┼─────────┤\n",
       "│   10001217 │ WHITE         │ 2157-11-20 19:47:00 │     2.0 │\n",
       "│   10001217 │ WHITE         │ 2157-11-20 22:00:00 │     2.0 │\n",
       "│   10001217 │ WHITE         │ 2157-11-21 00:00:00 │     2.0 │\n",
       "│   10001217 │ WHITE         │ 2157-11-21 02:00:00 │     2.0 │\n",
       "│   10001217 │ WHITE         │ 2157-11-21 08:00:00 │     2.0 │\n",
       "│   10001217 │ WHITE         │ 2157-11-21 18:00:00 │     3.0 │\n",
       "│   10001217 │ WHITE         │ 2157-11-21 20:00:00 │     4.0 │\n",
       "│   10001725 │ WHITE         │ 2110-04-11 16:07:00 │     2.0 │\n",
       "│   10001725 │ WHITE         │ 2110-04-11 20:00:00 │     2.0 │\n",
       "│   10001725 │ WHITE         │ 2110-04-12 02:00:00 │     2.0 │\n",
       "│       ·    │   ·           │          ·          │      ·  │\n",
       "│       ·    │   ·           │          ·          │      ·  │\n",
       "│       ·    │   ·           │          ·          │      ·  │\n",
       "│   10828138 │ WHITE         │ 2154-10-11 04:00:00 │     4.0 │\n",
       "│   10828138 │ WHITE         │ 2154-10-11 08:00:00 │     4.0 │\n",
       "│   10828138 │ WHITE         │ 2154-10-11 11:00:00 │     2.0 │\n",
       "│   10828209 │ WHITE         │ 2114-11-05 04:32:00 │     3.0 │\n",
       "│   10828209 │ WHITE         │ 2114-11-06 00:00:00 │     4.0 │\n",
       "│   10828209 │ WHITE         │ 2114-11-06 04:00:00 │     4.0 │\n",
       "│   10828209 │ WHITE         │ 2114-11-06 08:00:00 │     4.0 │\n",
       "│   10828209 │ WHITE         │ 2114-11-06 12:00:00 │     4.0 │\n",
       "│   10828209 │ WHITE         │ 2114-11-06 16:00:00 │     4.0 │\n",
       "│   10828209 │ WHITE         │ 2114-11-06 20:00:00 │     3.0 │\n",
       "├────────────┴───────────────┴─────────────────────┴─────────┤\n",
       "│ ? rows (>9999 rows, 20 shown)                    4 columns │\n",
       "└────────────────────────────────────────────────────────────┘"
      ]
     },
     "execution_count": 10,
     "metadata": {},
     "output_type": "execute_result"
    }
   ],
   "execution_count": 10
  },
  {
   "metadata": {
    "ExecuteTime": {
     "end_time": "2024-08-27T05:49:38.605686Z",
     "start_time": "2024-08-27T05:49:38.465597Z"
    }
   },
   "cell_type": "code",
   "source": [
    "duckdb.sql(\"\"\"\n",
    "SELECT subject_id, COUNT(*) AS flow_count FROM patients_with_flow GROUP BY subject_id ORDER BY flow_count DESC\n",
    "\"\"\")"
   ],
   "id": "1ef8c57f8a3c84dc",
   "outputs": [
    {
     "data": {
      "text/plain": [
       "┌────────────┬────────────┐\n",
       "│ subject_id │ flow_count │\n",
       "│   int32    │   int64    │\n",
       "├────────────┼────────────┤\n",
       "│   17552487 │         48 │\n",
       "│   18679942 │         44 │\n",
       "│   13280145 │         43 │\n",
       "│   11153132 │         43 │\n",
       "│   15022555 │         42 │\n",
       "│   12806413 │         41 │\n",
       "│   19717191 │         40 │\n",
       "│   18881392 │         40 │\n",
       "│   19411951 │         40 │\n",
       "│   19203810 │         39 │\n",
       "│       ·    │          · │\n",
       "│       ·    │          · │\n",
       "│       ·    │          · │\n",
       "│   13063120 │          4 │\n",
       "│   13063188 │          4 │\n",
       "│   13070694 │          4 │\n",
       "│   13071437 │          4 │\n",
       "│   13111904 │          4 │\n",
       "│   13115577 │          4 │\n",
       "│   13218150 │          4 │\n",
       "│   13219116 │          4 │\n",
       "│   13238473 │          4 │\n",
       "│   13262317 │          4 │\n",
       "├────────────┴────────────┤\n",
       "│ ? rows        2 columns │\n",
       "└─────────────────────────┘"
      ]
     },
     "execution_count": 11,
     "metadata": {},
     "output_type": "execute_result"
    }
   ],
   "execution_count": 11
  },
  {
   "metadata": {
    "ExecuteTime": {
     "end_time": "2024-08-27T05:49:38.608037Z",
     "start_time": "2024-08-27T05:49:38.606215Z"
    }
   },
   "cell_type": "code",
   "source": [
    "# Save the data\n",
    "#patients_with_flow.to_csv('../data/patients_with_flow.csv')"
   ],
   "id": "309c0a31e7625a27",
   "outputs": [],
   "execution_count": 12
  },
  {
   "metadata": {},
   "cell_type": "markdown",
   "source": "### Sp02",
   "id": "b8b2e7f63e74d192"
  },
  {
   "metadata": {
    "ExecuteTime": {
     "end_time": "2024-08-27T05:49:39.136825Z",
     "start_time": "2024-08-27T05:49:38.608667Z"
    }
   },
   "cell_type": "code",
   "source": [
    "patients_with_spo2 = duckdb.sql(\"\"\"\n",
    "SELECT pwr.subject_id, pwr.race_category,vs.charttime as read_time, vs.spo2 FROM patient_with_index_period AS pwr\n",
    "JOIN mimiciv_derived.vitalsign AS vs ON  pwr.stay_id = vs.stay_id\n",
    "WHERE vs.charttime BETWEEN pwr.ip_starttime AND pwr.ip_endtime AND vs.spo2 IS NOT NULL\n",
    "ORDER BY pwr.subject_id, vs.charttime\n",
    "\"\"\")\n",
    "patients_with_spo2"
   ],
   "id": "83a7067d7c69214c",
   "outputs": [
    {
     "data": {
      "text/plain": [
       "┌────────────┬───────────────┬─────────────────────┬────────┐\n",
       "│ subject_id │ race_category │      read_time      │  spo2  │\n",
       "│   int32    │    varchar    │      timestamp      │ double │\n",
       "├────────────┼───────────────┼─────────────────────┼────────┤\n",
       "│   10001217 │ WHITE         │ 2157-11-20 19:19:00 │   99.0 │\n",
       "│   10001217 │ WHITE         │ 2157-11-20 20:00:00 │   98.0 │\n",
       "│   10001217 │ WHITE         │ 2157-11-20 21:00:00 │   98.0 │\n",
       "│   10001217 │ WHITE         │ 2157-11-20 22:00:00 │   95.0 │\n",
       "│   10001217 │ WHITE         │ 2157-11-20 23:00:00 │   98.0 │\n",
       "│   10001217 │ WHITE         │ 2157-11-21 00:00:00 │   94.0 │\n",
       "│   10001217 │ WHITE         │ 2157-11-21 01:00:00 │   93.0 │\n",
       "│   10001217 │ WHITE         │ 2157-11-21 02:00:00 │   98.0 │\n",
       "│   10001217 │ WHITE         │ 2157-11-21 03:00:00 │   98.0 │\n",
       "│   10001217 │ WHITE         │ 2157-11-21 04:00:00 │   98.0 │\n",
       "│       ·    │   ·           │          ·          │     ·  │\n",
       "│       ·    │   ·           │          ·          │     ·  │\n",
       "│       ·    │   ·           │          ·          │     ·  │\n",
       "│   10078723 │ WHITE         │ 2161-10-29 05:00:00 │   94.0 │\n",
       "│   10078723 │ WHITE         │ 2161-10-29 06:00:00 │   90.0 │\n",
       "│   10078723 │ WHITE         │ 2161-10-29 07:00:00 │   93.0 │\n",
       "│   10078723 │ WHITE         │ 2161-10-29 08:00:00 │   96.0 │\n",
       "│   10078723 │ WHITE         │ 2161-10-29 09:00:00 │  100.0 │\n",
       "│   10078723 │ WHITE         │ 2161-10-29 10:00:00 │   99.0 │\n",
       "│   10078723 │ WHITE         │ 2161-10-29 11:01:00 │   99.0 │\n",
       "│   10078723 │ WHITE         │ 2161-10-29 12:00:00 │   98.0 │\n",
       "│   10078723 │ WHITE         │ 2161-10-29 13:00:00 │   99.0 │\n",
       "│   10078933 │ WHITE         │ 2137-04-05 22:06:00 │   99.0 │\n",
       "├────────────┴───────────────┴─────────────────────┴────────┤\n",
       "│ ? rows (>9999 rows, 20 shown)                   4 columns │\n",
       "└───────────────────────────────────────────────────────────┘"
      ]
     },
     "execution_count": 13,
     "metadata": {},
     "output_type": "execute_result"
    }
   ],
   "execution_count": 13
  },
  {
   "metadata": {
    "ExecuteTime": {
     "end_time": "2024-08-27T05:49:39.319410Z",
     "start_time": "2024-08-27T05:49:39.138887Z"
    }
   },
   "cell_type": "code",
   "source": [
    "patients_with_so2 = duckdb.sql(\"\"\"\n",
    "SELECT pwr.subject_id, pwr.race_category,bg.charttime as read_time, bg.so2 FROM patient_with_index_period AS pwr\n",
    "JOIN mimiciv_derived.bg AS bg ON  pwr.subject_id = bg.subject_id\n",
    "WHERE bg.charttime BETWEEN pwr.ip_starttime AND pwr.ip_endtime AND bg.so2 IS NOT NULL AND bg.specimen = 'ART.'\n",
    "ORDER BY pwr.subject_id, bg.charttime\n",
    "\"\"\")\n",
    "patients_with_so2"
   ],
   "id": "eee4188b9a27ad1f",
   "outputs": [
    {
     "data": {
      "text/plain": [
       "┌────────────┬───────────────┬─────────────────────┬────────┐\n",
       "│ subject_id │ race_category │      read_time      │  so2   │\n",
       "│   int32    │    varchar    │      timestamp      │ double │\n",
       "├────────────┼───────────────┼─────────────────────┼────────┤\n",
       "│   10002155 │ WHITE         │ 2129-08-05 07:48:00 │   94.0 │\n",
       "│   10002443 │ WHITE         │ 2183-10-18 02:35:00 │   90.0 │\n",
       "│   10004401 │ WHITE         │ 2144-01-27 02:39:00 │   95.0 │\n",
       "│   10005817 │ WHITE         │ 2132-12-15 16:34:00 │   97.0 │\n",
       "│   10005817 │ WHITE         │ 2132-12-15 18:47:00 │   97.0 │\n",
       "│   10005817 │ WHITE         │ 2132-12-15 20:20:00 │   95.0 │\n",
       "│   10008454 │ WHITE         │ 2110-12-03 11:51:00 │   88.0 │\n",
       "│   10008454 │ WHITE         │ 2110-12-03 13:05:00 │   98.0 │\n",
       "│   10013049 │ WHITE         │ 2114-06-20 12:57:00 │   96.0 │\n",
       "│   10013569 │ WHITE         │ 2167-11-29 09:34:00 │   93.0 │\n",
       "│       ·    │   ·           │          ·          │     ·  │\n",
       "│       ·    │   ·           │          ·          │     ·  │\n",
       "│       ·    │   ·           │          ·          │     ·  │\n",
       "│   19983257 │ WHITE         │ 2166-01-11 05:07:00 │   89.0 │\n",
       "│   19983257 │ WHITE         │ 2166-01-11 09:34:00 │   93.0 │\n",
       "│   19983257 │ WHITE         │ 2166-01-11 12:51:00 │   93.0 │\n",
       "│   19983257 │ WHITE         │ 2166-01-11 16:28:00 │   87.0 │\n",
       "│   19983257 │ WHITE         │ 2166-01-12 00:20:00 │   96.0 │\n",
       "│   19983257 │ WHITE         │ 2166-01-12 06:08:00 │   92.0 │\n",
       "│   19984259 │ WHITE         │ 2153-11-30 20:14:00 │   96.0 │\n",
       "│   19984259 │ WHITE         │ 2153-12-01 00:51:00 │   95.0 │\n",
       "│   19984259 │ WHITE         │ 2153-12-01 03:26:00 │   98.0 │\n",
       "│   19984259 │ WHITE         │ 2153-12-01 09:40:00 │   94.0 │\n",
       "├────────────┴───────────────┴─────────────────────┴────────┤\n",
       "│ 3419 rows (20 shown)                            4 columns │\n",
       "└───────────────────────────────────────────────────────────┘"
      ]
     },
     "execution_count": 14,
     "metadata": {},
     "output_type": "execute_result"
    }
   ],
   "execution_count": 14
  },
  {
   "metadata": {
    "ExecuteTime": {
     "end_time": "2024-08-27T05:49:40.610399Z",
     "start_time": "2024-08-27T05:49:39.319989Z"
    }
   },
   "cell_type": "code",
   "source": [
    "# Save the data\n",
    "patients_with_spo2.to_csv('../data/patients_with_spo2.csv')\n",
    "patients_with_so2.to_csv('../data/patients_with_so2.csv')"
   ],
   "id": "35dd85cd0c8db042",
   "outputs": [],
   "execution_count": 15
  },
  {
   "metadata": {
    "ExecuteTime": {
     "end_time": "2024-08-27T05:49:40.612099Z",
     "start_time": "2024-08-27T05:49:40.610999Z"
    }
   },
   "cell_type": "code",
   "source": "",
   "id": "40b1e41aef03f490",
   "outputs": [],
   "execution_count": 15
  }
 ],
 "metadata": {
  "kernelspec": {
   "display_name": "Python 3",
   "language": "python",
   "name": "python3"
  },
  "language_info": {
   "codemirror_mode": {
    "name": "ipython",
    "version": 2
   },
   "file_extension": ".py",
   "mimetype": "text/x-python",
   "name": "python",
   "nbconvert_exporter": "python",
   "pygments_lexer": "ipython2",
   "version": "2.7.6"
  }
 },
 "nbformat": 4,
 "nbformat_minor": 5
}
